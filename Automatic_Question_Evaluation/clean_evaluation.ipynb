{
 "cells": [
  {
   "cell_type": "markdown",
   "metadata": {},
   "source": [
    "#### The purpose of this is to turn GPT-4 classifications into binary data for automated comparison to human evaluation "
   ]
  },
  {
   "cell_type": "code",
   "execution_count": 1,
   "metadata": {},
   "outputs": [],
   "source": [
    "import pandas as pd"
   ]
  },
  {
   "cell_type": "code",
   "execution_count": 5,
   "metadata": {},
   "outputs": [],
   "source": [
    "columns = [\n",
    "    'question',\n",
    "    'gramatical_accuracy',\n",
    "    'ambiguous_or_unclear',\n",
    "    'gratuitous_information',\n",
    "    'pedagogical_value',\n",
    "    'covers_key_concept',\n",
    "    'concept_covered',\n",
    "    'question_grade'\n",
    "]\n",
    "df = pd.read_csv('gpt-4_results.csv', usecols=columns)"
   ]
  },
  {
   "cell_type": "code",
   "execution_count": 8,
   "metadata": {},
   "outputs": [],
   "source": [
    "def text_to_binary(text):\n",
    "    if text.startswith(\"Yes\"):\n",
    "        return 1\n",
    "    elif text.startswith(\"No\"):\n",
    "        return 0\n",
    "    else:\n",
    "        return text\n",
    "def grade_to_int(text):\n",
    "    if text.startswith(\"Good\"):\n",
    "        return 2\n",
    "    elif text.startswith(\"Fair\"):\n",
    "        return 1\n",
    "    elif text.startswith(\"Poor\"):\n",
    "        return 0\n",
    "    else:\n",
    "        return text    \n",
    "\n",
    "\n",
    "# Apply the custom function to the 'text_column'\n",
    "df['gramatical_accuracy'] = df['gramatical_accuracy'].apply(text_to_binary)\n",
    "df['ambiguous_or_unclear'] = df['ambiguous_or_unclear'].apply(text_to_binary)\n",
    "df['gratuitous_information'] = df['gratuitous_information'].apply(text_to_binary)\n",
    "df['pedagogical_value'] = df['pedagogical_value'].apply(text_to_binary)\n",
    "df['covers_key_concept'] = df['covers_key_concept'].apply(text_to_binary)\n",
    "df['question_grade'] = df['question_grade'].apply(grade_to_int)"
   ]
  },
  {
   "cell_type": "code",
   "execution_count": 12,
   "metadata": {},
   "outputs": [],
   "source": [
    "df.to_csv('gpt-4_results_clean.csv', index=False)"
   ]
  }
 ],
 "metadata": {
  "kernelspec": {
   "display_name": "Python 3",
   "language": "python",
   "name": "python3"
  },
  "language_info": {
   "codemirror_mode": {
    "name": "ipython",
    "version": 3
   },
   "file_extension": ".py",
   "mimetype": "text/x-python",
   "name": "python",
   "nbconvert_exporter": "python",
   "pygments_lexer": "ipython3",
   "version": "3.10.10"
  }
 },
 "nbformat": 4,
 "nbformat_minor": 2
}
