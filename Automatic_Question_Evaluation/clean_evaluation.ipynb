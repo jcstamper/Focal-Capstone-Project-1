{
 "cells": [
  {
   "cell_type": "markdown",
   "metadata": {},
   "source": [
    "#### The purpose of this is to turn GPT-4 classifications into binary data for automated comparison to human evaluation "
   ]
  },
  {
   "cell_type": "code",
   "execution_count": 1,
   "metadata": {},
   "outputs": [],
   "source": [
    "import pandas as pd"
   ]
  },
  {
   "cell_type": "code",
   "execution_count": 2,
   "metadata": {},
   "outputs": [],
   "source": [
    "columns = [\n",
    "    'question',\n",
    "    'gramatical_accuracy',\n",
    "    'ambiguous_or_unclear',\n",
    "    'gratuitous_information',\n",
    "    'pedagogical_value',\n",
    "    'covers_key_concept',\n",
    "    'concept_covered',\n",
    "    'question_grade'\n",
    "]\n",
    "df = pd.read_csv('gpt-4_fcds_results.csv', usecols=columns)"
   ]
  },
  {
   "cell_type": "code",
   "execution_count": 3,
   "metadata": {},
   "outputs": [],
   "source": [
    "def text_to_binary(text):\n",
    "    if text.startswith(\"Yes\"):\n",
    "        return 1\n",
    "    elif text.startswith(\"No\"):\n",
    "        return 0\n",
    "    else:\n",
    "        return text\n",
    "def grade_to_int(text):\n",
    "    if text.startswith(\"Good\"):\n",
    "        return 2\n",
    "    elif text.startswith(\"Fair\"):\n",
    "        return 1\n",
    "    elif text.startswith(\"Poor\"):\n",
    "        return 0\n",
    "    else:\n",
    "        return text    \n",
    "\n",
    "\n",
    "# Apply the custom function to the 'text_column'\n",
    "df['gramatical_accuracy'] = df['gramatical_accuracy'].apply(text_to_binary)\n",
    "df['ambiguous_or_unclear'] = df['ambiguous_or_unclear'].apply(text_to_binary)\n",
    "df['gratuitous_information'] = df['gratuitous_information'].apply(text_to_binary)\n",
    "df['pedagogical_value'] = df['pedagogical_value'].apply(text_to_binary)\n",
    "df['covers_key_concept'] = df['covers_key_concept'].apply(text_to_binary)\n",
    "df['question_grade'] = df['question_grade'].apply(grade_to_int)"
   ]
  },
  {
   "cell_type": "code",
   "execution_count": 4,
   "metadata": {},
   "outputs": [],
   "source": [
    "df.to_csv('gpt-4_results_fcds_clean.csv', index=False)"
   ]
  },
  {
   "cell_type": "code",
   "execution_count": 6,
   "metadata": {},
   "outputs": [
    {
     "data": {
      "text/html": [
       "<div>\n",
       "<style scoped>\n",
       "    .dataframe tbody tr th:only-of-type {\n",
       "        vertical-align: middle;\n",
       "    }\n",
       "\n",
       "    .dataframe tbody tr th {\n",
       "        vertical-align: top;\n",
       "    }\n",
       "\n",
       "    .dataframe thead th {\n",
       "        text-align: right;\n",
       "    }\n",
       "</style>\n",
       "<table border=\"1\" class=\"dataframe\">\n",
       "  <thead>\n",
       "    <tr style=\"text-align: right;\">\n",
       "      <th></th>\n",
       "      <th>question</th>\n",
       "      <th>gramatical_accuracy</th>\n",
       "      <th>ambiguous_or_unclear</th>\n",
       "      <th>gratuitous_information</th>\n",
       "      <th>pedagogical_value</th>\n",
       "      <th>covers_key_concept</th>\n",
       "      <th>concept_covered</th>\n",
       "      <th>question_grade</th>\n",
       "    </tr>\n",
       "  </thead>\n",
       "  <tbody>\n",
       "    <tr>\n",
       "      <th>0</th>\n",
       "      <td>. Expected Model Change: How does the expected...</td>\n",
       "      <td>1</td>\n",
       "      <td>0</td>\n",
       "      <td>1</td>\n",
       "      <td>0</td>\n",
       "      <td>1</td>\n",
       "      <td>The concept of Expected Model Change: This app...</td>\n",
       "      <td>2</td>\n",
       "    </tr>\n",
       "    <tr>\n",
       "      <th>1</th>\n",
       "      <td>. What are some measurable metrics used to ass...</td>\n",
       "      <td>1</td>\n",
       "      <td>1</td>\n",
       "      <td>1</td>\n",
       "      <td>0</td>\n",
       "      <td>0</td>\n",
       "      <td>The concept most closely related to the questi...</td>\n",
       "      <td>2</td>\n",
       "    </tr>\n",
       "    <tr>\n",
       "      <th>2</th>\n",
       "      <td>. What is the significance of completed transa...</td>\n",
       "      <td>1</td>\n",
       "      <td>1</td>\n",
       "      <td>1</td>\n",
       "      <td>0</td>\n",
       "      <td>1</td>\n",
       "      <td>The concept most closely related to the questi...</td>\n",
       "      <td>2</td>\n",
       "    </tr>\n",
       "    <tr>\n",
       "      <th>3</th>\n",
       "      <td>What are the effects of trade-offs within a m...</td>\n",
       "      <td>1</td>\n",
       "      <td>1</td>\n",
       "      <td>1</td>\n",
       "      <td>0</td>\n",
       "      <td>0</td>\n",
       "      <td>Trade-offs: The ability of a data scientist to...</td>\n",
       "      <td>2</td>\n",
       "    </tr>\n",
       "    <tr>\n",
       "      <th>4</th>\n",
       "      <td>What is the process of testing and validating...</td>\n",
       "      <td>1</td>\n",
       "      <td>0</td>\n",
       "      <td>1</td>\n",
       "      <td>0</td>\n",
       "      <td>1</td>\n",
       "      <td>The concept most closely related to the questi...</td>\n",
       "      <td>2</td>\n",
       "    </tr>\n",
       "  </tbody>\n",
       "</table>\n",
       "</div>"
      ],
      "text/plain": [
       "                                            question  gramatical_accuracy  \\\n",
       "0  . Expected Model Change: How does the expected...                    1   \n",
       "1  . What are some measurable metrics used to ass...                    1   \n",
       "2  . What is the significance of completed transa...                    1   \n",
       "3   What are the effects of trade-offs within a m...                    1   \n",
       "4   What is the process of testing and validating...                    1   \n",
       "\n",
       "   ambiguous_or_unclear  gratuitous_information  pedagogical_value  \\\n",
       "0                     0                       1                  0   \n",
       "1                     1                       1                  0   \n",
       "2                     1                       1                  0   \n",
       "3                     1                       1                  0   \n",
       "4                     0                       1                  0   \n",
       "\n",
       "   covers_key_concept                                    concept_covered  \\\n",
       "0                   1  The concept of Expected Model Change: This app...   \n",
       "1                   0  The concept most closely related to the questi...   \n",
       "2                   1  The concept most closely related to the questi...   \n",
       "3                   0  Trade-offs: The ability of a data scientist to...   \n",
       "4                   1  The concept most closely related to the questi...   \n",
       "\n",
       "   question_grade  \n",
       "0               2  \n",
       "1               2  \n",
       "2               2  \n",
       "3               2  \n",
       "4               2  "
      ]
     },
     "metadata": {},
     "output_type": "display_data"
    }
   ],
   "source": [
    "display(df.head())"
   ]
  }
 ],
 "metadata": {
  "kernelspec": {
   "display_name": "Python 3",
   "language": "python",
   "name": "python3"
  },
  "language_info": {
   "codemirror_mode": {
    "name": "ipython",
    "version": 3
   },
   "file_extension": ".py",
   "mimetype": "text/x-python",
   "name": "python",
   "nbconvert_exporter": "python",
   "pygments_lexer": "ipython3",
   "version": "3.10.10"
  }
 },
 "nbformat": 4,
 "nbformat_minor": 2
}
