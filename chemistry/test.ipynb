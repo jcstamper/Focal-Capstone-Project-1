{
 "cells": [
  {
   "cell_type": "code",
   "execution_count": 28,
   "metadata": {},
   "outputs": [],
   "source": [
    "urls = []\n",
    "import requests\n",
    "from requests.auth import HTTPDigestAuth\n",
    "auth = HTTPDigestAuth('ahan2', 'radsed-jomxyt-rAfxe1')\n",
    "with open('test.csv') as f:\n",
    "    for line in f:\n",
    "        url = \"https://svn.oli.cmu.edu/svn/content/chemistry_general/chemisty_general1/branches/v_4_9/content/u9_solutions/m3_end_of_unit/x-oli-workbook_page/\" + line[:-1]\n",
    "        #urls.append(url)\n",
    "        xml_data = requests.get(url, auth=auth).content\n",
    "        with open('s23/content/x-oli-workbook_page/'+str(line[:-1]), 'w') as file:\n",
    "            file.write(str(xml_data))"
   ]
  },
  {
   "cell_type": "code",
   "execution_count": null,
   "metadata": {},
   "outputs": [],
   "source": [
    "urls = []\n",
    "import requests\n",
    "from requests.auth import HTTPDigestAuth\n",
    "auth = HTTPDigestAuth('')\n",
    "with open('test.csv') as f:\n",
    "    for line in f:\n",
    "        url = \"https://svn.oli.cmu.edu/svn/content/chemistry_general/chemisty_general1/branches/v_4_9/content/x-oli-assessment2/\" + line[:-1]\n",
    "        #urls.append(url)\n",
    "        xml_data = requests.get(url, auth=auth).content\n",
    "        with open('s23/content/u_foundations_chem/m4_elements/x-oli-workbook_page/'+str(line[:-1]), 'w') as file:\n",
    "            file.write(str(xml_data))"
   ]
  },
  {
   "cell_type": "code",
   "execution_count": 70,
   "metadata": {},
   "outputs": [],
   "source": [
    "from bs4 import BeautifulSoup\n",
    "from bs4.element import Comment\n",
    "import requests\n",
    "from requests.auth import HTTPDigestAuth\n",
    "auth = HTTPDigestAuth('')\n",
    "xml_data = requests.get(\"https://svn.oli.cmu.edu/svn/content/chemistry_general/chemisty_general1/branches/v_4_9/content/u8_solid_liquid/x-oli-learning_objectives/solid_liquid_LOs.xml\", auth=auth).content\n",
    "with open('s23/content/u8_solid_liquid/x-oli-learning_objectives/solid_liquid_LOs.xml', 'w') as file:\n",
    "            file.write(str(xml_data))\n"
   ]
  }
 ],
 "metadata": {
  "kernelspec": {
   "display_name": "Python 3",
   "language": "python",
   "name": "python3"
  },
  "language_info": {
   "codemirror_mode": {
    "name": "ipython",
    "version": 3
   },
   "file_extension": ".py",
   "mimetype": "text/x-python",
   "name": "python",
   "nbconvert_exporter": "python",
   "pygments_lexer": "ipython3",
   "version": "3.10.10"
  },
  "orig_nbformat": 4
 },
 "nbformat": 4,
 "nbformat_minor": 2
}
