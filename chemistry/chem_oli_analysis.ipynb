{
 "cells": [
  {
   "cell_type": "markdown",
   "metadata": {},
   "source": [
    "# OLI Content Extraction and Analysis"
   ]
  },
  {
   "cell_type": "code",
   "execution_count": 1,
   "metadata": {},
   "outputs": [
    {
     "name": "stderr",
     "output_type": "stream",
     "text": [
      "c:\\Users\\peter\\AppData\\Local\\Programs\\Python\\Python310\\lib\\site-packages\\gensim\\utils.py:860: UserWarning: detected Windows; aliasing chunkize to chunkize_serial\n",
      "  warnings.warn(\"detected Windows; aliasing chunkize to chunkize_serial\")\n",
      "Slow version of gensim.models.doc2vec is being used\n",
      "Slow version of Fasttext is being used\n"
     ]
    }
   ],
   "source": [
    "import pandas as pd\n",
    "import numpy as np\n",
    "import textract\n",
    "import re, json, os\n",
    "from os.path import join\n",
    "from bs4 import BeautifulSoup\n",
    "from gensim.summarization import keywords  #must use version 3.8.3 of gensim because gensim.summarization was deprecated in version 4.0.0\n",
    "import warnings\n",
    "warnings.filterwarnings(\"ignore\")"
   ]
  },
  {
   "cell_type": "markdown",
   "metadata": {},
   "source": [
    "## 1. Extract content from PDF file"
   ]
  },
  {
   "cell_type": "code",
   "execution_count": 2,
   "metadata": {},
   "outputs": [],
   "source": [
    "def extract_content_from_pdf(filename):\n",
    "    # text variable which contains all the text derived from our PDF file\n",
    "    full_text = textract.process(filename, method='pdfminer', language='eng').decode('utf-8')\n",
    "    return full_text.encode('ascii','ignore').lower().decode('utf-8')\n",
    "\n",
    "def extract_keyword(full_text):\n",
    "    keyword_summaries = keywords(text = full_text, split = \"\\n\", scores = True)\n",
    "    data = pd.DataFrame(keyword_summaries, columns = [\"keyword\", \"score\"])\n",
    "    return data.sort_values(\"score\", ascending = False)"
   ]
  },
  {
   "cell_type": "markdown",
   "metadata": {},
   "source": [
    "## 2. Extract content from XML files "
   ]
  },
  {
   "cell_type": "code",
   "execution_count": 3,
   "metadata": {},
   "outputs": [],
   "source": [
    "SEMESTER = \"s23\"\n",
    "oli_org = open(f'{SEMESTER}/organizations/default/organization.xml', \"r\").read()\n",
    "oli_org_soup = BeautifulSoup(oli_org, \"lxml\")"
   ]
  },
  {
   "cell_type": "code",
   "execution_count": 4,
   "metadata": {},
   "outputs": [],
   "source": [
    "def get_module_unit_from_org(page_id):\n",
    "    try:\n",
    "        resource_ref = oli_org_soup.find('resourceref', {'idref': page_id})\n",
    "        curr_module = resource_ref.find_parent('module').find('title').get_text()\n",
    "        curr_unit = resource_ref.find_parent('unit').find('title').get_text()\n",
    "        return curr_module, curr_unit\n",
    "    except:\n",
    "        return None, None\n",
    "\n",
    "def is_header(p):\n",
    "    # a header paragraph should have the form <p><em>...</em></p>, with no other inner tag\n",
    "    n_contents = len([c for c in p.contents if not str(c.string).isspace()])\n",
    "    return p.find(\"em\") is not None and n_contents == 1\n",
    "\n",
    "def get_file_content(filename):\n",
    "    with open(file = f'{SEMESTER}/content/x-oli-workbook_page/' + filename, encoding='utf-8') as file:\n",
    "        soup = BeautifulSoup(file.read(), 'lxml', from_encoding='utf-8')\n",
    "    page_id = soup.find('workbook_page')['id']\n",
    "    curr_module, curr_unit = get_module_unit_from_org(page_id)\n",
    "    title = soup.find(\"title\").get_text().strip()   \n",
    "    if curr_module:\n",
    "        curr_module = re.sub(r\"\\t+\", r\"\", curr_module.strip())\n",
    "    # extract the sub-headers <p><em>text</em></p> and remove them from the text content\n",
    "    sub_headers = []\n",
    "    for p in soup.find_all(\"p\"):\n",
    "        if is_header(p):\n",
    "            sub_headers.append(p.find(\"em\").get_text().strip())\n",
    "            p.extract()\n",
    "    \n",
    "    all_text = \"\\n\".join(p.get_text().strip() for p in soup.find_all(\"p\")[1:])\n",
    "    \n",
    "    all_text = re.sub(r\"\\n+\", r\"\\n\", all_text.strip())\n",
    "    pattern = r\"\\\\\\w+\\d+\"\n",
    "\n",
    "    all_text = re.sub(pattern, \"\", all_text)\n",
    "    \n",
    "    all_text = all_text.replace(\"$\", \"\")\n",
    "    all_text = all_text.replace(\"\\\\n\",'')\n",
    "    all_text = all_text.replace(\"\\\\t\",'')\n",
    "    all_text = all_text.replace(\"\\\\r\",'')\n",
    "    all_text = all_text.replace(\"\\\\xcf\",'')\n",
    "    all_text = all_text.replace('http://cnx.org/contents/85abf193-2bd2-4908-8563-90b8a7ac8df6@9.312', '')\n",
    "    return {\n",
    "        \"Unit\" : curr_unit, \"Module\" : curr_module, \"Title\" : title,\n",
    "        \"Text\": all_text, \"Subheaders\" : \",\".join(sub_headers)\n",
    "    }"
   ]
  },
  {
   "cell_type": "code",
   "execution_count": 5,
   "metadata": {},
   "outputs": [
    {
     "data": {
      "text/html": [
       "<div>\n",
       "<style scoped>\n",
       "    .dataframe tbody tr th:only-of-type {\n",
       "        vertical-align: middle;\n",
       "    }\n",
       "\n",
       "    .dataframe tbody tr th {\n",
       "        vertical-align: top;\n",
       "    }\n",
       "\n",
       "    .dataframe thead th {\n",
       "        text-align: right;\n",
       "    }\n",
       "</style>\n",
       "<table border=\"1\" class=\"dataframe\">\n",
       "  <thead>\n",
       "    <tr style=\"text-align: right;\">\n",
       "      <th></th>\n",
       "      <th>Unit</th>\n",
       "      <th>Module</th>\n",
       "      <th>Title</th>\n",
       "      <th>Text</th>\n",
       "      <th>Subheaders</th>\n",
       "    </tr>\n",
       "  </thead>\n",
       "  <tbody>\n",
       "    <tr>\n",
       "      <th>2</th>\n",
       "      <td>Composition of Substances and Solutions</td>\n",
       "      <td>Introduction</td>\n",
       "      <td>Introduction to Composition of Substances and ...</td>\n",
       "      <td>Swimming pools have long been a popular means ...</td>\n",
       "      <td></td>\n",
       "    </tr>\n",
       "    <tr>\n",
       "      <th>3</th>\n",
       "      <td>Chemical Bonding and Molecular Geometry</td>\n",
       "      <td>Introduction</td>\n",
       "      <td>Introduction to Chemical Bonding and Molecular...</td>\n",
       "      <td>It has long been known that pure carbon occurs...</td>\n",
       "      <td></td>\n",
       "    </tr>\n",
       "    <tr>\n",
       "      <th>4</th>\n",
       "      <td>Electronic Structure and Periodic Properties</td>\n",
       "      <td>Introduction</td>\n",
       "      <td>Electronic Structure and Periodic Properties I...</td>\n",
       "      <td>The Crab Nebula consists of remnan...</td>\n",
       "      <td></td>\n",
       "    </tr>\n",
       "    <tr>\n",
       "      <th>5</th>\n",
       "      <td>Gases</td>\n",
       "      <td>Introduction</td>\n",
       "      <td>Introduction to Gases</td>\n",
       "      <td>We are surrounded by an ocean of gasthe atmosp...</td>\n",
       "      <td></td>\n",
       "    </tr>\n",
       "    <tr>\n",
       "      <th>7</th>\n",
       "      <td>Reactions and Stoichiometry</td>\n",
       "      <td>Introduction</td>\n",
       "      <td>Introduction to Chemical Reactions and Stoichi...</td>\n",
       "      <td>Solid-fuel rockets are a central feature in th...</td>\n",
       "      <td></td>\n",
       "    </tr>\n",
       "    <tr>\n",
       "      <th>...</th>\n",
       "      <td>...</td>\n",
       "      <td>...</td>\n",
       "      <td>...</td>\n",
       "      <td>...</td>\n",
       "      <td>...</td>\n",
       "    </tr>\n",
       "    <tr>\n",
       "      <th>266</th>\n",
       "      <td>Composition of Substances and Solutions</td>\n",
       "      <td>The Mole</td>\n",
       "      <td>Module Summary and Quiz</td>\n",
       "      <td>The formula mass of a substance is the sum of ...</td>\n",
       "      <td></td>\n",
       "    </tr>\n",
       "    <tr>\n",
       "      <th>267</th>\n",
       "      <td>Foundations of Chemistry</td>\n",
       "      <td>Elements and Compounds</td>\n",
       "      <td>Nomenclature for Ionic Compounds with Polyatom...</td>\n",
       "      <td>The ions that we have discussed so far are cal...</td>\n",
       "      <td></td>\n",
       "    </tr>\n",
       "    <tr>\n",
       "      <th>268</th>\n",
       "      <td>Reactions and Stoichiometry</td>\n",
       "      <td>Chemical Reactions and Equations</td>\n",
       "      <td>Module Summary and Quiz</td>\n",
       "      <td>Chemical equations are symbolic representation...</td>\n",
       "      <td></td>\n",
       "    </tr>\n",
       "    <tr>\n",
       "      <th>269</th>\n",
       "      <td>Foundations of Chemistry</td>\n",
       "      <td>Measurements</td>\n",
       "      <td>Temperature Conversions</td>\n",
       "      <td>We use the word temperature to refer to the ho...</td>\n",
       "      <td></td>\n",
       "    </tr>\n",
       "    <tr>\n",
       "      <th>270</th>\n",
       "      <td>Solutions</td>\n",
       "      <td>Solutions: Unit Assessment</td>\n",
       "      <td>Solutions: Unit Assessment</td>\n",
       "      <td></td>\n",
       "      <td></td>\n",
       "    </tr>\n",
       "  </tbody>\n",
       "</table>\n",
       "<p>224 rows × 5 columns</p>\n",
       "</div>"
      ],
      "text/plain": [
       "                                             Unit  \\\n",
       "2         Composition of Substances and Solutions   \n",
       "3         Chemical Bonding and Molecular Geometry   \n",
       "4    Electronic Structure and Periodic Properties   \n",
       "5                                           Gases   \n",
       "7                     Reactions and Stoichiometry   \n",
       "..                                            ...   \n",
       "266       Composition of Substances and Solutions   \n",
       "267                      Foundations of Chemistry   \n",
       "268                   Reactions and Stoichiometry   \n",
       "269                      Foundations of Chemistry   \n",
       "270                                     Solutions   \n",
       "\n",
       "                               Module  \\\n",
       "2                        Introduction   \n",
       "3                        Introduction   \n",
       "4                        Introduction   \n",
       "5                        Introduction   \n",
       "7                        Introduction   \n",
       "..                                ...   \n",
       "266                          The Mole   \n",
       "267            Elements and Compounds   \n",
       "268  Chemical Reactions and Equations   \n",
       "269                      Measurements   \n",
       "270        Solutions: Unit Assessment   \n",
       "\n",
       "                                                 Title  \\\n",
       "2    Introduction to Composition of Substances and ...   \n",
       "3    Introduction to Chemical Bonding and Molecular...   \n",
       "4    Electronic Structure and Periodic Properties I...   \n",
       "5                                Introduction to Gases   \n",
       "7    Introduction to Chemical Reactions and Stoichi...   \n",
       "..                                                 ...   \n",
       "266                            Module Summary and Quiz   \n",
       "267  Nomenclature for Ionic Compounds with Polyatom...   \n",
       "268                            Module Summary and Quiz   \n",
       "269                            Temperature Conversions   \n",
       "270                         Solutions: Unit Assessment   \n",
       "\n",
       "                                                  Text Subheaders  \n",
       "2    Swimming pools have long been a popular means ...             \n",
       "3    It has long been known that pure carbon occurs...             \n",
       "4                The Crab Nebula consists of remnan...             \n",
       "5    We are surrounded by an ocean of gasthe atmosp...             \n",
       "7    Solid-fuel rockets are a central feature in th...             \n",
       "..                                                 ...        ...  \n",
       "266  The formula mass of a substance is the sum of ...             \n",
       "267  The ions that we have discussed so far are cal...             \n",
       "268  Chemical equations are symbolic representation...             \n",
       "269  We use the word temperature to refer to the ho...             \n",
       "270                                                                \n",
       "\n",
       "[224 rows x 5 columns]"
      ]
     },
     "metadata": {},
     "output_type": "display_data"
    }
   ],
   "source": [
    "df_oli = pd.DataFrame([\n",
    "    get_file_content(filename)\n",
    "    for filename in os.listdir(f\"{SEMESTER}/content/x-oli-workbook_page\")\n",
    "    if filename.endswith(\".xml\")\n",
    "]).dropna()\n",
    "df_oli.to_csv(\"chem_oli_content.csv\", index = False, encoding='utf-8')\n",
    "display(df_oli)"
   ]
  },
  {
   "cell_type": "code",
   "execution_count": 6,
   "metadata": {},
   "outputs": [
    {
     "data": {
      "text/html": [
       "<div>\n",
       "<style scoped>\n",
       "    .dataframe tbody tr th:only-of-type {\n",
       "        vertical-align: middle;\n",
       "    }\n",
       "\n",
       "    .dataframe tbody tr th {\n",
       "        vertical-align: top;\n",
       "    }\n",
       "\n",
       "    .dataframe thead th {\n",
       "        text-align: right;\n",
       "    }\n",
       "</style>\n",
       "<table border=\"1\" class=\"dataframe\">\n",
       "  <thead>\n",
       "    <tr style=\"text-align: right;\">\n",
       "      <th></th>\n",
       "      <th>Unit</th>\n",
       "      <th>Module</th>\n",
       "      <th>Title</th>\n",
       "      <th>Text</th>\n",
       "      <th>Subheaders</th>\n",
       "    </tr>\n",
       "  </thead>\n",
       "  <tbody>\n",
       "    <tr>\n",
       "      <th>2</th>\n",
       "      <td>Composition of Substances and Solutions</td>\n",
       "      <td>Introduction</td>\n",
       "      <td>Introduction to Composition of Substances and ...</td>\n",
       "      <td>Swimming pools have long been a popular means ...</td>\n",
       "      <td></td>\n",
       "    </tr>\n",
       "    <tr>\n",
       "      <th>3</th>\n",
       "      <td>Chemical Bonding and Molecular Geometry</td>\n",
       "      <td>Introduction</td>\n",
       "      <td>Introduction to Chemical Bonding and Molecular...</td>\n",
       "      <td>It has long been known that pure carbon occurs...</td>\n",
       "      <td></td>\n",
       "    </tr>\n",
       "    <tr>\n",
       "      <th>4</th>\n",
       "      <td>Electronic Structure and Periodic Properties</td>\n",
       "      <td>Introduction</td>\n",
       "      <td>Electronic Structure and Periodic Properties I...</td>\n",
       "      <td>The Crab Nebula consists of remnan...</td>\n",
       "      <td></td>\n",
       "    </tr>\n",
       "    <tr>\n",
       "      <th>5</th>\n",
       "      <td>Gases</td>\n",
       "      <td>Introduction</td>\n",
       "      <td>Introduction to Gases</td>\n",
       "      <td>We are surrounded by an ocean of gasthe atmosp...</td>\n",
       "      <td></td>\n",
       "    </tr>\n",
       "    <tr>\n",
       "      <th>7</th>\n",
       "      <td>Reactions and Stoichiometry</td>\n",
       "      <td>Introduction</td>\n",
       "      <td>Introduction to Chemical Reactions and Stoichi...</td>\n",
       "      <td>Solid-fuel rockets are a central feature in th...</td>\n",
       "      <td></td>\n",
       "    </tr>\n",
       "    <tr>\n",
       "      <th>...</th>\n",
       "      <td>...</td>\n",
       "      <td>...</td>\n",
       "      <td>...</td>\n",
       "      <td>...</td>\n",
       "      <td>...</td>\n",
       "    </tr>\n",
       "    <tr>\n",
       "      <th>266</th>\n",
       "      <td>Composition of Substances and Solutions</td>\n",
       "      <td>The Mole</td>\n",
       "      <td>Module Summary and Quiz</td>\n",
       "      <td>The formula mass of a substance is the sum of ...</td>\n",
       "      <td></td>\n",
       "    </tr>\n",
       "    <tr>\n",
       "      <th>267</th>\n",
       "      <td>Foundations of Chemistry</td>\n",
       "      <td>Elements and Compounds</td>\n",
       "      <td>Nomenclature for Ionic Compounds with Polyatom...</td>\n",
       "      <td>The ions that we have discussed so far are cal...</td>\n",
       "      <td></td>\n",
       "    </tr>\n",
       "    <tr>\n",
       "      <th>268</th>\n",
       "      <td>Reactions and Stoichiometry</td>\n",
       "      <td>Chemical Reactions and Equations</td>\n",
       "      <td>Module Summary and Quiz</td>\n",
       "      <td>Chemical equations are symbolic representation...</td>\n",
       "      <td></td>\n",
       "    </tr>\n",
       "    <tr>\n",
       "      <th>269</th>\n",
       "      <td>Foundations of Chemistry</td>\n",
       "      <td>Measurements</td>\n",
       "      <td>Temperature Conversions</td>\n",
       "      <td>We use the word temperature to refer to the ho...</td>\n",
       "      <td></td>\n",
       "    </tr>\n",
       "    <tr>\n",
       "      <th>270</th>\n",
       "      <td>Solutions</td>\n",
       "      <td>Solutions: Unit Assessment</td>\n",
       "      <td>Solutions: Unit Assessment</td>\n",
       "      <td></td>\n",
       "      <td></td>\n",
       "    </tr>\n",
       "  </tbody>\n",
       "</table>\n",
       "<p>224 rows × 5 columns</p>\n",
       "</div>"
      ],
      "text/plain": [
       "                                             Unit  \\\n",
       "2         Composition of Substances and Solutions   \n",
       "3         Chemical Bonding and Molecular Geometry   \n",
       "4    Electronic Structure and Periodic Properties   \n",
       "5                                           Gases   \n",
       "7                     Reactions and Stoichiometry   \n",
       "..                                            ...   \n",
       "266       Composition of Substances and Solutions   \n",
       "267                      Foundations of Chemistry   \n",
       "268                   Reactions and Stoichiometry   \n",
       "269                      Foundations of Chemistry   \n",
       "270                                     Solutions   \n",
       "\n",
       "                               Module  \\\n",
       "2                        Introduction   \n",
       "3                        Introduction   \n",
       "4                        Introduction   \n",
       "5                        Introduction   \n",
       "7                        Introduction   \n",
       "..                                ...   \n",
       "266                          The Mole   \n",
       "267            Elements and Compounds   \n",
       "268  Chemical Reactions and Equations   \n",
       "269                      Measurements   \n",
       "270        Solutions: Unit Assessment   \n",
       "\n",
       "                                                 Title  \\\n",
       "2    Introduction to Composition of Substances and ...   \n",
       "3    Introduction to Chemical Bonding and Molecular...   \n",
       "4    Electronic Structure and Periodic Properties I...   \n",
       "5                                Introduction to Gases   \n",
       "7    Introduction to Chemical Reactions and Stoichi...   \n",
       "..                                                 ...   \n",
       "266                            Module Summary and Quiz   \n",
       "267  Nomenclature for Ionic Compounds with Polyatom...   \n",
       "268                            Module Summary and Quiz   \n",
       "269                            Temperature Conversions   \n",
       "270                         Solutions: Unit Assessment   \n",
       "\n",
       "                                                  Text Subheaders  \n",
       "2    Swimming pools have long been a popular means ...             \n",
       "3    It has long been known that pure carbon occurs...             \n",
       "4                The Crab Nebula consists of remnan...             \n",
       "5    We are surrounded by an ocean of gasthe atmosp...             \n",
       "7    Solid-fuel rockets are a central feature in th...             \n",
       "..                                                 ...        ...  \n",
       "266  The formula mass of a substance is the sum of ...             \n",
       "267  The ions that we have discussed so far are cal...             \n",
       "268  Chemical equations are symbolic representation...             \n",
       "269  We use the word temperature to refer to the ho...             \n",
       "270                                                                \n",
       "\n",
       "[224 rows x 5 columns]"
      ]
     },
     "metadata": {},
     "output_type": "display_data"
    }
   ],
   "source": [
    "df_oli['Module'] = df_oli['Module'].str.replace('\\t' ,'')\n",
    "display(df_oli)"
   ]
  },
  {
   "cell_type": "markdown",
   "metadata": {},
   "source": [
    "## 3. Topic modeling with LDA"
   ]
  },
  {
   "cell_type": "code",
   "execution_count": 7,
   "metadata": {},
   "outputs": [],
   "source": [
    "from sklearn.feature_extraction.text import CountVectorizer\n",
    "import matplotlib.pyplot as plt\n",
    "import seaborn as sns\n",
    "%matplotlib inline"
   ]
  },
  {
   "cell_type": "code",
   "execution_count": 15,
   "metadata": {},
   "outputs": [
    {
     "name": "stdout",
     "output_type": "stream",
     "text": [
      "<class 'pandas.core.frame.DataFrame'>\n",
      "Int64Index: 213 entries, 0 to 222\n",
      "Data columns (total 5 columns):\n",
      " #   Column      Non-Null Count  Dtype \n",
      "---  ------      --------------  ----- \n",
      " 0   Unit        213 non-null    object\n",
      " 1   Module      213 non-null    object\n",
      " 2   Title       213 non-null    object\n",
      " 3   Text        213 non-null    object\n",
      " 4   Subheaders  46 non-null     object\n",
      "dtypes: object(5)\n",
      "memory usage: 10.0+ KB\n"
     ]
    }
   ],
   "source": [
    "df_oli = pd.read_csv('chem_oli_content.csv')\n",
    "df_oli.dropna(subset=['Text'], inplace=True)\n",
    "df_oli.info()"
   ]
  },
  {
   "cell_type": "code",
   "execution_count": 20,
   "metadata": {},
   "outputs": [
    {
     "name": "stdout",
     "output_type": "stream",
     "text": [
      "[('atoms', 602), ('electrons', 538), ('energy', 484), ('atom', 450), ('mathrm', 436), ('molecules', 421), ('water', 406), ('mass', 388), ('electron', 381), ('gas', 374)]\n"
     ]
    },
    {
     "data": {
      "image/png": "[encoded data removed]",
      "text/plain": [
       "<Figure size 1080x667.491 with 1 Axes>"
      ]
     },
     "metadata": {
      "needs_background": "light"
     },
     "output_type": "display_data"
    }
   ],
   "source": [
    "def plot_10_most_common_words(count_data, count_vectorizer):\n",
    "    words = count_vectorizer.get_feature_names()\n",
    "    # get the count of each word across the entire corpus\n",
    "    total_counts = count_data.sum(axis = 0).A.ravel()\n",
    "\n",
    "    count_dict = (zip(words, total_counts))\n",
    "    count_dict = sorted(count_dict, key=lambda x: x[1], reverse=True)[0:10]\n",
    "    words, counts = zip(*count_dict)\n",
    "    print(count_dict)\n",
    "    x_pos = np.arange(len(words)) \n",
    "    \n",
    "    plt.figure(2, figsize=(15, 15/1.6180))\n",
    "    #plt.subplot(title='10 most common words in text content of Chemistry OLI')\n",
    "    sns.set_color_codes(\"muted\")\n",
    "    sns.set_context(\"notebook\", font_scale=1.25, rc={\"lines.linewidth\": 2.5})\n",
    "    sns.barplot(x=x_pos, y=list(counts), color='b')\n",
    "    plt.xticks(x_pos, list(words), rotation=90) \n",
    "    plt.xlabel('Words')\n",
    "    plt.ylabel('Word Count')\n",
    "    plt.show()\n",
    "\n",
    "# Preprocess the text to prepare for LDA\n",
    "df_oli[\"Cleaned Text\"] = df_oli[\"Text\"].apply(lambda text: re.sub('[,\\.!?]', '', text).lower())\n",
    "# Initialise the count vectorizer with the English stop words\n",
    "count_vectorizer = CountVectorizer(stop_words='english')\n",
    "# Fit and transform the processed titles\n",
    "count_data = count_vectorizer.fit_transform(df_oli['Cleaned Text'])\n",
    "# Visualise the 10 most common words\n",
    "plot_10_most_common_words(count_data, count_vectorizer)"
   ]
  },
  {
   "cell_type": "code",
   "execution_count": 22,
   "metadata": {},
   "outputs": [
    {
     "data": {
      "text/plain": [
       "Foundations of Chemistry                        36\n",
       "Chemical Bonding and Molecular Geometry         32\n",
       "Solids and Liquids                              24\n",
       "Electronic Structure and Periodic Properties    23\n",
       "Gases                                           22\n",
       "Name: Unit, dtype: int64"
      ]
     },
     "metadata": {},
     "output_type": "display_data"
    },
    {
     "data": {
      "text/plain": [
       "Text(0, 0.5, 'Unit')"
      ]
     },
     "execution_count": 22,
     "metadata": {},
     "output_type": "execute_result"
    },
    {
     "data": {
      "image/png": "[encoded data removed]",
      "text/plain": [
       "<Figure size 432x288 with 1 Axes>"
      ]
     },
     "metadata": {
      "needs_background": "light"
     },
     "output_type": "display_data"
    }
   ],
   "source": [
    "fig, ax = plt.subplots()\n",
    "display(df_oli['Unit'].value_counts().head())\n",
    "df_oli['Unit'].value_counts().plot(ax=ax, kind='barh')\n",
    "ax.axes.set_xlabel('Paragraph Count')\n",
    "ax.axes.set_ylabel('Unit')\n"
   ]
  },
  {
   "cell_type": "code",
   "execution_count": 23,
   "metadata": {},
   "outputs": [],
   "source": [
    "df_oli.Module.replace('\\r\\n\\t\\t\\t\\t\\t\\tChemical Reactions and Equations', 'Chemical Reactions and Equations', inplace=True)"
   ]
  },
  {
   "cell_type": "code",
   "execution_count": 30,
   "metadata": {},
   "outputs": [
    {
     "data": {
      "text/plain": [
       "Elements and Compounds                   13\n",
       "Chemical Reactions and Equations         11\n",
       "Solubility                               11\n",
       "Advanced Theories of Covalent Bonding    10\n",
       "Measurements                             10\n",
       "Name: Module, dtype: int64"
      ]
     },
     "metadata": {},
     "output_type": "display_data"
    },
    {
     "data": {
      "text/plain": [
       "Text(0, 0.5, 'Module')"
      ]
     },
     "execution_count": 30,
     "metadata": {},
     "output_type": "execute_result"
    },
    {
     "data": {
      "image/png": "[encoded data removed]",
      "text/plain": [
       "<Figure size 432x648 with 1 Axes>"
      ]
     },
     "metadata": {
      "needs_background": "light"
     },
     "output_type": "display_data"
    }
   ],
   "source": [
    "fig, ax = plt.subplots()\n",
    "fig.set_size_inches(6,9)\n",
    "display(df_oli['Module'].value_counts().head())\n",
    "df_oli['Module'].value_counts().plot(ax=ax, kind='barh')\n",
    "ax.axes.set_xlabel('Paragraph Count')\n",
    "ax.axes.set_ylabel('Module')\n"
   ]
  },
  {
   "cell_type": "markdown",
   "metadata": {},
   "source": [
    "## 4. QA generation with pretrained huggingface model\n"
   ]
  },
  {
   "cell_type": "code",
   "execution_count": 45,
   "metadata": {},
   "outputs": [],
   "source": [
    "from pipelines import pipeline\n",
    "question_generator = pipeline(\"e2e-qg\");"
   ]
  },
  {
   "cell_type": "code",
   "execution_count": 24,
   "metadata": {},
   "outputs": [],
   "source": [
    "def generate_question_by_paragraph(df):\n",
    "    df[\"Paragraph\"] = df[\"Text\"].str.split(\"\\n\")\n",
    "    df_para = df.explode(\"Paragraph\")\n",
    "    df_para[\"Generated Question\"] = df_para[\"Paragraph\"].apply(question_generator)\n",
    "    return df_para.explode(\"Generated Question\")"
   ]
  },
  {
   "cell_type": "code",
   "execution_count": 25,
   "metadata": {},
   "outputs": [],
   "source": [
    "df_oli_with_questions = generate_question_by_paragraph(df_oli)"
   ]
  },
  {
   "cell_type": "code",
   "execution_count": 26,
   "metadata": {},
   "outputs": [],
   "source": [
    "df_oli_with_questions = df_oli_with_questions[df_oli_with_questions['Text']!= '']"
   ]
  },
  {
   "cell_type": "code",
   "execution_count": 27,
   "metadata": {},
   "outputs": [],
   "source": [
    "df_oli_with_questions.drop(columns = \"Text\").to_csv(\"chem_oli_content_with_questions.csv\", index = False)"
   ]
  },
  {
   "cell_type": "code",
   "execution_count": 28,
   "metadata": {},
   "outputs": [
    {
     "data": {
      "text/html": [
       "<div>\n",
       "<style scoped>\n",
       "    .dataframe tbody tr th:only-of-type {\n",
       "        vertical-align: middle;\n",
       "    }\n",
       "\n",
       "    .dataframe tbody tr th {\n",
       "        vertical-align: top;\n",
       "    }\n",
       "\n",
       "    .dataframe thead th {\n",
       "        text-align: right;\n",
       "    }\n",
       "</style>\n",
       "<table border=\"1\" class=\"dataframe\">\n",
       "  <thead>\n",
       "    <tr style=\"text-align: right;\">\n",
       "      <th></th>\n",
       "      <th>index</th>\n",
       "      <th>Unit</th>\n",
       "      <th>Module</th>\n",
       "      <th>Title</th>\n",
       "      <th>Text</th>\n",
       "      <th>Subheaders</th>\n",
       "      <th>Cleaned Text</th>\n",
       "      <th>Paragraph</th>\n",
       "      <th>Generated Question</th>\n",
       "    </tr>\n",
       "  </thead>\n",
       "  <tbody>\n",
       "    <tr>\n",
       "      <th>0</th>\n",
       "      <td>2</td>\n",
       "      <td>Composition of Substances and Solutions</td>\n",
       "      <td>Introduction</td>\n",
       "      <td>Introduction to Composition of Substances and ...</td>\n",
       "      <td>Swimming pools have long been a popular means ...</td>\n",
       "      <td></td>\n",
       "      <td>swimming pools have long been a popular means ...</td>\n",
       "      <td>Swimming pools have long been a popular means ...</td>\n",
       "      <td>What is a popular means of recreation, exercis...</td>\n",
       "    </tr>\n",
       "    <tr>\n",
       "      <th>1</th>\n",
       "      <td>2</td>\n",
       "      <td>Composition of Substances and Solutions</td>\n",
       "      <td>Introduction</td>\n",
       "      <td>Introduction to Composition of Substances and ...</td>\n",
       "      <td>Swimming pools have long been a popular means ...</td>\n",
       "      <td></td>\n",
       "      <td>swimming pools have long been a popular means ...</td>\n",
       "      <td>Swimming pools have long been a popular means ...</td>\n",
       "      <td>What is regularly treated with chemicals to pr...</td>\n",
       "    </tr>\n",
       "    <tr>\n",
       "      <th>2</th>\n",
       "      <td>2</td>\n",
       "      <td>Composition of Substances and Solutions</td>\n",
       "      <td>Introduction</td>\n",
       "      <td>Introduction to Composition of Substances and ...</td>\n",
       "      <td>Swimming pools have long been a popular means ...</td>\n",
       "      <td></td>\n",
       "      <td>swimming pools have long been a popular means ...</td>\n",
       "      <td>Swimming pools have long been a popular means ...</td>\n",
       "      <td>How is the relative amount of calcium ion, Ca2...</td>\n",
       "    </tr>\n",
       "    <tr>\n",
       "      <th>3</th>\n",
       "      <td>3</td>\n",
       "      <td>Chemical Bonding and Molecular Geometry</td>\n",
       "      <td>Introduction</td>\n",
       "      <td>Introduction to Chemical Bonding and Molecular...</td>\n",
       "      <td>It has long been known that pure carbon occurs...</td>\n",
       "      <td></td>\n",
       "      <td>it has long been known that pure carbon occurs...</td>\n",
       "      <td>It has long been known that pure carbon occurs...</td>\n",
       "      <td>When was a new form of carbon recognized?</td>\n",
       "    </tr>\n",
       "    <tr>\n",
       "      <th>4</th>\n",
       "      <td>3</td>\n",
       "      <td>Chemical Bonding and Molecular Geometry</td>\n",
       "      <td>Introduction</td>\n",
       "      <td>Introduction to Chemical Bonding and Molecular...</td>\n",
       "      <td>It has long been known that pure carbon occurs...</td>\n",
       "      <td></td>\n",
       "      <td>it has long been known that pure carbon occurs...</td>\n",
       "      <td>It has long been known that pure carbon occurs...</td>\n",
       "      <td>What was the name of the molecule that was nam...</td>\n",
       "    </tr>\n",
       "    <tr>\n",
       "      <th>...</th>\n",
       "      <td>...</td>\n",
       "      <td>...</td>\n",
       "      <td>...</td>\n",
       "      <td>...</td>\n",
       "      <td>...</td>\n",
       "      <td>...</td>\n",
       "      <td>...</td>\n",
       "      <td>...</td>\n",
       "      <td>...</td>\n",
       "    </tr>\n",
       "    <tr>\n",
       "      <th>5403</th>\n",
       "      <td>269</td>\n",
       "      <td>Foundations of Chemistry</td>\n",
       "      <td>Measurements</td>\n",
       "      <td>Temperature Conversions</td>\n",
       "      <td>We use the word temperature to refer to the ho...</td>\n",
       "      <td></td>\n",
       "      <td>we use the word temperature to refer to the ho...</td>\n",
       "      <td>You are visiting Paris, France and you see tha...</td>\n",
       "      <td>What is the high temperature for the day in Pa...</td>\n",
       "    </tr>\n",
       "    <tr>\n",
       "      <th>5404</th>\n",
       "      <td>269</td>\n",
       "      <td>Foundations of Chemistry</td>\n",
       "      <td>Measurements</td>\n",
       "      <td>Temperature Conversions</td>\n",
       "      <td>We use the word temperature to refer to the ho...</td>\n",
       "      <td></td>\n",
       "      <td>we use the word temperature to refer to the ho...</td>\n",
       "      <td>You are visiting Paris, France and you see tha...</td>\n",
       "      <td>What temperature is in °F and K?</td>\n",
       "    </tr>\n",
       "    <tr>\n",
       "      <th>5405</th>\n",
       "      <td>269</td>\n",
       "      <td>Foundations of Chemistry</td>\n",
       "      <td>Measurements</td>\n",
       "      <td>Temperature Conversions</td>\n",
       "      <td>We use the word temperature to refer to the ho...</td>\n",
       "      <td></td>\n",
       "      <td>we use the word temperature to refer to the ho...</td>\n",
       "      <td>Adapted from Openstax Chemistry under  Creativ...</td>\n",
       "      <td>Adapted from Openstax Chemistry under Creative...</td>\n",
       "    </tr>\n",
       "    <tr>\n",
       "      <th>5406</th>\n",
       "      <td>269</td>\n",
       "      <td>Foundations of Chemistry</td>\n",
       "      <td>Measurements</td>\n",
       "      <td>Temperature Conversions</td>\n",
       "      <td>We use the word temperature to refer to the ho...</td>\n",
       "      <td></td>\n",
       "      <td>we use the word temperature to refer to the ho...</td>\n",
       "      <td>Download for free at http://cnx.org/contents/8...</td>\n",
       "      <td>What is a free download for free?</td>\n",
       "    </tr>\n",
       "    <tr>\n",
       "      <th>5407</th>\n",
       "      <td>269</td>\n",
       "      <td>Foundations of Chemistry</td>\n",
       "      <td>Measurements</td>\n",
       "      <td>Temperature Conversions</td>\n",
       "      <td>We use the word temperature to refer to the ho...</td>\n",
       "      <td></td>\n",
       "      <td>we use the word temperature to refer to the ho...</td>\n",
       "      <td>Download for free at http://cnx.org/contents/8...</td>\n",
       "      <td>What is the name of the website that contains ...</td>\n",
       "    </tr>\n",
       "  </tbody>\n",
       "</table>\n",
       "<p>5408 rows × 9 columns</p>\n",
       "</div>"
      ],
      "text/plain": [
       "      index                                     Unit        Module  \\\n",
       "0         2  Composition of Substances and Solutions  Introduction   \n",
       "1         2  Composition of Substances and Solutions  Introduction   \n",
       "2         2  Composition of Substances and Solutions  Introduction   \n",
       "3         3  Chemical Bonding and Molecular Geometry  Introduction   \n",
       "4         3  Chemical Bonding and Molecular Geometry  Introduction   \n",
       "...     ...                                      ...           ...   \n",
       "5403    269                 Foundations of Chemistry  Measurements   \n",
       "5404    269                 Foundations of Chemistry  Measurements   \n",
       "5405    269                 Foundations of Chemistry  Measurements   \n",
       "5406    269                 Foundations of Chemistry  Measurements   \n",
       "5407    269                 Foundations of Chemistry  Measurements   \n",
       "\n",
       "                                                  Title  \\\n",
       "0     Introduction to Composition of Substances and ...   \n",
       "1     Introduction to Composition of Substances and ...   \n",
       "2     Introduction to Composition of Substances and ...   \n",
       "3     Introduction to Chemical Bonding and Molecular...   \n",
       "4     Introduction to Chemical Bonding and Molecular...   \n",
       "...                                                 ...   \n",
       "5403                            Temperature Conversions   \n",
       "5404                            Temperature Conversions   \n",
       "5405                            Temperature Conversions   \n",
       "5406                            Temperature Conversions   \n",
       "5407                            Temperature Conversions   \n",
       "\n",
       "                                                   Text Subheaders  \\\n",
       "0     Swimming pools have long been a popular means ...              \n",
       "1     Swimming pools have long been a popular means ...              \n",
       "2     Swimming pools have long been a popular means ...              \n",
       "3     It has long been known that pure carbon occurs...              \n",
       "4     It has long been known that pure carbon occurs...              \n",
       "...                                                 ...        ...   \n",
       "5403  We use the word temperature to refer to the ho...              \n",
       "5404  We use the word temperature to refer to the ho...              \n",
       "5405  We use the word temperature to refer to the ho...              \n",
       "5406  We use the word temperature to refer to the ho...              \n",
       "5407  We use the word temperature to refer to the ho...              \n",
       "\n",
       "                                           Cleaned Text  \\\n",
       "0     swimming pools have long been a popular means ...   \n",
       "1     swimming pools have long been a popular means ...   \n",
       "2     swimming pools have long been a popular means ...   \n",
       "3     it has long been known that pure carbon occurs...   \n",
       "4     it has long been known that pure carbon occurs...   \n",
       "...                                                 ...   \n",
       "5403  we use the word temperature to refer to the ho...   \n",
       "5404  we use the word temperature to refer to the ho...   \n",
       "5405  we use the word temperature to refer to the ho...   \n",
       "5406  we use the word temperature to refer to the ho...   \n",
       "5407  we use the word temperature to refer to the ho...   \n",
       "\n",
       "                                              Paragraph  \\\n",
       "0     Swimming pools have long been a popular means ...   \n",
       "1     Swimming pools have long been a popular means ...   \n",
       "2     Swimming pools have long been a popular means ...   \n",
       "3     It has long been known that pure carbon occurs...   \n",
       "4     It has long been known that pure carbon occurs...   \n",
       "...                                                 ...   \n",
       "5403  You are visiting Paris, France and you see tha...   \n",
       "5404  You are visiting Paris, France and you see tha...   \n",
       "5405  Adapted from Openstax Chemistry under  Creativ...   \n",
       "5406  Download for free at http://cnx.org/contents/8...   \n",
       "5407  Download for free at http://cnx.org/contents/8...   \n",
       "\n",
       "                                     Generated Question  \n",
       "0     What is a popular means of recreation, exercis...  \n",
       "1     What is regularly treated with chemicals to pr...  \n",
       "2     How is the relative amount of calcium ion, Ca2...  \n",
       "3             When was a new form of carbon recognized?  \n",
       "4     What was the name of the molecule that was nam...  \n",
       "...                                                 ...  \n",
       "5403  What is the high temperature for the day in Pa...  \n",
       "5404                   What temperature is in °F and K?  \n",
       "5405  Adapted from Openstax Chemistry under Creative...  \n",
       "5406                  What is a free download for free?  \n",
       "5407  What is the name of the website that contains ...  \n",
       "\n",
       "[5408 rows x 9 columns]"
      ]
     },
     "execution_count": 28,
     "metadata": {},
     "output_type": "execute_result"
    }
   ],
   "source": [
    "df_oli_with_questions.reset_index()"
   ]
  },
  {
   "cell_type": "code",
   "execution_count": 29,
   "metadata": {},
   "outputs": [
    {
     "data": {
      "text/html": [
       "<div>\n",
       "<style scoped>\n",
       "    .dataframe tbody tr th:only-of-type {\n",
       "        vertical-align: middle;\n",
       "    }\n",
       "\n",
       "    .dataframe tbody tr th {\n",
       "        vertical-align: top;\n",
       "    }\n",
       "\n",
       "    .dataframe thead th {\n",
       "        text-align: right;\n",
       "    }\n",
       "</style>\n",
       "<table border=\"1\" class=\"dataframe\">\n",
       "  <thead>\n",
       "    <tr style=\"text-align: right;\">\n",
       "      <th></th>\n",
       "      <th>Unit</th>\n",
       "      <th>Module</th>\n",
       "      <th>Title</th>\n",
       "      <th>Text</th>\n",
       "      <th>Subheaders</th>\n",
       "      <th>Cleaned Text</th>\n",
       "      <th>Paragraph</th>\n",
       "      <th>Generated Question</th>\n",
       "    </tr>\n",
       "  </thead>\n",
       "  <tbody>\n",
       "    <tr>\n",
       "      <th>2</th>\n",
       "      <td>Composition of Substances and Solutions</td>\n",
       "      <td>Introduction</td>\n",
       "      <td>Introduction to Composition of Substances and ...</td>\n",
       "      <td>Swimming pools have long been a popular means ...</td>\n",
       "      <td></td>\n",
       "      <td>swimming pools have long been a popular means ...</td>\n",
       "      <td>Swimming pools have long been a popular means ...</td>\n",
       "      <td>What is a popular means of recreation, exercis...</td>\n",
       "    </tr>\n",
       "    <tr>\n",
       "      <th>2</th>\n",
       "      <td>Composition of Substances and Solutions</td>\n",
       "      <td>Introduction</td>\n",
       "      <td>Introduction to Composition of Substances and ...</td>\n",
       "      <td>Swimming pools have long been a popular means ...</td>\n",
       "      <td></td>\n",
       "      <td>swimming pools have long been a popular means ...</td>\n",
       "      <td>Swimming pools have long been a popular means ...</td>\n",
       "      <td>What is regularly treated with chemicals to pr...</td>\n",
       "    </tr>\n",
       "    <tr>\n",
       "      <th>2</th>\n",
       "      <td>Composition of Substances and Solutions</td>\n",
       "      <td>Introduction</td>\n",
       "      <td>Introduction to Composition of Substances and ...</td>\n",
       "      <td>Swimming pools have long been a popular means ...</td>\n",
       "      <td></td>\n",
       "      <td>swimming pools have long been a popular means ...</td>\n",
       "      <td>Swimming pools have long been a popular means ...</td>\n",
       "      <td>How is the relative amount of calcium ion, Ca2...</td>\n",
       "    </tr>\n",
       "    <tr>\n",
       "      <th>3</th>\n",
       "      <td>Chemical Bonding and Molecular Geometry</td>\n",
       "      <td>Introduction</td>\n",
       "      <td>Introduction to Chemical Bonding and Molecular...</td>\n",
       "      <td>It has long been known that pure carbon occurs...</td>\n",
       "      <td></td>\n",
       "      <td>it has long been known that pure carbon occurs...</td>\n",
       "      <td>It has long been known that pure carbon occurs...</td>\n",
       "      <td>When was a new form of carbon recognized?</td>\n",
       "    </tr>\n",
       "    <tr>\n",
       "      <th>3</th>\n",
       "      <td>Chemical Bonding and Molecular Geometry</td>\n",
       "      <td>Introduction</td>\n",
       "      <td>Introduction to Chemical Bonding and Molecular...</td>\n",
       "      <td>It has long been known that pure carbon occurs...</td>\n",
       "      <td></td>\n",
       "      <td>it has long been known that pure carbon occurs...</td>\n",
       "      <td>It has long been known that pure carbon occurs...</td>\n",
       "      <td>What was the name of the molecule that was nam...</td>\n",
       "    </tr>\n",
       "  </tbody>\n",
       "</table>\n",
       "</div>"
      ],
      "text/plain": [
       "                                      Unit        Module  \\\n",
       "2  Composition of Substances and Solutions  Introduction   \n",
       "2  Composition of Substances and Solutions  Introduction   \n",
       "2  Composition of Substances and Solutions  Introduction   \n",
       "3  Chemical Bonding and Molecular Geometry  Introduction   \n",
       "3  Chemical Bonding and Molecular Geometry  Introduction   \n",
       "\n",
       "                                               Title  \\\n",
       "2  Introduction to Composition of Substances and ...   \n",
       "2  Introduction to Composition of Substances and ...   \n",
       "2  Introduction to Composition of Substances and ...   \n",
       "3  Introduction to Chemical Bonding and Molecular...   \n",
       "3  Introduction to Chemical Bonding and Molecular...   \n",
       "\n",
       "                                                Text Subheaders  \\\n",
       "2  Swimming pools have long been a popular means ...              \n",
       "2  Swimming pools have long been a popular means ...              \n",
       "2  Swimming pools have long been a popular means ...              \n",
       "3  It has long been known that pure carbon occurs...              \n",
       "3  It has long been known that pure carbon occurs...              \n",
       "\n",
       "                                        Cleaned Text  \\\n",
       "2  swimming pools have long been a popular means ...   \n",
       "2  swimming pools have long been a popular means ...   \n",
       "2  swimming pools have long been a popular means ...   \n",
       "3  it has long been known that pure carbon occurs...   \n",
       "3  it has long been known that pure carbon occurs...   \n",
       "\n",
       "                                           Paragraph  \\\n",
       "2  Swimming pools have long been a popular means ...   \n",
       "2  Swimming pools have long been a popular means ...   \n",
       "2  Swimming pools have long been a popular means ...   \n",
       "3  It has long been known that pure carbon occurs...   \n",
       "3  It has long been known that pure carbon occurs...   \n",
       "\n",
       "                                  Generated Question  \n",
       "2  What is a popular means of recreation, exercis...  \n",
       "2  What is regularly treated with chemicals to pr...  \n",
       "2  How is the relative amount of calcium ion, Ca2...  \n",
       "3          When was a new form of carbon recognized?  \n",
       "3  What was the name of the molecule that was nam...  "
      ]
     },
     "metadata": {},
     "output_type": "display_data"
    }
   ],
   "source": [
    "display(df_oli_with_questions.head())"
   ]
  },
  {
   "cell_type": "code",
   "execution_count": 34,
   "metadata": {},
   "outputs": [
    {
     "data": {
      "text/plain": [
       "['As was the case for gaseous substances , the kinetic molecular\\\\n            theory may be used to explain the behavior of solids and liquids. In the following\\\\n            description, the term particle will be used to refer to an atom, molecule, or ion.',\n",
       " 'What theory may be used to explain the behavior of solids and liquids?']"
      ]
     },
     "execution_count": 34,
     "metadata": {},
     "output_type": "execute_result"
    }
   ],
   "source": [
    "df_oli_with_questions.reset_index().iloc[201, [-2, -1]].tolist()"
   ]
  },
  {
   "cell_type": "code",
   "execution_count": 46,
   "metadata": {},
   "outputs": [
    {
     "data": {
      "application/vnd.jupyter.widget-view+json": {
       "model_id": "c42b91b53f4e4d25932646ccc383eb4e",
       "version_major": 2,
       "version_minor": 0
      },
      "text/plain": [
       "Downloading tokenizer_config.json:   0%|          | 0.00/331 [00:00<?, ?B/s]"
      ]
     },
     "metadata": {},
     "output_type": "display_data"
    },
    {
     "data": {
      "application/vnd.jupyter.widget-view+json": {
       "model_id": "012b88d6b92749b7856aaae8a4979b52",
       "version_major": 2,
       "version_minor": 0
      },
      "text/plain": [
       "Downloading vocab.json:   0%|          | 0.00/780k [00:00<?, ?B/s]"
      ]
     },
     "metadata": {},
     "output_type": "display_data"
    },
    {
     "data": {
      "application/vnd.jupyter.widget-view+json": {
       "model_id": "10a986133b054bb9ab5b74e103d45dcc",
       "version_major": 2,
       "version_minor": 0
      },
      "text/plain": [
       "Downloading merges.txt:   0%|          | 0.00/446k [00:00<?, ?B/s]"
      ]
     },
     "metadata": {},
     "output_type": "display_data"
    },
    {
     "data": {
      "application/vnd.jupyter.widget-view+json": {
       "model_id": "66d26f76228342809d9f7c3da708c3bc",
       "version_major": 2,
       "version_minor": 0
      },
      "text/plain": [
       "Downloading tokenizer.json:   0%|          | 0.00/1.29M [00:00<?, ?B/s]"
      ]
     },
     "metadata": {},
     "output_type": "display_data"
    },
    {
     "data": {
      "application/vnd.jupyter.widget-view+json": {
       "model_id": "aa59788bd6a540cd9375aae9ad97db76",
       "version_major": 2,
       "version_minor": 0
      },
      "text/plain": [
       "Downloading special_tokens_map.json:   0%|          | 0.00/239 [00:00<?, ?B/s]"
      ]
     },
     "metadata": {},
     "output_type": "display_data"
    },
    {
     "data": {
      "application/vnd.jupyter.widget-view+json": {
       "model_id": "a596058168b44b8ea121147f204bf6a4",
       "version_major": 2,
       "version_minor": 0
      },
      "text/plain": [
       "Downloading config.json:   0%|          | 0.00/1.70k [00:00<?, ?B/s]"
      ]
     },
     "metadata": {},
     "output_type": "display_data"
    },
    {
     "data": {
      "application/vnd.jupyter.widget-view+json": {
       "model_id": "76907400479d429385dbf6f3b7cfc9e5",
       "version_major": 2,
       "version_minor": 0
      },
      "text/plain": [
       "Downloading pytorch_model.bin:   0%|          | 0.00/679M [00:00<?, ?B/s]"
      ]
     },
     "metadata": {},
     "output_type": "display_data"
    }
   ],
   "source": [
    "from transformers import AutoTokenizer, AutoModelForSeq2SeqLM\n",
    "\n",
    "tokenizer = AutoTokenizer.from_pretrained(\"voidful/context-only-question-generator\")\n",
    "\n",
    "model = AutoModelForSeq2SeqLM.from_pretrained(\"voidful/context-only-question-generator\")"
   ]
  },
  {
   "cell_type": "code",
   "execution_count": 55,
   "metadata": {},
   "outputs": [],
   "source": [
    "def generate(content):\n",
    "    return model.generate(content)\n",
    "\n",
    "def generate_question_by_paragraph(df):\n",
    "    df[\"Paragraph\"] = df[\"Text\"].str.split(\"\\n\")\n",
    "    df_para = df.explode(\"Paragraph\")\n",
    "    df_para[\"Generated Question\"] = df_para[\"Paragraph\"].apply(lambda x: generate(tokenizer.tokenize(x)))\n",
    "    return df_para.explode(\"Generated Question\")"
   ]
  },
  {
   "cell_type": "code",
   "execution_count": 56,
   "metadata": {},
   "outputs": [
    {
     "ename": "AttributeError",
     "evalue": "'list' object has no attribute 'shape'",
     "output_type": "error",
     "traceback": [
      "\u001b[1;31m---------------------------------------------------------------------------\u001b[0m",
      "\u001b[1;31mAttributeError\u001b[0m                            Traceback (most recent call last)",
      "\u001b[1;32mc:\\Users\\peter\\OneDrive\\Desktop\\Focal-Capstone-Project\\Focal-Captsone-Project\\chemistry\\chem_oli_analysis.ipynb Cell 28\u001b[0m in \u001b[0;36m<cell line: 1>\u001b[1;34m()\u001b[0m\n\u001b[1;32m----> <a href='vscode-notebook-cell:/c%3A/Users/peter/OneDrive/Desktop/Focal-Capstone-Project/Focal-Captsone-Project/chemistry/chem_oli_analysis.ipynb#X36sZmlsZQ%3D%3D?line=0'>1</a>\u001b[0m generate_question_by_paragraph(df_oli)\n",
      "\u001b[1;32mc:\\Users\\peter\\OneDrive\\Desktop\\Focal-Capstone-Project\\Focal-Captsone-Project\\chemistry\\chem_oli_analysis.ipynb Cell 28\u001b[0m in \u001b[0;36mgenerate_question_by_paragraph\u001b[1;34m(df)\u001b[0m\n\u001b[0;32m      <a href='vscode-notebook-cell:/c%3A/Users/peter/OneDrive/Desktop/Focal-Capstone-Project/Focal-Captsone-Project/chemistry/chem_oli_analysis.ipynb#X36sZmlsZQ%3D%3D?line=4'>5</a>\u001b[0m df[\u001b[39m\"\u001b[39m\u001b[39mParagraph\u001b[39m\u001b[39m\"\u001b[39m] \u001b[39m=\u001b[39m df[\u001b[39m\"\u001b[39m\u001b[39mText\u001b[39m\u001b[39m\"\u001b[39m]\u001b[39m.\u001b[39mstr\u001b[39m.\u001b[39msplit(\u001b[39m\"\u001b[39m\u001b[39m\\n\u001b[39;00m\u001b[39m\"\u001b[39m)\n\u001b[0;32m      <a href='vscode-notebook-cell:/c%3A/Users/peter/OneDrive/Desktop/Focal-Capstone-Project/Focal-Captsone-Project/chemistry/chem_oli_analysis.ipynb#X36sZmlsZQ%3D%3D?line=5'>6</a>\u001b[0m df_para \u001b[39m=\u001b[39m df\u001b[39m.\u001b[39mexplode(\u001b[39m\"\u001b[39m\u001b[39mParagraph\u001b[39m\u001b[39m\"\u001b[39m)\n\u001b[1;32m----> <a href='vscode-notebook-cell:/c%3A/Users/peter/OneDrive/Desktop/Focal-Capstone-Project/Focal-Captsone-Project/chemistry/chem_oli_analysis.ipynb#X36sZmlsZQ%3D%3D?line=6'>7</a>\u001b[0m df_para[\u001b[39m\"\u001b[39m\u001b[39mGenerated Question\u001b[39m\u001b[39m\"\u001b[39m] \u001b[39m=\u001b[39m df_para[\u001b[39m\"\u001b[39;49m\u001b[39mParagraph\u001b[39;49m\u001b[39m\"\u001b[39;49m]\u001b[39m.\u001b[39;49mapply(\u001b[39mlambda\u001b[39;49;00m x: generate(tokenizer\u001b[39m.\u001b[39;49mtokenize(x)))\n\u001b[0;32m      <a href='vscode-notebook-cell:/c%3A/Users/peter/OneDrive/Desktop/Focal-Capstone-Project/Focal-Captsone-Project/chemistry/chem_oli_analysis.ipynb#X36sZmlsZQ%3D%3D?line=7'>8</a>\u001b[0m \u001b[39mreturn\u001b[39;00m df_para\u001b[39m.\u001b[39mexplode(\u001b[39m\"\u001b[39m\u001b[39mGenerated Question\u001b[39m\u001b[39m\"\u001b[39m)\n",
      "File \u001b[1;32mc:\\Users\\peter\\AppData\\Local\\Programs\\Python\\Python310\\lib\\site-packages\\pandas\\core\\series.py:4433\u001b[0m, in \u001b[0;36mSeries.apply\u001b[1;34m(self, func, convert_dtype, args, **kwargs)\u001b[0m\n\u001b[0;32m   4323\u001b[0m \u001b[39mdef\u001b[39;00m \u001b[39mapply\u001b[39m(\n\u001b[0;32m   4324\u001b[0m     \u001b[39mself\u001b[39m,\n\u001b[0;32m   4325\u001b[0m     func: AggFuncType,\n\u001b[1;32m   (...)\u001b[0m\n\u001b[0;32m   4328\u001b[0m     \u001b[39m*\u001b[39m\u001b[39m*\u001b[39mkwargs,\n\u001b[0;32m   4329\u001b[0m ) \u001b[39m-\u001b[39m\u001b[39m>\u001b[39m DataFrame \u001b[39m|\u001b[39m Series:\n\u001b[0;32m   4330\u001b[0m     \u001b[39m\"\"\"\u001b[39;00m\n\u001b[0;32m   4331\u001b[0m \u001b[39m    Invoke function on values of Series.\u001b[39;00m\n\u001b[0;32m   4332\u001b[0m \n\u001b[1;32m   (...)\u001b[0m\n\u001b[0;32m   4431\u001b[0m \u001b[39m    dtype: float64\u001b[39;00m\n\u001b[0;32m   4432\u001b[0m \u001b[39m    \"\"\"\u001b[39;00m\n\u001b[1;32m-> 4433\u001b[0m     \u001b[39mreturn\u001b[39;00m SeriesApply(\u001b[39mself\u001b[39;49m, func, convert_dtype, args, kwargs)\u001b[39m.\u001b[39;49mapply()\n",
      "File \u001b[1;32mc:\\Users\\peter\\AppData\\Local\\Programs\\Python\\Python310\\lib\\site-packages\\pandas\\core\\apply.py:1088\u001b[0m, in \u001b[0;36mSeriesApply.apply\u001b[1;34m(self)\u001b[0m\n\u001b[0;32m   1084\u001b[0m \u001b[39mif\u001b[39;00m \u001b[39misinstance\u001b[39m(\u001b[39mself\u001b[39m\u001b[39m.\u001b[39mf, \u001b[39mstr\u001b[39m):\n\u001b[0;32m   1085\u001b[0m     \u001b[39m# if we are a string, try to dispatch\u001b[39;00m\n\u001b[0;32m   1086\u001b[0m     \u001b[39mreturn\u001b[39;00m \u001b[39mself\u001b[39m\u001b[39m.\u001b[39mapply_str()\n\u001b[1;32m-> 1088\u001b[0m \u001b[39mreturn\u001b[39;00m \u001b[39mself\u001b[39;49m\u001b[39m.\u001b[39;49mapply_standard()\n",
      "File \u001b[1;32mc:\\Users\\peter\\AppData\\Local\\Programs\\Python\\Python310\\lib\\site-packages\\pandas\\core\\apply.py:1143\u001b[0m, in \u001b[0;36mSeriesApply.apply_standard\u001b[1;34m(self)\u001b[0m\n\u001b[0;32m   1137\u001b[0m         values \u001b[39m=\u001b[39m obj\u001b[39m.\u001b[39mastype(\u001b[39mobject\u001b[39m)\u001b[39m.\u001b[39m_values\n\u001b[0;32m   1138\u001b[0m         \u001b[39m# error: Argument 2 to \"map_infer\" has incompatible type\u001b[39;00m\n\u001b[0;32m   1139\u001b[0m         \u001b[39m# \"Union[Callable[..., Any], str, List[Union[Callable[..., Any], str]],\u001b[39;00m\n\u001b[0;32m   1140\u001b[0m         \u001b[39m# Dict[Hashable, Union[Union[Callable[..., Any], str],\u001b[39;00m\n\u001b[0;32m   1141\u001b[0m         \u001b[39m# List[Union[Callable[..., Any], str]]]]]\"; expected\u001b[39;00m\n\u001b[0;32m   1142\u001b[0m         \u001b[39m# \"Callable[[Any], Any]\"\u001b[39;00m\n\u001b[1;32m-> 1143\u001b[0m         mapped \u001b[39m=\u001b[39m lib\u001b[39m.\u001b[39;49mmap_infer(\n\u001b[0;32m   1144\u001b[0m             values,\n\u001b[0;32m   1145\u001b[0m             f,  \u001b[39m# type: ignore[arg-type]\u001b[39;49;00m\n\u001b[0;32m   1146\u001b[0m             convert\u001b[39m=\u001b[39;49m\u001b[39mself\u001b[39;49m\u001b[39m.\u001b[39;49mconvert_dtype,\n\u001b[0;32m   1147\u001b[0m         )\n\u001b[0;32m   1149\u001b[0m \u001b[39mif\u001b[39;00m \u001b[39mlen\u001b[39m(mapped) \u001b[39mand\u001b[39;00m \u001b[39misinstance\u001b[39m(mapped[\u001b[39m0\u001b[39m], ABCSeries):\n\u001b[0;32m   1150\u001b[0m     \u001b[39m# GH#43986 Need to do list(mapped) in order to get treated as nested\u001b[39;00m\n\u001b[0;32m   1151\u001b[0m     \u001b[39m#  See also GH#25959 regarding EA support\u001b[39;00m\n\u001b[0;32m   1152\u001b[0m     \u001b[39mreturn\u001b[39;00m obj\u001b[39m.\u001b[39m_constructor_expanddim(\u001b[39mlist\u001b[39m(mapped), index\u001b[39m=\u001b[39mobj\u001b[39m.\u001b[39mindex)\n",
      "File \u001b[1;32mc:\\Users\\peter\\AppData\\Local\\Programs\\Python\\Python310\\lib\\site-packages\\pandas\\_libs\\lib.pyx:2870\u001b[0m, in \u001b[0;36mpandas._libs.lib.map_infer\u001b[1;34m()\u001b[0m\n",
      "\u001b[1;32mc:\\Users\\peter\\OneDrive\\Desktop\\Focal-Capstone-Project\\Focal-Captsone-Project\\chemistry\\chem_oli_analysis.ipynb Cell 28\u001b[0m in \u001b[0;36mgenerate_question_by_paragraph.<locals>.<lambda>\u001b[1;34m(x)\u001b[0m\n\u001b[0;32m      <a href='vscode-notebook-cell:/c%3A/Users/peter/OneDrive/Desktop/Focal-Capstone-Project/Focal-Captsone-Project/chemistry/chem_oli_analysis.ipynb#X36sZmlsZQ%3D%3D?line=4'>5</a>\u001b[0m df[\u001b[39m\"\u001b[39m\u001b[39mParagraph\u001b[39m\u001b[39m\"\u001b[39m] \u001b[39m=\u001b[39m df[\u001b[39m\"\u001b[39m\u001b[39mText\u001b[39m\u001b[39m\"\u001b[39m]\u001b[39m.\u001b[39mstr\u001b[39m.\u001b[39msplit(\u001b[39m\"\u001b[39m\u001b[39m\\n\u001b[39;00m\u001b[39m\"\u001b[39m)\n\u001b[0;32m      <a href='vscode-notebook-cell:/c%3A/Users/peter/OneDrive/Desktop/Focal-Capstone-Project/Focal-Captsone-Project/chemistry/chem_oli_analysis.ipynb#X36sZmlsZQ%3D%3D?line=5'>6</a>\u001b[0m df_para \u001b[39m=\u001b[39m df\u001b[39m.\u001b[39mexplode(\u001b[39m\"\u001b[39m\u001b[39mParagraph\u001b[39m\u001b[39m\"\u001b[39m)\n\u001b[1;32m----> <a href='vscode-notebook-cell:/c%3A/Users/peter/OneDrive/Desktop/Focal-Capstone-Project/Focal-Captsone-Project/chemistry/chem_oli_analysis.ipynb#X36sZmlsZQ%3D%3D?line=6'>7</a>\u001b[0m df_para[\u001b[39m\"\u001b[39m\u001b[39mGenerated Question\u001b[39m\u001b[39m\"\u001b[39m] \u001b[39m=\u001b[39m df_para[\u001b[39m\"\u001b[39m\u001b[39mParagraph\u001b[39m\u001b[39m\"\u001b[39m]\u001b[39m.\u001b[39mapply(\u001b[39mlambda\u001b[39;00m x: generate(tokenizer\u001b[39m.\u001b[39;49mtokenize(x)))\n\u001b[0;32m      <a href='vscode-notebook-cell:/c%3A/Users/peter/OneDrive/Desktop/Focal-Capstone-Project/Focal-Captsone-Project/chemistry/chem_oli_analysis.ipynb#X36sZmlsZQ%3D%3D?line=7'>8</a>\u001b[0m \u001b[39mreturn\u001b[39;00m df_para\u001b[39m.\u001b[39mexplode(\u001b[39m\"\u001b[39m\u001b[39mGenerated Question\u001b[39m\u001b[39m\"\u001b[39m)\n",
      "\u001b[1;32mc:\\Users\\peter\\OneDrive\\Desktop\\Focal-Capstone-Project\\Focal-Captsone-Project\\chemistry\\chem_oli_analysis.ipynb Cell 28\u001b[0m in \u001b[0;36mgenerate\u001b[1;34m(content)\u001b[0m\n\u001b[0;32m      <a href='vscode-notebook-cell:/c%3A/Users/peter/OneDrive/Desktop/Focal-Capstone-Project/Focal-Captsone-Project/chemistry/chem_oli_analysis.ipynb#X36sZmlsZQ%3D%3D?line=0'>1</a>\u001b[0m \u001b[39mdef\u001b[39;00m \u001b[39mgenerate\u001b[39m(content):\n\u001b[1;32m----> <a href='vscode-notebook-cell:/c%3A/Users/peter/OneDrive/Desktop/Focal-Capstone-Project/Focal-Captsone-Project/chemistry/chem_oli_analysis.ipynb#X36sZmlsZQ%3D%3D?line=1'>2</a>\u001b[0m     \u001b[39mreturn\u001b[39;00m model\u001b[39m.\u001b[39;49mgenerate(content)\n",
      "File \u001b[1;32mc:\\Users\\peter\\AppData\\Local\\Programs\\Python\\Python310\\lib\\site-packages\\torch\\autograd\\grad_mode.py:27\u001b[0m, in \u001b[0;36m_DecoratorContextManager.__call__.<locals>.decorate_context\u001b[1;34m(*args, **kwargs)\u001b[0m\n\u001b[0;32m     24\u001b[0m \u001b[39m@functools\u001b[39m\u001b[39m.\u001b[39mwraps(func)\n\u001b[0;32m     25\u001b[0m \u001b[39mdef\u001b[39;00m \u001b[39mdecorate_context\u001b[39m(\u001b[39m*\u001b[39margs, \u001b[39m*\u001b[39m\u001b[39m*\u001b[39mkwargs):\n\u001b[0;32m     26\u001b[0m     \u001b[39mwith\u001b[39;00m \u001b[39mself\u001b[39m\u001b[39m.\u001b[39mclone():\n\u001b[1;32m---> 27\u001b[0m         \u001b[39mreturn\u001b[39;00m func(\u001b[39m*\u001b[39margs, \u001b[39m*\u001b[39m\u001b[39m*\u001b[39mkwargs)\n",
      "File \u001b[1;32mc:\\Users\\peter\\AppData\\Local\\Programs\\Python\\Python310\\lib\\site-packages\\transformers\\generation_utils.py:1164\u001b[0m, in \u001b[0;36mGenerationMixin.generate\u001b[1;34m(self, inputs, max_length, min_length, do_sample, early_stopping, num_beams, temperature, top_k, top_p, typical_p, repetition_penalty, bad_words_ids, force_words_ids, bos_token_id, pad_token_id, eos_token_id, length_penalty, no_repeat_ngram_size, encoder_no_repeat_ngram_size, num_return_sequences, max_time, max_new_tokens, decoder_start_token_id, use_cache, num_beam_groups, diversity_penalty, prefix_allowed_tokens_fn, logits_processor, renormalize_logits, stopping_criteria, constraints, output_attentions, output_hidden_states, output_scores, return_dict_in_generate, forced_bos_token_id, forced_eos_token_id, remove_invalid_values, synced_gpus, exponential_decay_length_penalty, **model_kwargs)\u001b[0m\n\u001b[0;32m   1158\u001b[0m \u001b[39m# 2. Define model inputs\u001b[39;00m\n\u001b[0;32m   1159\u001b[0m \u001b[39m# inputs_tensor has to be defined\u001b[39;00m\n\u001b[0;32m   1160\u001b[0m \u001b[39m# model_input_name is defined if model-specific keyword input is passed\u001b[39;00m\n\u001b[0;32m   1161\u001b[0m \u001b[39m# otherwise model_input_name is None\u001b[39;00m\n\u001b[0;32m   1162\u001b[0m \u001b[39m# all model-specific keyword inputs are removed from `model_kwargs`\u001b[39;00m\n\u001b[0;32m   1163\u001b[0m inputs_tensor, model_input_name, model_kwargs \u001b[39m=\u001b[39m \u001b[39mself\u001b[39m\u001b[39m.\u001b[39m_prepare_model_inputs(inputs, bos_token_id, model_kwargs)\n\u001b[1;32m-> 1164\u001b[0m batch_size \u001b[39m=\u001b[39m inputs_tensor\u001b[39m.\u001b[39;49mshape[\u001b[39m0\u001b[39m]\n\u001b[0;32m   1166\u001b[0m \u001b[39m# 3. Define other model kwargs\u001b[39;00m\n\u001b[0;32m   1167\u001b[0m model_kwargs[\u001b[39m\"\u001b[39m\u001b[39moutput_attentions\u001b[39m\u001b[39m\"\u001b[39m] \u001b[39m=\u001b[39m output_attentions\n",
      "\u001b[1;31mAttributeError\u001b[0m: 'list' object has no attribute 'shape'"
     ]
    }
   ],
   "source": [
    "generate_question_by_paragraph(df_oli)"
   ]
  }
 ],
 "metadata": {
  "kernel_info": {
   "name": "python3"
  },
  "kernelspec": {
   "display_name": "Python 3",
   "language": "python",
   "name": "python3"
  },
  "language_info": {
   "codemirror_mode": {
    "name": "ipython",
    "version": 3
   },
   "file_extension": ".py",
   "mimetype": "text/x-python",
   "name": "python",
   "nbconvert_exporter": "python",
   "pygments_lexer": "ipython3",
   "version": "3.10.10"
  },
  "nteract": {
   "version": "nteract-front-end@1.0.0"
  },
  "vscode": {
   "interpreter": {
    "hash": "43afbf7b8c92a6397086dae0be21e5b6ecbdfbb1f0b6983c22cfbb740a73e7f5"
   }
  }
 },
 "nbformat": 4,
 "nbformat_minor": 2
}
