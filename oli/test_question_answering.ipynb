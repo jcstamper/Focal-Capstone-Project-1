{
 "cells": [
  {
   "cell_type": "code",
   "execution_count": 1,
   "metadata": {},
   "outputs": [
    {
     "data": {
      "text/html": [
       "<div>\n",
       "<style scoped>\n",
       "    .dataframe tbody tr th:only-of-type {\n",
       "        vertical-align: middle;\n",
       "    }\n",
       "\n",
       "    .dataframe tbody tr th {\n",
       "        vertical-align: top;\n",
       "    }\n",
       "\n",
       "    .dataframe thead th {\n",
       "        text-align: right;\n",
       "    }\n",
       "</style>\n",
       "<table border=\"1\" class=\"dataframe\">\n",
       "  <thead>\n",
       "    <tr style=\"text-align: right;\">\n",
       "      <th></th>\n",
       "      <th>Unit</th>\n",
       "      <th>Module</th>\n",
       "      <th>Title</th>\n",
       "      <th>Subheaders</th>\n",
       "      <th>Cleaned Text</th>\n",
       "      <th>Paragraph</th>\n",
       "      <th>Generated Question</th>\n",
       "    </tr>\n",
       "  </thead>\n",
       "  <tbody>\n",
       "    <tr>\n",
       "      <th>0</th>\n",
       "      <td>Deep Learning and Model Deployment</td>\n",
       "      <td>Model Deployment</td>\n",
       "      <td>Quiz 10</td>\n",
       "      <td>NaN</td>\n",
       "      <td>NaN</td>\n",
       "      <td>NaN</td>\n",
       "      <td>What type of questions are there?</td>\n",
       "    </tr>\n",
       "    <tr>\n",
       "      <th>1</th>\n",
       "      <td>Deep Learning and Model Deployment</td>\n",
       "      <td>Model Deployment</td>\n",
       "      <td>Quiz 10</td>\n",
       "      <td>NaN</td>\n",
       "      <td>NaN</td>\n",
       "      <td>NaN</td>\n",
       "      <td>What kind of questions do you have?</td>\n",
       "    </tr>\n",
       "    <tr>\n",
       "      <th>2</th>\n",
       "      <td>Data Science Project Planning</td>\n",
       "      <td>Developing a Vision</td>\n",
       "      <td>Module 4 Summary</td>\n",
       "      <td>NaN</td>\n",
       "      <td>this module focuses on the foundation of a doc...</td>\n",
       "      <td>This module focuses on the foundation of a doc...</td>\n",
       "      <td>What module focuses on the foundation of a doc...</td>\n",
       "    </tr>\n",
       "    <tr>\n",
       "      <th>3</th>\n",
       "      <td>Data Science Project Planning</td>\n",
       "      <td>Developing a Vision</td>\n",
       "      <td>Module 4 Summary</td>\n",
       "      <td>NaN</td>\n",
       "      <td>this module focuses on the foundation of a doc...</td>\n",
       "      <td>This module focuses on the foundation of a doc...</td>\n",
       "      <td>What document provides a summary of the project?</td>\n",
       "    </tr>\n",
       "    <tr>\n",
       "      <th>4</th>\n",
       "      <td>Data Science Project Planning</td>\n",
       "      <td>Developing a Vision</td>\n",
       "      <td>Module 4 Summary</td>\n",
       "      <td>NaN</td>\n",
       "      <td>this module focuses on the foundation of a doc...</td>\n",
       "      <td>This module focuses on the foundation of a doc...</td>\n",
       "      <td>How does this document clear up confusion?</td>\n",
       "    </tr>\n",
       "  </tbody>\n",
       "</table>\n",
       "</div>"
      ],
      "text/plain": [
       "                                 Unit               Module             Title  \\\n",
       "0  Deep Learning and Model Deployment     Model Deployment           Quiz 10   \n",
       "1  Deep Learning and Model Deployment     Model Deployment           Quiz 10   \n",
       "2       Data Science Project Planning  Developing a Vision  Module 4 Summary   \n",
       "3       Data Science Project Planning  Developing a Vision  Module 4 Summary   \n",
       "4       Data Science Project Planning  Developing a Vision  Module 4 Summary   \n",
       "\n",
       "  Subheaders                                       Cleaned Text  \\\n",
       "0        NaN                                                NaN   \n",
       "1        NaN                                                NaN   \n",
       "2        NaN  this module focuses on the foundation of a doc...   \n",
       "3        NaN  this module focuses on the foundation of a doc...   \n",
       "4        NaN  this module focuses on the foundation of a doc...   \n",
       "\n",
       "                                           Paragraph  \\\n",
       "0                                                NaN   \n",
       "1                                                NaN   \n",
       "2  This module focuses on the foundation of a doc...   \n",
       "3  This module focuses on the foundation of a doc...   \n",
       "4  This module focuses on the foundation of a doc...   \n",
       "\n",
       "                                  Generated Question  \n",
       "0                  What type of questions are there?  \n",
       "1                What kind of questions do you have?  \n",
       "2  What module focuses on the foundation of a doc...  \n",
       "3   What document provides a summary of the project?  \n",
       "4         How does this document clear up confusion?  "
      ]
     },
     "metadata": {},
     "output_type": "display_data"
    },
    {
     "name": "stdout",
     "output_type": "stream",
     "text": [
      "What type of questions are there?\n"
     ]
    }
   ],
   "source": [
    "import pandas as pd\n",
    "data = pd.read_csv('oli_content_with_questions.csv')\n",
    "display(data.head())\n",
    "print(data['Generated Question'][0])"
   ]
  },
  {
   "cell_type": "code",
   "execution_count": 7,
   "metadata": {},
   "outputs": [
    {
     "name": "stderr",
     "output_type": "stream",
     "text": [
      "No model was supplied, defaulted to distilbert-base-cased-distilled-squad and revision 626af31 (https://huggingface.co/distilbert-base-cased-distilled-squad).\n",
      "Using a pipeline without specifying a model name and revision in production is not recommended.\n"
     ]
    },
    {
     "name": "stdout",
     "output_type": "stream",
     "text": [
      "How does this document clear up confusion?\n",
      "{'score': 0.3271963894367218, 'start': 185, 'end': 255, 'answer': 'ensures that you, your colleagues, and others are all on the same page'}\n"
     ]
    }
   ],
   "source": [
    "from transformers import pipeline\n",
    "answer_generator = pipeline('question-answering')\n",
    "answers = []\n",
    "#or i in range(10):\n",
    " #   if data['Paragraph'][i] != 'NaN':\n",
    "  #      print(data['Generated Question'][i])\n",
    "   #     print(answer_generator(question=data['Generated Question'][i],context=data['Paragraph'][i]))\n",
    "print(data['Generated Question'][4])\n",
    "print(answer_generator(question=data['Generated Question'][4],context=data['Paragraph'][4]))\n"
   ]
  }
 ],
 "metadata": {
  "kernelspec": {
   "display_name": "Python 3",
   "language": "python",
   "name": "python3"
  },
  "language_info": {
   "codemirror_mode": {
    "name": "ipython",
    "version": 3
   },
   "file_extension": ".py",
   "mimetype": "text/x-python",
   "name": "python",
   "nbconvert_exporter": "python",
   "pygments_lexer": "ipython3",
   "version": "3.10.10"
  },
  "orig_nbformat": 4
 },
 "nbformat": 4,
 "nbformat_minor": 2
}
