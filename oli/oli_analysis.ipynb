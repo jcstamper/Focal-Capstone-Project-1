{
 "cells": [
  {
   "cell_type": "markdown",
   "metadata": {},
   "source": [
    "# OLI Content Extraction and Analysis"
   ]
  },
  {
   "cell_type": "code",
   "execution_count": 1,
   "metadata": {},
   "outputs": [],
   "source": [
    "import pandas as pd\n",
    "import numpy as np\n",
    "import textract\n",
    "import re, json, os\n",
    "from os.path import join\n",
    "from bs4 import BeautifulSoup\n",
    "from gensim.summarization import keywords\n",
    "import warnings\n",
    "warnings.filterwarnings(\"ignore\")"
   ]
  },
  {
   "cell_type": "markdown",
   "metadata": {},
   "source": [
    "## 1. Extract content from PDF file"
   ]
  },
  {
   "cell_type": "code",
   "execution_count": 2,
   "metadata": {},
   "outputs": [],
   "source": [
    "def extract_content_from_pdf(filename):\n",
    "    # text variable which contains all the text derived from our PDF file\n",
    "    full_text = textract.process(filename, method='pdfminer', language='eng').decode('utf-8')\n",
    "    return full_text.encode('ascii','ignore').lower().decode('utf-8')\n",
    "\n",
    "def extract_keyword(full_text):\n",
    "    keyword_summaries = keywords(text = full_text, split = \"\\n\", scores = True)\n",
    "    data = pd.DataFrame(keyword_summaries, columns = [\"keyword\", \"score\"])\n",
    "    return data.sort_values(\"score\", ascending = False)"
   ]
  },
  {
   "cell_type": "markdown",
   "metadata": {},
   "source": [
    "## 2. Extract content from XML files "
   ]
  },
  {
   "cell_type": "code",
   "execution_count": 3,
   "metadata": {},
   "outputs": [],
   "source": [
    "SEMESTER = \"f19\"\n",
    "oli_org = open(f'{SEMESTER}/organizations/default/organization.xml', \"r\").read()\n",
    "oli_org_soup = BeautifulSoup(oli_org, \"lxml\")"
   ]
  },
  {
   "cell_type": "code",
   "execution_count": 4,
   "metadata": {},
   "outputs": [],
   "source": [
    "def get_module_unit_from_org(page_id):\n",
    "    try:\n",
    "        resource_ref = oli_org_soup.find('resourceref', {'idref': page_id})\n",
    "        curr_module = resource_ref.find_parent('module').find('title').get_text()\n",
    "        curr_unit = resource_ref.find_parent('unit').find('title').get_text()\n",
    "        return curr_module, curr_unit\n",
    "    except:\n",
    "        return None, None\n",
    "\n",
    "def is_header(p):\n",
    "    # a header paragraph should have the form <p><em>...</em></p>, with no other inner tag\n",
    "    n_contents = len([c for c in p.contents if not str(c.string).isspace()])\n",
    "    return p.find(\"em\") is not None and n_contents == 1\n",
    "\n",
    "def get_file_content(filename):\n",
    "    with open(f'{SEMESTER}/content/x-oli-workbook_page/' + filename ) as file:\n",
    "        soup = BeautifulSoup(file.read(), 'lxml')\n",
    "    page_id = soup.find('workbook_page')['id']\n",
    "    curr_module, curr_unit = get_module_unit_from_org(page_id)\n",
    "    title = soup.find(\"title\").get_text().strip()   \n",
    "    \n",
    "    # extract the sub-headers <p><em>text</em></p> and remove them from the text content\n",
    "    sub_headers = []\n",
    "    for p in soup.find_all(\"p\"):\n",
    "        if is_header(p):\n",
    "            sub_headers.append(p.find(\"em\").get_text().strip())\n",
    "            p.extract()\n",
    "    \n",
    "    all_text = \"\\n\".join(p.get_text().strip() for p in soup.find_all(\"p\"))\n",
    "    all_text = re.sub(r\"\\n+\", r\"\\n\", all_text.strip())\n",
    "    return {\n",
    "        \"Unit\" : curr_unit, \"Module\" : curr_module, \"Title\" : title,\n",
    "        \"Text\": all_text, \"Subheaders\" : \",\".join(sub_headers)\n",
    "    }"
   ]
  },
  {
   "cell_type": "code",
   "execution_count": 5,
   "metadata": {},
   "outputs": [
    {
     "data": {
      "text/html": [
       "<div>\n",
       "<style scoped>\n",
       "    .dataframe tbody tr th:only-of-type {\n",
       "        vertical-align: middle;\n",
       "    }\n",
       "\n",
       "    .dataframe tbody tr th {\n",
       "        vertical-align: top;\n",
       "    }\n",
       "\n",
       "    .dataframe thead th {\n",
       "        text-align: right;\n",
       "    }\n",
       "</style>\n",
       "<table border=\"1\" class=\"dataframe\">\n",
       "  <thead>\n",
       "    <tr style=\"text-align: right;\">\n",
       "      <th></th>\n",
       "      <th>Unit</th>\n",
       "      <th>Module</th>\n",
       "      <th>Title</th>\n",
       "      <th>Text</th>\n",
       "      <th>Subheaders</th>\n",
       "    </tr>\n",
       "  </thead>\n",
       "  <tbody>\n",
       "    <tr>\n",
       "      <th>0</th>\n",
       "      <td>Data Gathering and Wrangling</td>\n",
       "      <td>Data Gathering</td>\n",
       "      <td>Data Management</td>\n",
       "      <td>A data scientist’s role involves utilizing com...</td>\n",
       "      <td>Data Gathering Overview,Data Management</td>\n",
       "    </tr>\n",
       "    <tr>\n",
       "      <th>1</th>\n",
       "      <td>Data Gathering and Wrangling</td>\n",
       "      <td>Data Collection Process</td>\n",
       "      <td>Summary and Quiz 2</td>\n",
       "      <td>Each data science project is unique and will r...</td>\n",
       "      <td></td>\n",
       "    </tr>\n",
       "    <tr>\n",
       "      <th>5</th>\n",
       "      <td>Analytic Algorithms and Model Building</td>\n",
       "      <td>Data Science Patterns</td>\n",
       "      <td>Summary and Quiz 6</td>\n",
       "      <td>Prediction involves using a model to predict o...</td>\n",
       "      <td></td>\n",
       "    </tr>\n",
       "    <tr>\n",
       "      <th>7</th>\n",
       "      <td>Analytic Requirements Gathering</td>\n",
       "      <td>Requirements Gathering Techniques</td>\n",
       "      <td>Successful Requirements Gathering</td>\n",
       "      <td>The requirements gathering process is not line...</td>\n",
       "      <td>Validating Requirements</td>\n",
       "    </tr>\n",
       "    <tr>\n",
       "      <th>8</th>\n",
       "      <td>Exploratory Data Analysis</td>\n",
       "      <td>Feature Engineering</td>\n",
       "      <td>Summary and Quiz 5</td>\n",
       "      <td>In this module, we explored a technique used t...</td>\n",
       "      <td></td>\n",
       "    </tr>\n",
       "  </tbody>\n",
       "</table>\n",
       "</div>"
      ],
      "text/plain": [
       "                                     Unit                             Module  \\\n",
       "0            Data Gathering and Wrangling                     Data Gathering   \n",
       "1            Data Gathering and Wrangling            Data Collection Process   \n",
       "5  Analytic Algorithms and Model Building              Data Science Patterns   \n",
       "7         Analytic Requirements Gathering  Requirements Gathering Techniques   \n",
       "8               Exploratory Data Analysis                Feature Engineering   \n",
       "\n",
       "                               Title  \\\n",
       "0                    Data Management   \n",
       "1                 Summary and Quiz 2   \n",
       "5                 Summary and Quiz 6   \n",
       "7  Successful Requirements Gathering   \n",
       "8                 Summary and Quiz 5   \n",
       "\n",
       "                                                Text  \\\n",
       "0  A data scientist’s role involves utilizing com...   \n",
       "1  Each data science project is unique and will r...   \n",
       "5  Prediction involves using a model to predict o...   \n",
       "7  The requirements gathering process is not line...   \n",
       "8  In this module, we explored a technique used t...   \n",
       "\n",
       "                                Subheaders  \n",
       "0  Data Gathering Overview,Data Management  \n",
       "1                                           \n",
       "5                                           \n",
       "7                  Validating Requirements  \n",
       "8                                           "
      ]
     },
     "execution_count": 5,
     "metadata": {},
     "output_type": "execute_result"
    }
   ],
   "source": [
    "df_oli = pd.DataFrame([\n",
    "    get_file_content(filename)\n",
    "    for filename in os.listdir(f\"{SEMESTER}/content/x-oli-workbook_page\")\n",
    "    if filename.endswith(\".xml\")\n",
    "]).dropna()\n",
    "df_oli.to_csv(\"oli_content.csv\", index = False)\n",
    "df_oli.head()"
   ]
  },
  {
   "cell_type": "markdown",
   "metadata": {},
   "source": [
    "## 3. Topic modeling with LDA"
   ]
  },
  {
   "cell_type": "code",
   "execution_count": null,
   "metadata": {},
   "outputs": [],
   "source": [
    "from sklearn.feature_extraction.text import CountVectorizer\n",
    "import matplotlib.pyplot as plt\n",
    "import seaborn as sns\n",
    "%matplotlib inline"
   ]
  },
  {
   "cell_type": "code",
   "execution_count": null,
   "metadata": {},
   "outputs": [],
   "source": [
    "def plot_10_most_common_words(count_data, count_vectorizer):\n",
    "    words = count_vectorizer.get_feature_names()\n",
    "    # get the count of each word across the entire corpus\n",
    "    total_counts = count_data.sum(axis = 0).A.ravel()\n",
    "\n",
    "    count_dict = (zip(words, total_counts))\n",
    "    count_dict = sorted(count_dict, key=lambda x: x[1], reverse=True)[0:10]\n",
    "    words, counts = zip(*count_dict)\n",
    "    x_pos = np.arange(len(words)) \n",
    "    \n",
    "    plt.figure(2, figsize=(15, 15/1.6180))\n",
    "    plt.subplot(title='10 most common words')\n",
    "    sns.set_context(\"notebook\", font_scale=1.25, rc={\"lines.linewidth\": 2.5})\n",
    "    sns.barplot(x_pos, list(counts), palette='husl')\n",
    "    plt.xticks(x_pos, list(words), rotation=90) \n",
    "    plt.xlabel('words')\n",
    "    plt.ylabel('counts')\n",
    "    plt.show()\n",
    "\n",
    "# Preprocess the text to prepare for LDA\n",
    "df_oli[\"Cleaned Text\"] = df_oli[\"Text\"].apply(lambda text: re.sub('[,\\.!?]', '', text).lower())\n",
    "# Initialise the count vectorizer with the English stop words\n",
    "count_vectorizer = CountVectorizer(stop_words='english')\n",
    "# Fit and transform the processed titles\n",
    "count_data = count_vectorizer.fit_transform(df_oli['Cleaned Text'])\n",
    "# Visualise the 10 most common words\n",
    "plot_10_most_common_words(count_data, count_vectorizer)"
   ]
  },
  {
   "cell_type": "markdown",
   "metadata": {},
   "source": [
    "## 4. QA generation with pretrained huggingface model\n"
   ]
  },
  {
   "cell_type": "code",
   "execution_count": 9,
   "metadata": {},
   "outputs": [
    {
     "data": {
      "application/vnd.jupyter.widget-view+json": {
       "model_id": "ff1c107a673a468caca3a01beea86ab5",
       "version_major": 2,
       "version_minor": 0
      },
      "text/plain": [
       "HBox(children=(HTML(value='Downloading'), FloatProgress(value=0.0, max=1348.0), HTML(value='')))"
      ]
     },
     "metadata": {},
     "output_type": "display_data"
    },
    {
     "name": "stdout",
     "output_type": "stream",
     "text": [
      "\n"
     ]
    },
    {
     "data": {
      "application/vnd.jupyter.widget-view+json": {
       "model_id": "94564ee6db56494eafe4cf59bc5d135e",
       "version_major": 2,
       "version_minor": 0
      },
      "text/plain": [
       "HBox(children=(HTML(value='Downloading'), FloatProgress(value=0.0, max=791656.0), HTML(value='')))"
      ]
     },
     "metadata": {},
     "output_type": "display_data"
    },
    {
     "name": "stdout",
     "output_type": "stream",
     "text": [
      "\n"
     ]
    },
    {
     "data": {
      "application/vnd.jupyter.widget-view+json": {
       "model_id": "75b9354f6d1d4216b6b32325e3cc4015",
       "version_major": 2,
       "version_minor": 0
      },
      "text/plain": [
       "HBox(children=(HTML(value='Downloading'), FloatProgress(value=0.0, max=31.0), HTML(value='')))"
      ]
     },
     "metadata": {},
     "output_type": "display_data"
    },
    {
     "name": "stdout",
     "output_type": "stream",
     "text": [
      "\n"
     ]
    },
    {
     "data": {
      "application/vnd.jupyter.widget-view+json": {
       "model_id": "e4aee3ec3a004033a2c6f1b39b5ac620",
       "version_major": 2,
       "version_minor": 0
      },
      "text/plain": [
       "HBox(children=(HTML(value='Downloading'), FloatProgress(value=0.0, max=1786.0), HTML(value='')))"
      ]
     },
     "metadata": {},
     "output_type": "display_data"
    },
    {
     "name": "stdout",
     "output_type": "stream",
     "text": [
      "\n"
     ]
    },
    {
     "data": {
      "application/vnd.jupyter.widget-view+json": {
       "model_id": "fc6bf281265e4b74b970cbcc8d5b615b",
       "version_major": 2,
       "version_minor": 0
      },
      "text/plain": [
       "HBox(children=(HTML(value='Downloading'), FloatProgress(value=0.0, max=124.0), HTML(value='')))"
      ]
     },
     "metadata": {},
     "output_type": "display_data"
    },
    {
     "name": "stdout",
     "output_type": "stream",
     "text": [
      "\n"
     ]
    },
    {
     "data": {
      "application/vnd.jupyter.widget-view+json": {
       "model_id": "81f96af1e66e408a8886d3e7f37a51d8",
       "version_major": 2,
       "version_minor": 0
      },
      "text/plain": [
       "HBox(children=(HTML(value='Downloading'), FloatProgress(value=0.0, max=242013376.0), HTML(value='')))"
      ]
     },
     "metadata": {},
     "output_type": "display_data"
    },
    {
     "name": "stdout",
     "output_type": "stream",
     "text": [
      "\n"
     ]
    },
    {
     "name": "stderr",
     "output_type": "stream",
     "text": [
      "Some weights of the model checkpoint at valhalla/t5-small-e2e-qg were not used when initializing T5ForConditionalGeneration: ['decoder.block.0.layer.1.EncDecAttention.relative_attention_bias.weight']\n",
      "- This IS expected if you are initializing T5ForConditionalGeneration from the checkpoint of a model trained on another task or with another architecture (e.g. initializing a BertForSequenceClassification model from a BertForPreTraining model).\n",
      "- This IS NOT expected if you are initializing T5ForConditionalGeneration from the checkpoint of a model that you expect to be exactly identical (initializing a BertForSequenceClassification model from a BertForSequenceClassification model).\n"
     ]
    }
   ],
   "source": [
    "from pipelines import pipeline\n",
    "question_generator = pipeline(\"e2e-qg\");"
   ]
  },
  {
   "cell_type": "code",
   "execution_count": 10,
   "metadata": {},
   "outputs": [],
   "source": [
    "def generate_question_by_paragraph(df):\n",
    "    df[\"Paragraph\"] = df[\"Text\"].str.split(\"\\n\")\n",
    "    df_para = df.explode(\"Paragraph\")\n",
    "    df_para[\"Generated Question\"] = df_para[\"Paragraph\"].apply(question_generator)\n",
    "    return df_para.explode(\"Generated Question\")"
   ]
  },
  {
   "cell_type": "code",
   "execution_count": 11,
   "metadata": {},
   "outputs": [
    {
     "name": "stdout",
     "output_type": "stream",
     "text": [
      "CPU times: user 9h 24min 51s, sys: 14min 57s, total: 9h 39min 49s\n",
      "Wall time: 50min 42s\n"
     ]
    }
   ],
   "source": [
    "%time df_oli_with_questions = generate_question_by_paragraph(df_oli)"
   ]
  },
  {
   "cell_type": "code",
   "execution_count": 14,
   "metadata": {},
   "outputs": [],
   "source": [
    "df_oli_with_questions.drop(columns = \"Text\").to_csv(\"oli_content_with_questions.csv\", index = False)"
   ]
  },
  {
   "cell_type": "code",
   "execution_count": 19,
   "metadata": {},
   "outputs": [
    {
     "data": {
      "text/html": [
       "<div>\n",
       "<style scoped>\n",
       "    .dataframe tbody tr th:only-of-type {\n",
       "        vertical-align: middle;\n",
       "    }\n",
       "\n",
       "    .dataframe tbody tr th {\n",
       "        vertical-align: top;\n",
       "    }\n",
       "\n",
       "    .dataframe thead th {\n",
       "        text-align: right;\n",
       "    }\n",
       "</style>\n",
       "<table border=\"1\" class=\"dataframe\">\n",
       "  <thead>\n",
       "    <tr style=\"text-align: right;\">\n",
       "      <th></th>\n",
       "      <th>index</th>\n",
       "      <th>Unit</th>\n",
       "      <th>Module</th>\n",
       "      <th>Title</th>\n",
       "      <th>Text</th>\n",
       "      <th>Subheaders</th>\n",
       "      <th>Paragraph</th>\n",
       "      <th>Generated Question</th>\n",
       "    </tr>\n",
       "  </thead>\n",
       "  <tbody>\n",
       "    <tr>\n",
       "      <th>0</th>\n",
       "      <td>0</td>\n",
       "      <td>Data Gathering and Wrangling</td>\n",
       "      <td>Data Gathering</td>\n",
       "      <td>Data Management</td>\n",
       "      <td>A data scientist’s role involves utilizing com...</td>\n",
       "      <td>Data Gathering Overview,Data Management</td>\n",
       "      <td>A data scientist’s role involves utilizing com...</td>\n",
       "      <td>What skills does a data scientist use to uncov...</td>\n",
       "    </tr>\n",
       "    <tr>\n",
       "      <th>1</th>\n",
       "      <td>0</td>\n",
       "      <td>Data Gathering and Wrangling</td>\n",
       "      <td>Data Gathering</td>\n",
       "      <td>Data Management</td>\n",
       "      <td>A data scientist’s role involves utilizing com...</td>\n",
       "      <td>Data Gathering Overview,Data Management</td>\n",
       "      <td>A data scientist’s role involves utilizing com...</td>\n",
       "      <td>What is a crucial phase of the data science pr...</td>\n",
       "    </tr>\n",
       "    <tr>\n",
       "      <th>2</th>\n",
       "      <td>0</td>\n",
       "      <td>Data Gathering and Wrangling</td>\n",
       "      <td>Data Gathering</td>\n",
       "      <td>Data Management</td>\n",
       "      <td>A data scientist’s role involves utilizing com...</td>\n",
       "      <td>Data Gathering Overview,Data Management</td>\n",
       "      <td>A data scientist’s role involves utilizing com...</td>\n",
       "      <td>What is the next phase of the data science pro...</td>\n",
       "    </tr>\n",
       "    <tr>\n",
       "      <th>3</th>\n",
       "      <td>0</td>\n",
       "      <td>Data Gathering and Wrangling</td>\n",
       "      <td>Data Gathering</td>\n",
       "      <td>Data Management</td>\n",
       "      <td>A data scientist’s role involves utilizing com...</td>\n",
       "      <td>Data Gathering Overview,Data Management</td>\n",
       "      <td>A data scientist’s role involves utilizing com...</td>\n",
       "      <td>How much of your time will you spend understan...</td>\n",
       "    </tr>\n",
       "    <tr>\n",
       "      <th>4</th>\n",
       "      <td>0</td>\n",
       "      <td>Data Gathering and Wrangling</td>\n",
       "      <td>Data Gathering</td>\n",
       "      <td>Data Management</td>\n",
       "      <td>A data scientist’s role involves utilizing com...</td>\n",
       "      <td>Data Gathering Overview,Data Management</td>\n",
       "      <td>A data scientist’s role involves utilizing com...</td>\n",
       "      <td>What does the quality of your data have a dire...</td>\n",
       "    </tr>\n",
       "    <tr>\n",
       "      <th>...</th>\n",
       "      <td>...</td>\n",
       "      <td>...</td>\n",
       "      <td>...</td>\n",
       "      <td>...</td>\n",
       "      <td>...</td>\n",
       "      <td>...</td>\n",
       "      <td>...</td>\n",
       "      <td>...</td>\n",
       "    </tr>\n",
       "    <tr>\n",
       "      <th>43995</th>\n",
       "      <td>113</td>\n",
       "      <td>Problem Identification and Solution Vision</td>\n",
       "      <td>Problem Identification</td>\n",
       "      <td>AI Philosophy: A Process, not a Product</td>\n",
       "      <td>AI Philosophy: A Process, not a Product\\nAI Ph...</td>\n",
       "      <td></td>\n",
       "      <td>AI Enabled. The organization has deployed the ...</td>\n",
       "      <td>What does AI Ready mean?</td>\n",
       "    </tr>\n",
       "    <tr>\n",
       "      <th>43996</th>\n",
       "      <td>113</td>\n",
       "      <td>Problem Identification and Solution Vision</td>\n",
       "      <td>Problem Identification</td>\n",
       "      <td>AI Philosophy: A Process, not a Product</td>\n",
       "      <td>AI Philosophy: A Process, not a Product\\nAI Ph...</td>\n",
       "      <td></td>\n",
       "      <td>AI Enabled. The organization has deployed the ...</td>\n",
       "      <td>How can AI help end users?</td>\n",
       "    </tr>\n",
       "    <tr>\n",
       "      <th>43997</th>\n",
       "      <td>113</td>\n",
       "      <td>Problem Identification and Solution Vision</td>\n",
       "      <td>Problem Identification</td>\n",
       "      <td>AI Philosophy: A Process, not a Product</td>\n",
       "      <td>AI Philosophy: A Process, not a Product\\nAI Ph...</td>\n",
       "      <td></td>\n",
       "      <td>AI Enabled. The organization has deployed the ...</td>\n",
       "      <td>What is an organization able to measure in a r...</td>\n",
       "    </tr>\n",
       "    <tr>\n",
       "      <th>43998</th>\n",
       "      <td>113</td>\n",
       "      <td>Problem Identification and Solution Vision</td>\n",
       "      <td>Problem Identification</td>\n",
       "      <td>AI Philosophy: A Process, not a Product</td>\n",
       "      <td>AI Philosophy: A Process, not a Product\\nAI Ph...</td>\n",
       "      <td></td>\n",
       "      <td>AI Enabled. The organization has deployed the ...</td>\n",
       "      <td>What can an organization claim that it has imp...</td>\n",
       "    </tr>\n",
       "    <tr>\n",
       "      <th>43999</th>\n",
       "      <td>113</td>\n",
       "      <td>Problem Identification and Solution Vision</td>\n",
       "      <td>Problem Identification</td>\n",
       "      <td>AI Philosophy: A Process, not a Product</td>\n",
       "      <td>AI Philosophy: A Process, not a Product\\nAI Ph...</td>\n",
       "      <td></td>\n",
       "      <td>AI Enabled. The organization has deployed the ...</td>\n",
       "      <td>How does an organization measure if the data s...</td>\n",
       "    </tr>\n",
       "  </tbody>\n",
       "</table>\n",
       "<p>44000 rows × 8 columns</p>\n",
       "</div>"
      ],
      "text/plain": [
       "       index                                        Unit  \\\n",
       "0          0                Data Gathering and Wrangling   \n",
       "1          0                Data Gathering and Wrangling   \n",
       "2          0                Data Gathering and Wrangling   \n",
       "3          0                Data Gathering and Wrangling   \n",
       "4          0                Data Gathering and Wrangling   \n",
       "...      ...                                         ...   \n",
       "43995    113  Problem Identification and Solution Vision   \n",
       "43996    113  Problem Identification and Solution Vision   \n",
       "43997    113  Problem Identification and Solution Vision   \n",
       "43998    113  Problem Identification and Solution Vision   \n",
       "43999    113  Problem Identification and Solution Vision   \n",
       "\n",
       "                       Module                                    Title  \\\n",
       "0              Data Gathering                          Data Management   \n",
       "1              Data Gathering                          Data Management   \n",
       "2              Data Gathering                          Data Management   \n",
       "3              Data Gathering                          Data Management   \n",
       "4              Data Gathering                          Data Management   \n",
       "...                       ...                                      ...   \n",
       "43995  Problem Identification  AI Philosophy: A Process, not a Product   \n",
       "43996  Problem Identification  AI Philosophy: A Process, not a Product   \n",
       "43997  Problem Identification  AI Philosophy: A Process, not a Product   \n",
       "43998  Problem Identification  AI Philosophy: A Process, not a Product   \n",
       "43999  Problem Identification  AI Philosophy: A Process, not a Product   \n",
       "\n",
       "                                                    Text  \\\n",
       "0      A data scientist’s role involves utilizing com...   \n",
       "1      A data scientist’s role involves utilizing com...   \n",
       "2      A data scientist’s role involves utilizing com...   \n",
       "3      A data scientist’s role involves utilizing com...   \n",
       "4      A data scientist’s role involves utilizing com...   \n",
       "...                                                  ...   \n",
       "43995  AI Philosophy: A Process, not a Product\\nAI Ph...   \n",
       "43996  AI Philosophy: A Process, not a Product\\nAI Ph...   \n",
       "43997  AI Philosophy: A Process, not a Product\\nAI Ph...   \n",
       "43998  AI Philosophy: A Process, not a Product\\nAI Ph...   \n",
       "43999  AI Philosophy: A Process, not a Product\\nAI Ph...   \n",
       "\n",
       "                                    Subheaders  \\\n",
       "0      Data Gathering Overview,Data Management   \n",
       "1      Data Gathering Overview,Data Management   \n",
       "2      Data Gathering Overview,Data Management   \n",
       "3      Data Gathering Overview,Data Management   \n",
       "4      Data Gathering Overview,Data Management   \n",
       "...                                        ...   \n",
       "43995                                            \n",
       "43996                                            \n",
       "43997                                            \n",
       "43998                                            \n",
       "43999                                            \n",
       "\n",
       "                                               Paragraph  \\\n",
       "0      A data scientist’s role involves utilizing com...   \n",
       "1      A data scientist’s role involves utilizing com...   \n",
       "2      A data scientist’s role involves utilizing com...   \n",
       "3      A data scientist’s role involves utilizing com...   \n",
       "4      A data scientist’s role involves utilizing com...   \n",
       "...                                                  ...   \n",
       "43995  AI Enabled. The organization has deployed the ...   \n",
       "43996  AI Enabled. The organization has deployed the ...   \n",
       "43997  AI Enabled. The organization has deployed the ...   \n",
       "43998  AI Enabled. The organization has deployed the ...   \n",
       "43999  AI Enabled. The organization has deployed the ...   \n",
       "\n",
       "                                      Generated Question  \n",
       "0      What skills does a data scientist use to uncov...  \n",
       "1      What is a crucial phase of the data science pr...  \n",
       "2      What is the next phase of the data science pro...  \n",
       "3      How much of your time will you spend understan...  \n",
       "4      What does the quality of your data have a dire...  \n",
       "...                                                  ...  \n",
       "43995                           What does AI Ready mean?  \n",
       "43996                         How can AI help end users?  \n",
       "43997  What is an organization able to measure in a r...  \n",
       "43998  What can an organization claim that it has imp...  \n",
       "43999  How does an organization measure if the data s...  \n",
       "\n",
       "[44000 rows x 8 columns]"
      ]
     },
     "execution_count": 19,
     "metadata": {},
     "output_type": "execute_result"
    }
   ],
   "source": [
    "df_oli_with_questions.reset_index()"
   ]
  },
  {
   "cell_type": "code",
   "execution_count": 20,
   "metadata": {},
   "outputs": [
    {
     "data": {
      "text/plain": [
       "['AI Enabled. The organization has deployed the new software in a relevant context, and is able to directly measure the impact (e.g., increased sales). At this point the organization can claim that it has implemented AI, and is gathering feedback to show that it really works with real end users. An organization can introduce the data science decision into a real world setting and measure if this implementation works.',\n",
       " 'How can AI help end users?']"
      ]
     },
     "execution_count": 20,
     "metadata": {},
     "output_type": "execute_result"
    }
   ],
   "source": [
    "df_oli_with_questions.reset_index().iloc[43996, [-2, -1]].tolist()"
   ]
  }
 ],
 "metadata": {
  "kernel_info": {
   "name": "python3"
  },
  "kernelspec": {
   "display_name": "Python 3",
   "language": "python",
   "name": "python3"
  },
  "language_info": {
   "codemirror_mode": {
    "name": "ipython",
    "version": 3
   },
   "file_extension": ".py",
   "mimetype": "text/x-python",
   "name": "python",
   "nbconvert_exporter": "python",
   "pygments_lexer": "ipython3",
   "version": "3.6.9"
  },
  "nteract": {
   "version": "nteract-front-end@1.0.0"
  }
 },
 "nbformat": 4,
 "nbformat_minor": 2
}
