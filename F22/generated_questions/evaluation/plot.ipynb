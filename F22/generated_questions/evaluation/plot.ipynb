{
 "cells": [
  {
   "cell_type": "code",
   "execution_count": 1,
   "metadata": {},
   "outputs": [],
   "source": [
    "from matplotlib import ticker\n",
    "import matplotlib.pyplot as plt\n",
    "import pandas as pd\n"
   ]
  },
  {
   "cell_type": "code",
   "execution_count": 2,
   "metadata": {},
   "outputs": [],
   "source": [
    "models = ['BART', 'bert2BERT', 'GPT-2','T5']\n",
    "sound = [72.2, 91.5, 65.8, 80.2] \n",
    "not_sound = [28.8, 8.5, 34.2, 19.8]\n",
    "df = pd.DataFrame(sound, columns=['Sound'], index=models)\n",
    "df['Not Sound'] = not_sound "
   ]
  },
  {
   "cell_type": "code",
   "execution_count": 9,
   "metadata": {},
   "outputs": [
    {
     "data": {
      "image/png": "[encoded data removed]",
      "text/plain": [
       "<Figure size 432x288 with 1 Axes>"
      ]
     },
     "metadata": {
      "needs_background": "light"
     },
     "output_type": "display_data"
    }
   ],
   "source": [
    "from matplotlib import ticker\n",
    "import matplotlib.pyplot as plt\n",
    "\n",
    "df.plot(kind='bar')\n",
    "plt.ylabel('Percentage')\n",
    "plt.title('GPT-3 Generated Question Evaluation')\n",
    "plt.xlabel('Model')\n",
    "\n",
    "plt.gca().xaxis.set_tick_params(rotation=0)"
   ]
  },
  {
   "cell_type": "code",
   "execution_count": 22,
   "metadata": {},
   "outputs": [],
   "source": [
    "models = ['BART', 'bert2BERT', 'GPT-2','T5']\n",
    "sound = [55, 24, 36, 57] \n",
    "not_sound = [45, 76, 64, 43]\n",
    "df = pd.DataFrame(sound, columns=['Sound'], index=models)\n",
    "df['Not Sound'] = not_sound "
   ]
  },
  {
   "cell_type": "code",
   "execution_count": 23,
   "metadata": {},
   "outputs": [
    {
     "data": {
      "image/png": "[encoded data removed]",
      "text/plain": [
       "<Figure size 432x288 with 1 Axes>"
      ]
     },
     "metadata": {
      "needs_background": "light"
     },
     "output_type": "display_data"
    }
   ],
   "source": [
    "df.plot(kind='bar')\n",
    "plt.ylabel('Percentage')\n",
    "plt.title('Generated Question Human Evaluation')\n",
    "plt.xlabel('Model')\n",
    "\n",
    "plt.gca().xaxis.set_tick_params(rotation=0)"
   ]
  },
  {
   "cell_type": "code",
   "execution_count": 14,
   "metadata": {},
   "outputs": [],
   "source": [
    "bart_data = pd.read_csv('f22_bart_with_predictions.csv')\n",
    "bert_data = pd.read_csv('f22_bert_to_bert_with_predictions.csv')\n",
    "gpt_data = pd.read_csv('f22_gpt2_refined_with_predictions.csv')\n",
    "t5_data = pd.read_csv('f22_short_answer_e2e_qg_with_predictions.csv')\n",
    "\n",
    "rand_bart = bart_data.sample(100)\n",
    "rand_bert = bert_data.sample(100)\n",
    "rand_gpt = gpt_data.sample(100)\n",
    "rand_t5 = t5_data.sample(100)\n"
   ]
  },
  {
   "cell_type": "code",
   "execution_count": 21,
   "metadata": {},
   "outputs": [
    {
     "name": "stdout",
     "output_type": "stream",
     "text": [
      "53\n",
      "20\n",
      "2\n",
      "25\n",
      "23\n",
      "70\n",
      "1\n",
      "6\n",
      "31\n",
      "33\n",
      "5\n",
      "31\n",
      "54\n",
      "25\n",
      "3\n",
      "18\n"
     ]
    }
   ],
   "source": [
    "bart_eval = pd.read_csv('bart_for_human_eval.csv')\n",
    "bert_eval = pd.read_csv('bert_for_human_eval.csv')\n",
    "gpt_eval = pd.read_csv('gpt_for_human_eval.csv')\n",
    "t5_eval = pd.read_csv('t5_for_human_eval.csv')\n",
    "print(len(bart_eval.query(\"predicted_label == 1 and human_eval == 1\")))\n",
    "print(len(bart_eval.query(\"predicted_label == 1 and human_eval == 0\")))\n",
    "print(len(bart_eval.query(\"predicted_label == 0 and human_eval == 1\")))\n",
    "print(len(bart_eval.query(\"predicted_label == 0 and human_eval == 0\")))\n",
    "\n",
    "print(len(bert_eval.query(\"predicted_label == 1 and human_eval == 1\")))\n",
    "print(len(bert_eval.query(\"predicted_label == 1 and human_eval == 0\")))\n",
    "print(len(bert_eval.query(\"predicted_label == 0 and human_eval == 1\")))\n",
    "print(len(bert_eval.query(\"predicted_label == 0 and human_eval == 0\")))\n",
    "\n",
    "print(len(gpt_eval.query(\"predicted_label == 1 and human_eval == 1\")))\n",
    "print(len(gpt_eval.query(\"predicted_label == 1 and human_eval == 0\")))\n",
    "print(len(gpt_eval.query(\"predicted_label == 0 and human_eval == 1\")))\n",
    "print(len(gpt_eval.query(\"predicted_label == 0 and human_eval == 0\")))\n",
    "\n",
    "print(len(t5_eval.query(\"predicted_label == 1 and human_eval == 1\")))\n",
    "print(len(t5_eval.query(\"predicted_label == 1 and human_eval == 0\")))\n",
    "print(len(t5_eval.query(\"predicted_label == 0 and human_eval == 1\")))\n",
    "print(len(t5_eval.query(\"predicted_label == 0 and human_eval == 0\")))\n",
    "\n"
   ]
  },
  {
   "cell_type": "code",
   "execution_count": 25,
   "metadata": {},
   "outputs": [],
   "source": [
    "chem_bart = pd.read_csv('chem_bart_with_predictions.csv')\n",
    "#bert_data = pd.read_csv('f22_bert_to_bert_with_predictions.csv')\n",
    "#gpt_data = pd.read_csv('f22_gpt2_refined_with_predictions.csv')\n",
    "#t5_data = pd.read_csv('f22_short_answer_e2e_qg_with_predictions.csv')\n",
    "\n",
    "chem_rand = chem_bart.sample(100)\n",
    "#rand_bert = bert_data.sample(100)\n",
    "#rand_gpt = gpt_data.sample(100)\n",
    "#rand_t5 = t5_data.sample(100)\n",
    "chem_rand.to_csv('chem_bart_for_human_eval.csv')"
   ]
  },
  {
   "cell_type": "code",
   "execution_count": 27,
   "metadata": {},
   "outputs": [
    {
     "name": "stdout",
     "output_type": "stream",
     "text": [
      "58\n",
      "24\n",
      "1\n",
      "17\n"
     ]
    }
   ],
   "source": [
    "chem_bart = pd.read_csv('chem_bart_for_human_eval.csv')\n",
    "print(len(chem_bart.query(\"predicted_label == 1 and human_eval == 1\")))\n",
    "print(len(chem_bart.query(\"predicted_label == 1 and human_eval == 0\")))\n",
    "print(len(chem_bart.query(\"predicted_label == 0 and human_eval == 1\")))\n",
    "print(len(chem_bart.query(\"predicted_label == 0 and human_eval == 0\")))"
   ]
  },
  {
   "cell_type": "code",
   "execution_count": 28,
   "metadata": {},
   "outputs": [],
   "source": [
    "chem_t5 = pd.read_csv('chem_t5_with_predictions.csv')\n",
    "chem_rand_t5 = chem_t5.sample(100)\n",
    "chem_rand_t5.to_csv('chem_t5_for_human_eval.csv')"
   ]
  },
  {
   "cell_type": "code",
   "execution_count": 29,
   "metadata": {},
   "outputs": [],
   "source": [
    "chem_bert = pd.read_csv('chem_bert_with_predictions.csv')\n",
    "chem_rand_bert = chem_bert.sample(100)\n",
    "chem_rand_bert.to_csv('chem_bert_for_human_eval.csv')"
   ]
  },
  {
   "cell_type": "code",
   "execution_count": 30,
   "metadata": {},
   "outputs": [
    {
     "name": "stdout",
     "output_type": "stream",
     "text": [
      "31\n",
      "66\n",
      "0\n",
      "3\n"
     ]
    }
   ],
   "source": [
    "chem_bert = pd.read_csv('chem_bert_for_human_eval.csv')\n",
    "print(len(chem_bert.query(\"predicted_label == 1 and human_eval == 1\")))\n",
    "print(len(chem_bert.query(\"predicted_label == 1 and human_eval == 0\")))\n",
    "print(len(chem_bert.query(\"predicted_label == 0 and human_eval == 1\")))\n",
    "print(len(chem_bert.query(\"predicted_label == 0 and human_eval == 0\")))"
   ]
  },
  {
   "cell_type": "code",
   "execution_count": 31,
   "metadata": {},
   "outputs": [
    {
     "name": "stdout",
     "output_type": "stream",
     "text": [
      "44\n",
      "36\n",
      "1\n",
      "19\n"
     ]
    }
   ],
   "source": [
    "chem_t5 = pd.read_csv('chem_t5_for_human_eval.csv')\n",
    "print(len(chem_t5.query(\"predicted_label == 1 and human_eval == 1\")))\n",
    "print(len(chem_t5.query(\"predicted_label == 1 and human_eval == 0\")))\n",
    "print(len(chem_t5.query(\"predicted_label == 0 and human_eval == 1\")))\n",
    "print(len(chem_t5.query(\"predicted_label == 0 and human_eval == 0\")))"
   ]
  },
  {
   "cell_type": "code",
   "execution_count": 38,
   "metadata": {},
   "outputs": [],
   "source": [
    "chem_gpt = pd.read_csv('chem_gpt_with_predictions.csv')\n",
    "chem_rand_gpt = chem_gpt.sample(100)\n",
    "chem_rand_gpt.to_csv('chem_gpt_with_human_eval.csv')"
   ]
  },
  {
   "cell_type": "code",
   "execution_count": 39,
   "metadata": {},
   "outputs": [
    {
     "name": "stdout",
     "output_type": "stream",
     "text": [
      "25\n",
      "57\n",
      "0\n",
      "18\n"
     ]
    }
   ],
   "source": [
    "chem_gpt = pd.read_csv('chem_gpt_with_human_eval.csv')\n",
    "print(len(chem_gpt.query(\"predicted_label == 1 and human_eval == 1\")))\n",
    "print(len(chem_gpt.query(\"predicted_label == 1 and human_eval == 0\")))\n",
    "print(len(chem_gpt.query(\"predicted_label == 0 and human_eval == 1\")))\n",
    "print(len(chem_gpt.query(\"predicted_label == 0 and human_eval == 0\")))"
   ]
  },
  {
   "cell_type": "code",
   "execution_count": 36,
   "metadata": {},
   "outputs": [],
   "source": [
    "models = ['BART', 'bert2BERT', 'GPT-2','T5']\n",
    "sound = [82.3, 96.7, 78.6, 81.8] \n",
    "not_sound = [17.7, 3.3, 21.4, 18.2]\n",
    "df = pd.DataFrame(sound, columns=['Sound'], index=models)\n",
    "df['Not Sound'] = not_sound "
   ]
  },
  {
   "cell_type": "code",
   "execution_count": 37,
   "metadata": {},
   "outputs": [
    {
     "data": {
      "image/png": "[encoded data removed]",
      "text/plain": [
       "<Figure size 432x288 with 1 Axes>"
      ]
     },
     "metadata": {
      "needs_background": "light"
     },
     "output_type": "display_data"
    }
   ],
   "source": [
    "df.plot(kind='bar')\n",
    "plt.ylabel('Percentage')\n",
    "plt.title('GPT-3 Generated Question Evaluation')\n",
    "plt.xlabel('Model')\n",
    "\n",
    "plt.gca().xaxis.set_tick_params(rotation=0)"
   ]
  },
  {
   "cell_type": "code",
   "execution_count": 40,
   "metadata": {},
   "outputs": [],
   "source": [
    "models = ['BART', 'bert2BERT', 'GPT-2','T5']\n",
    "sound = [59, 31, 25, 45] \n",
    "not_sound = [41, 69, 75, 55]\n",
    "df = pd.DataFrame(sound, columns=['Sound'], index=models)\n",
    "df['Not Sound'] = not_sound "
   ]
  },
  {
   "cell_type": "code",
   "execution_count": 41,
   "metadata": {},
   "outputs": [
    {
     "data": {
      "image/png": "[encoded data removed]",
      "text/plain": [
       "<Figure size 432x288 with 1 Axes>"
      ]
     },
     "metadata": {
      "needs_background": "light"
     },
     "output_type": "display_data"
    }
   ],
   "source": [
    "df.plot(kind='bar')\n",
    "plt.ylabel('Percentage')\n",
    "plt.title('Generated Question Human Evaluation')\n",
    "plt.xlabel('Model')\n",
    "\n",
    "plt.gca().xaxis.set_tick_params(rotation=0)"
   ]
  }
 ],
 "metadata": {
  "kernelspec": {
   "display_name": "Python 3",
   "language": "python",
   "name": "python3"
  },
  "language_info": {
   "codemirror_mode": {
    "name": "ipython",
    "version": 3
   },
   "file_extension": ".py",
   "mimetype": "text/x-python",
   "name": "python",
   "nbconvert_exporter": "python",
   "pygments_lexer": "ipython3",
   "version": "3.10.10"
  },
  "orig_nbformat": 4
 },
 "nbformat": 4,
 "nbformat_minor": 2
}
