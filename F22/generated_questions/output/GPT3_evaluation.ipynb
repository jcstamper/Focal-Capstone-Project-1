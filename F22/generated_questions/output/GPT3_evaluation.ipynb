{
 "cells": [
  {
   "cell_type": "code",
   "execution_count": 1,
   "metadata": {},
   "outputs": [],
   "source": [
    "import openai\n",
    "import tensorflow as tf\n",
    "import pandas as pd"
   ]
  },
  {
   "cell_type": "code",
   "execution_count": 14,
   "metadata": {},
   "outputs": [],
   "source": [
    "gpt_data = pd.read_csv('f22_gpt2_refined.csv')\n",
    "t5_data = pd.read_csv('f22_short_answer_e2e_qg.csv')"
   ]
  },
  {
   "cell_type": "code",
   "execution_count": 4,
   "metadata": {},
   "outputs": [],
   "source": [
    "import os\n",
    "os.environ['OPENAI_API_KEY'] = ''"
   ]
  },
  {
   "cell_type": "code",
   "execution_count": 17,
   "metadata": {},
   "outputs": [],
   "source": [
    "import time"
   ]
  },
  {
   "cell_type": "code",
   "execution_count": 5,
   "metadata": {},
   "outputs": [],
   "source": [
    "openai.api_key = ''"
   ]
  },
  {
   "cell_type": "code",
   "execution_count": 15,
   "metadata": {},
   "outputs": [],
   "source": [
    "def predict(row):\n",
    "    question = row['Question']\n",
    "    ft_model = 'ada:ft-personal-2023-04-24-01-17-14'\n",
    "    res = openai.Completion.create(model=ft_model, prompt=question, max_tokens=1, temperature=0, logprobs=2)\n",
    "    time.sleep(1)\n",
    "    return res['choices'][0]['text']"
   ]
  },
  {
   "cell_type": "code",
   "execution_count": 18,
   "metadata": {},
   "outputs": [],
   "source": [
    "gpt_data['predicted_label'] = gpt_data.apply (lambda row: predict(row), axis=1)"
   ]
  },
  {
   "cell_type": "code",
   "execution_count": 19,
   "metadata": {},
   "outputs": [
    {
     "data": {
      "text/html": [
       "<div>\n",
       "<style scoped>\n",
       "    .dataframe tbody tr th:only-of-type {\n",
       "        vertical-align: middle;\n",
       "    }\n",
       "\n",
       "    .dataframe tbody tr th {\n",
       "        vertical-align: top;\n",
       "    }\n",
       "\n",
       "    .dataframe thead th {\n",
       "        text-align: right;\n",
       "    }\n",
       "</style>\n",
       "<table border=\"1\" class=\"dataframe\">\n",
       "  <thead>\n",
       "    <tr style=\"text-align: right;\">\n",
       "      <th></th>\n",
       "      <th>Unit</th>\n",
       "      <th>Module</th>\n",
       "      <th>Title</th>\n",
       "      <th>Subheaders</th>\n",
       "      <th>Paragraph</th>\n",
       "      <th>Question</th>\n",
       "      <th>predicted_label</th>\n",
       "    </tr>\n",
       "  </thead>\n",
       "  <tbody>\n",
       "    <tr>\n",
       "      <th>0</th>\n",
       "      <td>Advanced Natural Language Processing</td>\n",
       "      <td>BERT</td>\n",
       "      <td>Bidirectional Encoder Representations from Tra...</td>\n",
       "      <td>NaN</td>\n",
       "      <td>Both the encoder and the decoder stacks form a...</td>\n",
       "      <td>The decoder and the encoder are used together ...</td>\n",
       "      <td>1</td>\n",
       "    </tr>\n",
       "    <tr>\n",
       "      <th>1</th>\n",
       "      <td>Advanced Natural Language Processing</td>\n",
       "      <td>BERT</td>\n",
       "      <td>Bidirectional Encoder Representations from Tra...</td>\n",
       "      <td>NaN</td>\n",
       "      <td>Encoder models use only the encoder of a Trans...</td>\n",
       "      <td>These models are often characterized as having...</td>\n",
       "      <td>0</td>\n",
       "    </tr>\n",
       "    <tr>\n",
       "      <th>2</th>\n",
       "      <td>Advanced Natural Language Processing</td>\n",
       "      <td>BERT</td>\n",
       "      <td>Bidirectional Encoder Representations from Tra...</td>\n",
       "      <td>NaN</td>\n",
       "      <td>The pretraining of these models usually revolv...</td>\n",
       "      <td>In contrast to the pretraining of sentences, w...</td>\n",
       "      <td>1</td>\n",
       "    </tr>\n",
       "    <tr>\n",
       "      <th>3</th>\n",
       "      <td>Advanced Natural Language Processing</td>\n",
       "      <td>BERT</td>\n",
       "      <td>Bidirectional Encoder Representations from Tra...</td>\n",
       "      <td>NaN</td>\n",
       "      <td>The pretraining of decoder models usually revo...</td>\n",
       "      <td>What does decoder models predict?</td>\n",
       "      <td>1</td>\n",
       "    </tr>\n",
       "    <tr>\n",
       "      <th>4</th>\n",
       "      <td>Advanced Natural Language Processing</td>\n",
       "      <td>BERT</td>\n",
       "      <td>Bidirectional Encoder Representations from Tra...</td>\n",
       "      <td>NaN</td>\n",
       "      <td>These models are best suited for tasks involvi...</td>\n",
       "      <td>Text generation is a part of what type of work?</td>\n",
       "      <td>0</td>\n",
       "    </tr>\n",
       "    <tr>\n",
       "      <th>...</th>\n",
       "      <td>...</td>\n",
       "      <td>...</td>\n",
       "      <td>...</td>\n",
       "      <td>...</td>\n",
       "      <td>...</td>\n",
       "      <td>...</td>\n",
       "      <td>...</td>\n",
       "    </tr>\n",
       "    <tr>\n",
       "      <th>715</th>\n",
       "      <td>Advanced Natural Language Processing</td>\n",
       "      <td>[Research Paper] Attention is All You Need</td>\n",
       "      <td>Attention is All You Need</td>\n",
       "      <td>Who are the papers' authors? Why are they qual...</td>\n",
       "      <td>Step 3 is similar to Step 1 but carried out on...</td>\n",
       "      <td>The output sequence tokens are used to store t...</td>\n",
       "      <td>1</td>\n",
       "    </tr>\n",
       "    <tr>\n",
       "      <th>716</th>\n",
       "      <td>Collecting and Understanding Data</td>\n",
       "      <td>Ethics of Data Science</td>\n",
       "      <td>Informed Consent</td>\n",
       "      <td>NaN</td>\n",
       "      <td>Begun in 1932, a study conducted by the United...</td>\n",
       "      <td>Tuskegee University was located in what state?</td>\n",
       "      <td>1</td>\n",
       "    </tr>\n",
       "    <tr>\n",
       "      <th>717</th>\n",
       "      <td>Collecting and Understanding Data</td>\n",
       "      <td>Ethics of Data Science</td>\n",
       "      <td>Informed Consent</td>\n",
       "      <td>NaN</td>\n",
       "      <td>The subjects were instructed to make regular v...</td>\n",
       "      <td>The treatment was intended to help patients wi...</td>\n",
       "      <td>0</td>\n",
       "    </tr>\n",
       "    <tr>\n",
       "      <th>718</th>\n",
       "      <td>Collecting and Understanding Data</td>\n",
       "      <td>Ethics of Data Science</td>\n",
       "      <td>Informed Consent</td>\n",
       "      <td>NaN</td>\n",
       "      <td>By the 1950s, when it became clear that penici...</td>\n",
       "      <td>In what year did the HEW terminate the experim...</td>\n",
       "      <td>1</td>\n",
       "    </tr>\n",
       "    <tr>\n",
       "      <th>719</th>\n",
       "      <td>Collecting and Understanding Data</td>\n",
       "      <td>Ethics of Data Science</td>\n",
       "      <td>Informed Consent</td>\n",
       "      <td>NaN</td>\n",
       "      <td>Informed consent is based on the Fair Informat...</td>\n",
       "      <td>Consent is based on what principles?</td>\n",
       "      <td>1</td>\n",
       "    </tr>\n",
       "  </tbody>\n",
       "</table>\n",
       "<p>720 rows × 7 columns</p>\n",
       "</div>"
      ],
      "text/plain": [
       "                                     Unit  \\\n",
       "0    Advanced Natural Language Processing   \n",
       "1    Advanced Natural Language Processing   \n",
       "2    Advanced Natural Language Processing   \n",
       "3    Advanced Natural Language Processing   \n",
       "4    Advanced Natural Language Processing   \n",
       "..                                    ...   \n",
       "715  Advanced Natural Language Processing   \n",
       "716     Collecting and Understanding Data   \n",
       "717     Collecting and Understanding Data   \n",
       "718     Collecting and Understanding Data   \n",
       "719     Collecting and Understanding Data   \n",
       "\n",
       "                                         Module  \\\n",
       "0                                          BERT   \n",
       "1                                          BERT   \n",
       "2                                          BERT   \n",
       "3                                          BERT   \n",
       "4                                          BERT   \n",
       "..                                          ...   \n",
       "715  [Research Paper] Attention is All You Need   \n",
       "716                      Ethics of Data Science   \n",
       "717                      Ethics of Data Science   \n",
       "718                      Ethics of Data Science   \n",
       "719                      Ethics of Data Science   \n",
       "\n",
       "                                                 Title  \\\n",
       "0    Bidirectional Encoder Representations from Tra...   \n",
       "1    Bidirectional Encoder Representations from Tra...   \n",
       "2    Bidirectional Encoder Representations from Tra...   \n",
       "3    Bidirectional Encoder Representations from Tra...   \n",
       "4    Bidirectional Encoder Representations from Tra...   \n",
       "..                                                 ...   \n",
       "715                          Attention is All You Need   \n",
       "716                                   Informed Consent   \n",
       "717                                   Informed Consent   \n",
       "718                                   Informed Consent   \n",
       "719                                   Informed Consent   \n",
       "\n",
       "                                            Subheaders  \\\n",
       "0                                                  NaN   \n",
       "1                                                  NaN   \n",
       "2                                                  NaN   \n",
       "3                                                  NaN   \n",
       "4                                                  NaN   \n",
       "..                                                 ...   \n",
       "715  Who are the papers' authors? Why are they qual...   \n",
       "716                                                NaN   \n",
       "717                                                NaN   \n",
       "718                                                NaN   \n",
       "719                                                NaN   \n",
       "\n",
       "                                             Paragraph  \\\n",
       "0    Both the encoder and the decoder stacks form a...   \n",
       "1    Encoder models use only the encoder of a Trans...   \n",
       "2    The pretraining of these models usually revolv...   \n",
       "3    The pretraining of decoder models usually revo...   \n",
       "4    These models are best suited for tasks involvi...   \n",
       "..                                                 ...   \n",
       "715  Step 3 is similar to Step 1 but carried out on...   \n",
       "716  Begun in 1932, a study conducted by the United...   \n",
       "717  The subjects were instructed to make regular v...   \n",
       "718  By the 1950s, when it became clear that penici...   \n",
       "719  Informed consent is based on the Fair Informat...   \n",
       "\n",
       "                                              Question predicted_label  \n",
       "0    The decoder and the encoder are used together ...               1  \n",
       "1    These models are often characterized as having...               0  \n",
       "2    In contrast to the pretraining of sentences, w...               1  \n",
       "3                    What does decoder models predict?               1  \n",
       "4      Text generation is a part of what type of work?               0  \n",
       "..                                                 ...             ...  \n",
       "715  The output sequence tokens are used to store t...               1  \n",
       "716     Tuskegee University was located in what state?               1  \n",
       "717  The treatment was intended to help patients wi...               0  \n",
       "718  In what year did the HEW terminate the experim...               1  \n",
       "719               Consent is based on what principles?               1  \n",
       "\n",
       "[720 rows x 7 columns]"
      ]
     },
     "metadata": {},
     "output_type": "display_data"
    }
   ],
   "source": [
    "display(gpt_data)"
   ]
  },
  {
   "cell_type": "code",
   "execution_count": 20,
   "metadata": {},
   "outputs": [],
   "source": [
    "gpt_data.to_csv('f22_gpt2_refined_with_predictions.csv')"
   ]
  },
  {
   "cell_type": "code",
   "execution_count": 26,
   "metadata": {},
   "outputs": [],
   "source": [
    "def predict(row):\n",
    "    question = row['Generated Question']\n",
    "    ft_model = 'ada:ft-personal-2023-04-24-01-17-14'\n",
    "    res = openai.Completion.create(model=ft_model, prompt=question, max_tokens=1, temperature=0, logprobs=2)\n",
    "    time.sleep(1)\n",
    "    return res['choices'][0]['text']"
   ]
  },
  {
   "cell_type": "code",
   "execution_count": 28,
   "metadata": {},
   "outputs": [],
   "source": [
    "t5_data = t5_data.dropna(axis=0, subset=['Generated Question'])"
   ]
  },
  {
   "cell_type": "code",
   "execution_count": 30,
   "metadata": {},
   "outputs": [
    {
     "name": "stderr",
     "output_type": "stream",
     "text": [
      "C:\\Users\\peter\\AppData\\Local\\Temp\\ipykernel_11596\\1389653241.py:1: SettingWithCopyWarning: \n",
      "A value is trying to be set on a copy of a slice from a DataFrame.\n",
      "Try using .loc[row_indexer,col_indexer] = value instead\n",
      "\n",
      "See the caveats in the documentation: https://pandas.pydata.org/pandas-docs/stable/user_guide/indexing.html#returning-a-view-versus-a-copy\n",
      "  t5_data['predicted_label'] = t5_data.apply(lambda row: predict(row), axis=1)\n"
     ]
    }
   ],
   "source": [
    "t5_data['predicted_label'] = t5_data.apply(lambda row: predict(row), axis=1)"
   ]
  },
  {
   "cell_type": "code",
   "execution_count": 33,
   "metadata": {},
   "outputs": [],
   "source": [
    "t5_data.to_csv('f22_short_answer_e2e_qg_with_predictions.csv')"
   ]
  },
  {
   "cell_type": "code",
   "execution_count": 38,
   "metadata": {},
   "outputs": [],
   "source": [
    "bert_data = pd.read_csv('f22_bert2bert.csv')\n",
    "bert_data = bert_data.dropna(axis=0, subset=['Text','answer'])"
   ]
  },
  {
   "cell_type": "code",
   "execution_count": 39,
   "metadata": {},
   "outputs": [],
   "source": [
    "def predict(row):\n",
    "    question = row['questions']\n",
    "    ft_model = 'ada:ft-personal-2023-04-24-01-17-14'\n",
    "    res = openai.Completion.create(model=ft_model, prompt=question, max_tokens=1, temperature=0, logprobs=2)\n",
    "    time.sleep(1)\n",
    "    return res['choices'][0]['text']"
   ]
  },
  {
   "cell_type": "code",
   "execution_count": 40,
   "metadata": {},
   "outputs": [],
   "source": [
    "bert_data['predicted_label'] = bert_data.apply(lambda row: predict(row), axis=1)"
   ]
  },
  {
   "cell_type": "code",
   "execution_count": 43,
   "metadata": {},
   "outputs": [],
   "source": [
    "bert_data.to_csv('f22_bert_to_bert_with_predictions.csv')"
   ]
  },
  {
   "cell_type": "code",
   "execution_count": 41,
   "metadata": {},
   "outputs": [
    {
     "name": "stdout",
     "output_type": "stream",
     "text": [
      " 1    474\n",
      " 0    246\n",
      "Name: predicted_label, dtype: int64\n",
      " 1      1621\n",
      " 0       401\n",
      "com        1\n",
      " The       1\n",
      "Name: predicted_label, dtype: int64\n",
      " 1       3822\n",
      " 0        356\n",
      " mean       1\n",
      "Name: predicted_label, dtype: int64\n"
     ]
    }
   ],
   "source": [
    "print(gpt_data['predicted_label'].value_counts())\n",
    "print(t5_data['predicted_label'].value_counts())\n",
    "print(bert_data['predicted_label'].value_counts())"
   ]
  },
  {
   "cell_type": "code",
   "execution_count": 42,
   "metadata": {},
   "outputs": [
    {
     "data": {
      "image/png": "[encoded data removed]",
      "text/plain": [
       "<Figure size 720x360 with 1 Axes>"
      ]
     },
     "metadata": {
      "needs_background": "light"
     },
     "output_type": "display_data"
    }
   ],
   "source": [
    "import numpy as np\n",
    "import matplotlib.pyplot as plt\n",
    "# Numbers of pairs of bars you want\n",
    "N = 2\n",
    "\n",
    "# Data on X-axis\n",
    "\n",
    "# Specify the values of blue bars (height)\n",
    "blue_bar = (80.2, 19.8)\n",
    "# Specify the values of orange bars (height)\n",
    "orange_bar = (65.8, 34.2)\n",
    "\n",
    "green_bar = (91.5,9.5)\n",
    "\n",
    "# Position of bars on x-axis\n",
    "ind = np.arange(N)\n",
    "\n",
    "# Figure size\n",
    "plt.figure(figsize=(10,5))\n",
    "\n",
    "# Width of a bar \n",
    "width = 0.3       \n",
    "\n",
    "# Plotting\n",
    "plt.bar(ind, blue_bar , width, label='T5 QG Model')\n",
    "plt.bar(ind + width, orange_bar, width, label='GPT2 QG Model')\n",
    "plt.bar(ind + width + width,green_bar, width, label='bert2bert QG Model' )\n",
    "\n",
    "plt.xlabel('Question Classification')\n",
    "plt.ylabel('Percentage of Questions')\n",
    "plt.title('Fine-Tuned GPT-3 Question Classification - FCDS Data')\n",
    "\n",
    "# xticks()\n",
    "# First argument - A list of positions at which ticks should be placed\n",
    "# Second argument -  A list of labels to place at the given locations\n",
    "plt.xticks(ind + width / 1.5, ('Sound', 'Not Sound'))\n",
    "\n",
    "# Finding the best position for legends and putting it\n",
    "plt.legend(loc='best')\n",
    "plt.show()"
   ]
  }
 ],
 "metadata": {
  "kernelspec": {
   "display_name": "Python 3",
   "language": "python",
   "name": "python3"
  },
  "language_info": {
   "codemirror_mode": {
    "name": "ipython",
    "version": 3
   },
   "file_extension": ".py",
   "mimetype": "text/x-python",
   "name": "python",
   "nbconvert_exporter": "python",
   "pygments_lexer": "ipython3",
   "version": "3.10.10"
  },
  "orig_nbformat": 4
 },
 "nbformat": 4,
 "nbformat_minor": 2
}
