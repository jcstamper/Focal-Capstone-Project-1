{
 "cells": [
  {
   "cell_type": "markdown",
   "metadata": {},
   "source": [
    "# OLI Content Extraction and Analysis"
   ]
  },
  {
   "cell_type": "code",
   "execution_count": 1,
   "metadata": {},
   "outputs": [
    {
     "name": "stderr",
     "output_type": "stream",
     "text": [
      "c:\\Users\\peter\\AppData\\Local\\Programs\\Python\\Python310\\lib\\site-packages\\gensim\\utils.py:860: UserWarning: detected Windows; aliasing chunkize to chunkize_serial\n",
      "  warnings.warn(\"detected Windows; aliasing chunkize to chunkize_serial\")\n",
      "Slow version of gensim.models.doc2vec is being used\n",
      "Slow version of Fasttext is being used\n"
     ]
    }
   ],
   "source": [
    "import pandas as pd\n",
    "import numpy as np\n",
    "import textract\n",
    "import re, json, os\n",
    "from os.path import join\n",
    "from bs4 import BeautifulSoup\n",
    "from gensim.summarization import keywords  #must use version 3.8.3 of gensim because gensim.summarization was deprecated in version 4.0.0\n",
    "import warnings\n",
    "warnings.filterwarnings(\"ignore\")"
   ]
  },
  {
   "cell_type": "markdown",
   "metadata": {},
   "source": [
    "## 1. Extract content from PDF file"
   ]
  },
  {
   "cell_type": "code",
   "execution_count": 2,
   "metadata": {},
   "outputs": [],
   "source": [
    "def extract_content_from_pdf(filename):\n",
    "    # text variable which contains all the text derived from our PDF file\n",
    "    full_text = textract.process(filename, method='pdfminer', language='eng').decode('utf-8')\n",
    "    return full_text.encode('ascii','ignore').lower().decode('utf-8')\n",
    "\n",
    "def extract_keyword(full_text):\n",
    "    keyword_summaries = keywords(text = full_text, split = \"\\n\", scores = True)\n",
    "    data = pd.DataFrame(keyword_summaries, columns = [\"keyword\", \"score\"])\n",
    "    return data.sort_values(\"score\", ascending = False)"
   ]
  },
  {
   "cell_type": "markdown",
   "metadata": {},
   "source": [
    "## 2. Extract content from XML files "
   ]
  },
  {
   "cell_type": "code",
   "execution_count": 3,
   "metadata": {},
   "outputs": [],
   "source": [
    "SEMESTER = \"f22\"\n",
    "oli_org = open(f'{SEMESTER}/organizations/default/organization.xml', \"r\").read()\n",
    "oli_org_soup = BeautifulSoup(oli_org, \"lxml\")"
   ]
  },
  {
   "cell_type": "code",
   "execution_count": 4,
   "metadata": {},
   "outputs": [],
   "source": [
    "def get_module_unit_from_org(page_id):\n",
    "    try:\n",
    "        resource_ref = oli_org_soup.find('resourceref', {'idref': page_id})\n",
    "        curr_module = resource_ref.find_parent('module').find('title').get_text()\n",
    "        curr_unit = resource_ref.find_parent('unit').find('title').get_text()\n",
    "        return curr_module, curr_unit\n",
    "    except:\n",
    "        return None, None\n",
    "\n",
    "def is_header(p):\n",
    "    # a header paragraph should have the form <p><em>...</em></p>, with no other inner tag\n",
    "    n_contents = len([c for c in p.contents if not str(c.string).isspace()])\n",
    "    return p.find(\"em\") is not None and n_contents == 1\n",
    "\n",
    "def get_file_content(filename):\n",
    "    with open(file = f'{SEMESTER}/content/x-oli-workbook_page/' + filename, encoding='utf-8') as file:\n",
    "        soup = BeautifulSoup(file.read(), 'lxml', from_encoding='utf-8')\n",
    "    page_id = soup.find('workbook_page')['id']\n",
    "    curr_module, curr_unit = get_module_unit_from_org(page_id)\n",
    "    title = soup.find(\"title\").get_text().strip()   \n",
    "    \n",
    "    \n",
    "    # extract the sub-headers <p><em>text</em></p> and remove them from the text content\n",
    "    sub_headers = []\n",
    "    for p in soup.find_all(\"p\"):\n",
    "        if is_header(p):\n",
    "            sub_headers.append(p.find(\"em\").get_text().strip())\n",
    "            p.extract()\n",
    "    \n",
    "    all_text = \"\\n\".join(p.get_text().strip() for p in soup.find_all(\"p\")[1:])\n",
    "    \n",
    "    all_text = re.sub(r\"\\n+\", r\"\\n\", all_text.strip())\n",
    "    pattern = r\"\\\\\\w+\\d+\"\n",
    "\n",
    "    all_text = re.sub(pattern, \"\", all_text)\n",
    "    \n",
    "\n",
    "    return {\n",
    "        \"Unit\" : curr_unit, \"Module\" : curr_module, \"Title\" : title,\n",
    "        \"Text\": all_text, \"Subheaders\" : \",\".join(sub_headers)\n",
    "    }"
   ]
  },
  {
   "cell_type": "code",
   "execution_count": 5,
   "metadata": {},
   "outputs": [],
   "source": [
    "import matplotlib.pyplot as plt"
   ]
  },
  {
   "cell_type": "code",
   "execution_count": 6,
   "metadata": {},
   "outputs": [
    {
     "data": {
      "text/html": [
       "<div>\n",
       "<style scoped>\n",
       "    .dataframe tbody tr th:only-of-type {\n",
       "        vertical-align: middle;\n",
       "    }\n",
       "\n",
       "    .dataframe tbody tr th {\n",
       "        vertical-align: top;\n",
       "    }\n",
       "\n",
       "    .dataframe thead th {\n",
       "        text-align: right;\n",
       "    }\n",
       "</style>\n",
       "<table border=\"1\" class=\"dataframe\">\n",
       "  <thead>\n",
       "    <tr style=\"text-align: right;\">\n",
       "      <th></th>\n",
       "      <th>Unit</th>\n",
       "      <th>Module</th>\n",
       "      <th>Title</th>\n",
       "      <th>Text</th>\n",
       "      <th>Subheaders</th>\n",
       "    </tr>\n",
       "  </thead>\n",
       "  <tbody>\n",
       "    <tr>\n",
       "      <th>0</th>\n",
       "      <td>Deep Learning and Model Deployment</td>\n",
       "      <td>Model Deployment</td>\n",
       "      <td>Quiz 10</td>\n",
       "      <td></td>\n",
       "      <td></td>\n",
       "    </tr>\n",
       "    <tr>\n",
       "      <th>6</th>\n",
       "      <td>Data Science Project Planning</td>\n",
       "      <td>Developing a Vision</td>\n",
       "      <td>Module 4 Summary</td>\n",
       "      <td>This module focuses on the foundation of a doc...</td>\n",
       "      <td></td>\n",
       "    </tr>\n",
       "    <tr>\n",
       "      <th>11</th>\n",
       "      <td>Analytic Algorithms and Model Building</td>\n",
       "      <td>Model Selection</td>\n",
       "      <td>Model Selection for Prediction</td>\n",
       "      <td>To replicate the setting of performing predict...</td>\n",
       "      <td></td>\n",
       "    </tr>\n",
       "    <tr>\n",
       "      <th>12</th>\n",
       "      <td>Data Science Project Planning</td>\n",
       "      <td>Requirements Gathering</td>\n",
       "      <td>Successful Requirements Gathering</td>\n",
       "      <td>The requirements gathering process is not line...</td>\n",
       "      <td>Validating Requirements</td>\n",
       "    </tr>\n",
       "    <tr>\n",
       "      <th>13</th>\n",
       "      <td>Exploratory Data Analysis</td>\n",
       "      <td>Feature Engineering</td>\n",
       "      <td>t-SNE</td>\n",
       "      <td>In the last section, we explored Principal Com...</td>\n",
       "      <td>References:</td>\n",
       "    </tr>\n",
       "    <tr>\n",
       "      <th>...</th>\n",
       "      <td>...</td>\n",
       "      <td>...</td>\n",
       "      <td>...</td>\n",
       "      <td>...</td>\n",
       "      <td>...</td>\n",
       "    </tr>\n",
       "    <tr>\n",
       "      <th>257</th>\n",
       "      <td>Data Science Project Planning</td>\n",
       "      <td>Requirements Gathering</td>\n",
       "      <td>Types of Requirements</td>\n",
       "      <td>Suppose a utility company wants to introduce p...</td>\n",
       "      <td>Business Requirements,System and User Requirem...</td>\n",
       "    </tr>\n",
       "    <tr>\n",
       "      <th>258</th>\n",
       "      <td>Deep Learning and Model Deployment</td>\n",
       "      <td>Model Deployment</td>\n",
       "      <td>[Additional Resource] Hands-on: Data Versionin...</td>\n",
       "      <td>AI projects are data intensive. Data can be\\np...</td>\n",
       "      <td>Why are traditional code versioning tools inef...</td>\n",
       "    </tr>\n",
       "    <tr>\n",
       "      <th>259</th>\n",
       "      <td>Deep Learning and Model Deployment</td>\n",
       "      <td>CPU vs. GPU</td>\n",
       "      <td>Hardware: An Overlooked Aspect of Data Science</td>\n",
       "      <td>At the beginning of a  data science process on...</td>\n",
       "      <td></td>\n",
       "    </tr>\n",
       "    <tr>\n",
       "      <th>261</th>\n",
       "      <td>Deep Learning and Model Deployment</td>\n",
       "      <td>CPU vs. GPU</td>\n",
       "      <td>The Basics of Hardware: Memory</td>\n",
       "      <td>For our purposes, before we get into the diffe...</td>\n",
       "      <td></td>\n",
       "    </tr>\n",
       "    <tr>\n",
       "      <th>262</th>\n",
       "      <td>Problem Identification and Solution Vision</td>\n",
       "      <td>Problem Identification</td>\n",
       "      <td>AI Philosophy: A Process, not a Product</td>\n",
       "      <td>AI Philosophy: A Process, not a Product\\nAI Ph...</td>\n",
       "      <td></td>\n",
       "    </tr>\n",
       "  </tbody>\n",
       "</table>\n",
       "<p>142 rows × 5 columns</p>\n",
       "</div>"
      ],
      "text/plain": [
       "                                           Unit                  Module  \\\n",
       "0            Deep Learning and Model Deployment        Model Deployment   \n",
       "6                 Data Science Project Planning     Developing a Vision   \n",
       "11       Analytic Algorithms and Model Building         Model Selection   \n",
       "12                Data Science Project Planning  Requirements Gathering   \n",
       "13                    Exploratory Data Analysis     Feature Engineering   \n",
       "..                                          ...                     ...   \n",
       "257               Data Science Project Planning  Requirements Gathering   \n",
       "258          Deep Learning and Model Deployment        Model Deployment   \n",
       "259          Deep Learning and Model Deployment             CPU vs. GPU   \n",
       "261          Deep Learning and Model Deployment             CPU vs. GPU   \n",
       "262  Problem Identification and Solution Vision  Problem Identification   \n",
       "\n",
       "                                                 Title  \\\n",
       "0                                              Quiz 10   \n",
       "6                                     Module 4 Summary   \n",
       "11                      Model Selection for Prediction   \n",
       "12                   Successful Requirements Gathering   \n",
       "13                                               t-SNE   \n",
       "..                                                 ...   \n",
       "257                              Types of Requirements   \n",
       "258  [Additional Resource] Hands-on: Data Versionin...   \n",
       "259     Hardware: An Overlooked Aspect of Data Science   \n",
       "261                     The Basics of Hardware: Memory   \n",
       "262            AI Philosophy: A Process, not a Product   \n",
       "\n",
       "                                                  Text  \\\n",
       "0                                                        \n",
       "6    This module focuses on the foundation of a doc...   \n",
       "11   To replicate the setting of performing predict...   \n",
       "12   The requirements gathering process is not line...   \n",
       "13   In the last section, we explored Principal Com...   \n",
       "..                                                 ...   \n",
       "257  Suppose a utility company wants to introduce p...   \n",
       "258  AI projects are data intensive. Data can be\\np...   \n",
       "259  At the beginning of a  data science process on...   \n",
       "261  For our purposes, before we get into the diffe...   \n",
       "262  AI Philosophy: A Process, not a Product\\nAI Ph...   \n",
       "\n",
       "                                            Subheaders  \n",
       "0                                                       \n",
       "6                                                       \n",
       "11                                                      \n",
       "12                             Validating Requirements  \n",
       "13                                         References:  \n",
       "..                                                 ...  \n",
       "257  Business Requirements,System and User Requirem...  \n",
       "258  Why are traditional code versioning tools inef...  \n",
       "259                                                     \n",
       "261                                                     \n",
       "262                                                     \n",
       "\n",
       "[142 rows x 5 columns]"
      ]
     },
     "metadata": {},
     "output_type": "display_data"
    }
   ],
   "source": [
    "df_oli = pd.DataFrame([\n",
    "    get_file_content(filename)\n",
    "    for filename in os.listdir(f\"{SEMESTER}/content/x-oli-workbook_page\")\n",
    "    if filename.endswith(\".xml\")\n",
    "]).dropna()\n",
    "df_oli.to_csv(\"f_22_oli_content.csv\", index = False, encoding='utf-8')\n",
    "display(df_oli)"
   ]
  },
  {
   "cell_type": "code",
   "execution_count": 8,
   "metadata": {},
   "outputs": [
    {
     "data": {
      "text/plain": [
       "Analytic Algorithms and Model Building        31\n",
       "Deep Learning and Model Deployment            21\n",
       "Data Science Project Planning                 20\n",
       "Collecting and Understanding Data             19\n",
       "Problem Identification and Solution Vision    18\n",
       "Name: Unit, dtype: int64"
      ]
     },
     "metadata": {},
     "output_type": "display_data"
    },
    {
     "data": {
      "text/plain": [
       "Text(0, 0.5, 'Unit')"
      ]
     },
     "execution_count": 8,
     "metadata": {},
     "output_type": "execute_result"
    },
    {
     "data": {
      "image/png": "[encoded data removed]",
      "text/plain": [
       "<Figure size 432x288 with 1 Axes>"
      ]
     },
     "metadata": {
      "needs_background": "light"
     },
     "output_type": "display_data"
    }
   ],
   "source": [
    "fig, ax = plt.subplots()\n",
    "display(df_oli['Unit'].value_counts().head())\n",
    "df_oli['Unit'].value_counts().plot(ax=ax, kind='barh')\n",
    "ax.axes.set_xlabel('Paragraph Count')\n",
    "ax.axes.set_ylabel('Unit')\n"
   ]
  },
  {
   "cell_type": "code",
   "execution_count": 10,
   "metadata": {},
   "outputs": [
    {
     "data": {
      "text/plain": [
       "Supervised and Unsupersived Techniques     11\n",
       "Requirements Gathering                      9\n",
       "Distilling the Analytic Objective           9\n",
       "Deep Learning & Computer Vision             9\n",
       "Text Data & Natural Language Processing     8\n",
       "Name: Module, dtype: int64"
      ]
     },
     "metadata": {},
     "output_type": "display_data"
    },
    {
     "data": {
      "text/plain": [
       "Text(0, 0.5, 'Module')"
      ]
     },
     "execution_count": 10,
     "metadata": {},
     "output_type": "execute_result"
    },
    {
     "data": {
      "image/png": "[encoded data removed]",
      "text/plain": [
       "<Figure size 432x648 with 1 Axes>"
      ]
     },
     "metadata": {
      "needs_background": "light"
     },
     "output_type": "display_data"
    }
   ],
   "source": [
    "fig, ax = plt.subplots()\n",
    "fig.set_size_inches(6,9)\n",
    "display(df_oli['Module'].value_counts().head())\n",
    "df_oli['Module'].value_counts().plot(ax=ax, kind='barh')\n",
    "ax.axes.set_xlabel('Paragraph Count')\n",
    "ax.axes.set_ylabel('Module')\n"
   ]
  },
  {
   "cell_type": "markdown",
   "metadata": {},
   "source": [
    "## 3. Topic modeling with LDA"
   ]
  },
  {
   "cell_type": "code",
   "execution_count": 11,
   "metadata": {},
   "outputs": [],
   "source": [
    "from sklearn.feature_extraction.text import CountVectorizer\n",
    "import matplotlib.pyplot as plt\n",
    "import seaborn as sns\n",
    "%matplotlib inline"
   ]
  },
  {
   "cell_type": "code",
   "execution_count": 13,
   "metadata": {},
   "outputs": [
    {
     "name": "stdout",
     "output_type": "stream",
     "text": [
      "[('data', 1392), ('model', 459), ('used', 258), ('science', 222), ('models', 217), ('project', 214), ('use', 201), ('dataset', 195), ('requirements', 195), ('learning', 192)]\n"
     ]
    },
    {
     "data": {
      "image/png": "[encoded data removed]",
      "text/plain": [
       "<Figure size 1080x667.491 with 1 Axes>"
      ]
     },
     "metadata": {
      "needs_background": "light"
     },
     "output_type": "display_data"
    }
   ],
   "source": [
    "def plot_10_most_common_words(count_data, count_vectorizer):\n",
    "    words = count_vectorizer.get_feature_names()\n",
    "    # get the count of each word across the entire corpus\n",
    "    total_counts = count_data.sum(axis = 0).A.ravel()\n",
    "\n",
    "    count_dict = (zip(words, total_counts))\n",
    "    count_dict = sorted(count_dict, key=lambda x: x[1], reverse=True)[0:10]\n",
    "    words, counts = zip(*count_dict)\n",
    "    print(count_dict)\n",
    "    x_pos = np.arange(len(words)) \n",
    "    \n",
    "    plt.figure(2, figsize=(15, 15/1.6180))\n",
    "    #plt.subplot(title='10 most common words')\n",
    "    sns.set_context(\"notebook\", font_scale=1.25, rc={\"lines.linewidth\": 2.5})\n",
    "    sns.set_color_codes(\"muted\")\n",
    "    sns.barplot(x=x_pos, y=list(counts), color='b')\n",
    "    plt.xticks(x_pos, list(words), rotation=90) \n",
    "    plt.xlabel('words')\n",
    "    plt.ylabel('counts')\n",
    "    plt.show()\n",
    "\n",
    "# Preprocess the text to prepare for LDA\n",
    "df_oli[\"Cleaned Text\"] = df_oli[\"Text\"].apply(lambda text: re.sub('[,\\.!?]', '', text).lower())\n",
    "# Initialise the count vectorizer with the English stop words\n",
    "count_vectorizer = CountVectorizer(stop_words='english')\n",
    "# Fit and transform the processed titles\n",
    "count_data = count_vectorizer.fit_transform(df_oli['Cleaned Text'])\n",
    "# Visualise the 10 most common words\n",
    "plot_10_most_common_words(count_data, count_vectorizer)"
   ]
  },
  {
   "cell_type": "markdown",
   "metadata": {},
   "source": [
    "## 4. QA generation with pretrained huggingface model\n"
   ]
  },
  {
   "cell_type": "code",
   "execution_count": 23,
   "metadata": {},
   "outputs": [
    {
     "ename": "ModuleNotFoundError",
     "evalue": "No module named 'pipelines'",
     "output_type": "error",
     "traceback": [
      "\u001b[1;31m---------------------------------------------------------------------------\u001b[0m",
      "\u001b[1;31mModuleNotFoundError\u001b[0m                       Traceback (most recent call last)",
      "\u001b[1;32mc:\\Users\\peter\\OneDrive\\Desktop\\Focal-Capstone-Project\\Focal-Captsone-Project\\F22\\f22_oli_analysis.ipynb Cell 16\u001b[0m in \u001b[0;36m<cell line: 1>\u001b[1;34m()\u001b[0m\n\u001b[1;32m----> <a href='vscode-notebook-cell:/c%3A/Users/peter/OneDrive/Desktop/Focal-Capstone-Project/Focal-Captsone-Project/F22/f22_oli_analysis.ipynb#X15sZmlsZQ%3D%3D?line=0'>1</a>\u001b[0m \u001b[39mfrom\u001b[39;00m \u001b[39mpipelines\u001b[39;00m \u001b[39mimport\u001b[39;00m pipeline\n\u001b[0;32m      <a href='vscode-notebook-cell:/c%3A/Users/peter/OneDrive/Desktop/Focal-Capstone-Project/Focal-Captsone-Project/F22/f22_oli_analysis.ipynb#X15sZmlsZQ%3D%3D?line=1'>2</a>\u001b[0m question_generator \u001b[39m=\u001b[39m pipeline(\u001b[39m\"\u001b[39m\u001b[39me2e-qg\u001b[39m\u001b[39m\"\u001b[39m)\n",
      "\u001b[1;31mModuleNotFoundError\u001b[0m: No module named 'pipelines'"
     ]
    }
   ],
   "source": [
    "from pipelines import pipeline\n",
    "question_generator = pipeline(\"e2e-qg\");"
   ]
  },
  {
   "cell_type": "code",
   "execution_count": 133,
   "metadata": {},
   "outputs": [],
   "source": [
    "def generate_question_by_paragraph(df):\n",
    "    df[\"Paragraph\"] = df[\"Text\"].str.split(\"\\n\")\n",
    "    df_para = df.explode(\"Paragraph\")\n",
    "    df_para[\"Generated Question\"] = df_para[\"Paragraph\"].apply(question_generator)\n",
    "    return df_para.explode(\"Generated Question\")"
   ]
  },
  {
   "cell_type": "code",
   "execution_count": 134,
   "metadata": {},
   "outputs": [],
   "source": [
    "df_oli_with_questions = generate_question_by_paragraph(df_oli)"
   ]
  },
  {
   "cell_type": "code",
   "execution_count": 135,
   "metadata": {},
   "outputs": [],
   "source": [
    "df_oli_with_questions = df_oli_with_questions[df_oli_with_questions['Text']!= '']"
   ]
  },
  {
   "cell_type": "code",
   "execution_count": 136,
   "metadata": {},
   "outputs": [],
   "source": [
    "df_oli_with_questions.drop(columns = \"Text\").to_csv(\"f22_oli_content_with_questions.csv\", index = False)"
   ]
  },
  {
   "cell_type": "code",
   "execution_count": 137,
   "metadata": {},
   "outputs": [
    {
     "data": {
      "text/html": [
       "<div>\n",
       "<style scoped>\n",
       "    .dataframe tbody tr th:only-of-type {\n",
       "        vertical-align: middle;\n",
       "    }\n",
       "\n",
       "    .dataframe tbody tr th {\n",
       "        vertical-align: top;\n",
       "    }\n",
       "\n",
       "    .dataframe thead th {\n",
       "        text-align: right;\n",
       "    }\n",
       "</style>\n",
       "<table border=\"1\" class=\"dataframe\">\n",
       "  <thead>\n",
       "    <tr style=\"text-align: right;\">\n",
       "      <th></th>\n",
       "      <th>index</th>\n",
       "      <th>Unit</th>\n",
       "      <th>Module</th>\n",
       "      <th>Title</th>\n",
       "      <th>Text</th>\n",
       "      <th>Subheaders</th>\n",
       "      <th>Cleaned Text</th>\n",
       "      <th>Paragraph</th>\n",
       "      <th>Generated Question</th>\n",
       "    </tr>\n",
       "  </thead>\n",
       "  <tbody>\n",
       "    <tr>\n",
       "      <th>0</th>\n",
       "      <td>6</td>\n",
       "      <td>Data Science Project Planning</td>\n",
       "      <td>Developing a Vision</td>\n",
       "      <td>Module 4 Summary</td>\n",
       "      <td>This module focuses on the foundation of a doc...</td>\n",
       "      <td></td>\n",
       "      <td>this module focuses on the foundation of a doc...</td>\n",
       "      <td>This module focuses on the foundation of a doc...</td>\n",
       "      <td>What module focuses on the foundation of a doc...</td>\n",
       "    </tr>\n",
       "    <tr>\n",
       "      <th>1</th>\n",
       "      <td>6</td>\n",
       "      <td>Data Science Project Planning</td>\n",
       "      <td>Developing a Vision</td>\n",
       "      <td>Module 4 Summary</td>\n",
       "      <td>This module focuses on the foundation of a doc...</td>\n",
       "      <td></td>\n",
       "      <td>this module focuses on the foundation of a doc...</td>\n",
       "      <td>This module focuses on the foundation of a doc...</td>\n",
       "      <td>What document provides a summary of the project?</td>\n",
       "    </tr>\n",
       "    <tr>\n",
       "      <th>2</th>\n",
       "      <td>6</td>\n",
       "      <td>Data Science Project Planning</td>\n",
       "      <td>Developing a Vision</td>\n",
       "      <td>Module 4 Summary</td>\n",
       "      <td>This module focuses on the foundation of a doc...</td>\n",
       "      <td></td>\n",
       "      <td>this module focuses on the foundation of a doc...</td>\n",
       "      <td>This module focuses on the foundation of a doc...</td>\n",
       "      <td>How does this document clear up confusion?</td>\n",
       "    </tr>\n",
       "    <tr>\n",
       "      <th>3</th>\n",
       "      <td>6</td>\n",
       "      <td>Data Science Project Planning</td>\n",
       "      <td>Developing a Vision</td>\n",
       "      <td>Module 4 Summary</td>\n",
       "      <td>This module focuses on the foundation of a doc...</td>\n",
       "      <td></td>\n",
       "      <td>this module focuses on the foundation of a doc...</td>\n",
       "      <td>The project's high-level scope and purpose are...</td>\n",
       "      <td>In what document is the project's scope and pu...</td>\n",
       "    </tr>\n",
       "    <tr>\n",
       "      <th>4</th>\n",
       "      <td>6</td>\n",
       "      <td>Data Science Project Planning</td>\n",
       "      <td>Developing a Vision</td>\n",
       "      <td>Module 4 Summary</td>\n",
       "      <td>This module focuses on the foundation of a doc...</td>\n",
       "      <td></td>\n",
       "      <td>this module focuses on the foundation of a doc...</td>\n",
       "      <td>The project's high-level scope and purpose are...</td>\n",
       "      <td>What is the purpose of the project?</td>\n",
       "    </tr>\n",
       "    <tr>\n",
       "      <th>...</th>\n",
       "      <td>...</td>\n",
       "      <td>...</td>\n",
       "      <td>...</td>\n",
       "      <td>...</td>\n",
       "      <td>...</td>\n",
       "      <td>...</td>\n",
       "      <td>...</td>\n",
       "      <td>...</td>\n",
       "      <td>...</td>\n",
       "    </tr>\n",
       "    <tr>\n",
       "      <th>4089</th>\n",
       "      <td>262</td>\n",
       "      <td>Problem Identification and Solution Vision</td>\n",
       "      <td>Problem Identification</td>\n",
       "      <td>AI Philosophy: A Process, not a Product</td>\n",
       "      <td>AI Philosophy: A Process, not a Product\\nAI Ph...</td>\n",
       "      <td></td>\n",
       "      <td>ai philosophy: a process not a product\\nai phi...</td>\n",
       "      <td>AI Ready. The organization has determined how ...</td>\n",
       "      <td>What does AI Ready mean?</td>\n",
       "    </tr>\n",
       "    <tr>\n",
       "      <th>4090</th>\n",
       "      <td>262</td>\n",
       "      <td>Problem Identification and Solution Vision</td>\n",
       "      <td>Problem Identification</td>\n",
       "      <td>AI Philosophy: A Process, not a Product</td>\n",
       "      <td>AI Philosophy: A Process, not a Product\\nAI Ph...</td>\n",
       "      <td></td>\n",
       "      <td>ai philosophy: a process not a product\\nai phi...</td>\n",
       "      <td>AI Ready. The organization has determined how ...</td>\n",
       "      <td>How can AI help end-users?</td>\n",
       "    </tr>\n",
       "    <tr>\n",
       "      <th>4091</th>\n",
       "      <td>262</td>\n",
       "      <td>Problem Identification and Solution Vision</td>\n",
       "      <td>Problem Identification</td>\n",
       "      <td>AI Philosophy: A Process, not a Product</td>\n",
       "      <td>AI Philosophy: A Process, not a Product\\nAI Ph...</td>\n",
       "      <td></td>\n",
       "      <td>ai philosophy: a process not a product\\nai phi...</td>\n",
       "      <td>AI Enabled. The organization has deployed the ...</td>\n",
       "      <td>What is an organization able to measure the im...</td>\n",
       "    </tr>\n",
       "    <tr>\n",
       "      <th>4092</th>\n",
       "      <td>262</td>\n",
       "      <td>Problem Identification and Solution Vision</td>\n",
       "      <td>Problem Identification</td>\n",
       "      <td>AI Philosophy: A Process, not a Product</td>\n",
       "      <td>AI Philosophy: A Process, not a Product\\nAI Ph...</td>\n",
       "      <td></td>\n",
       "      <td>ai philosophy: a process not a product\\nai phi...</td>\n",
       "      <td>AI Enabled. The organization has deployed the ...</td>\n",
       "      <td>What can an organization claim that it has imp...</td>\n",
       "    </tr>\n",
       "    <tr>\n",
       "      <th>4093</th>\n",
       "      <td>262</td>\n",
       "      <td>Problem Identification and Solution Vision</td>\n",
       "      <td>Problem Identification</td>\n",
       "      <td>AI Philosophy: A Process, not a Product</td>\n",
       "      <td>AI Philosophy: A Process, not a Product\\nAI Ph...</td>\n",
       "      <td></td>\n",
       "      <td>ai philosophy: a process not a product\\nai phi...</td>\n",
       "      <td>AI Enabled. The organization has deployed the ...</td>\n",
       "      <td>Who can measure if the data science decision w...</td>\n",
       "    </tr>\n",
       "  </tbody>\n",
       "</table>\n",
       "<p>4094 rows × 9 columns</p>\n",
       "</div>"
      ],
      "text/plain": [
       "      index                                        Unit  \\\n",
       "0         6               Data Science Project Planning   \n",
       "1         6               Data Science Project Planning   \n",
       "2         6               Data Science Project Planning   \n",
       "3         6               Data Science Project Planning   \n",
       "4         6               Data Science Project Planning   \n",
       "...     ...                                         ...   \n",
       "4089    262  Problem Identification and Solution Vision   \n",
       "4090    262  Problem Identification and Solution Vision   \n",
       "4091    262  Problem Identification and Solution Vision   \n",
       "4092    262  Problem Identification and Solution Vision   \n",
       "4093    262  Problem Identification and Solution Vision   \n",
       "\n",
       "                      Module                                    Title  \\\n",
       "0        Developing a Vision                         Module 4 Summary   \n",
       "1        Developing a Vision                         Module 4 Summary   \n",
       "2        Developing a Vision                         Module 4 Summary   \n",
       "3        Developing a Vision                         Module 4 Summary   \n",
       "4        Developing a Vision                         Module 4 Summary   \n",
       "...                      ...                                      ...   \n",
       "4089  Problem Identification  AI Philosophy: A Process, not a Product   \n",
       "4090  Problem Identification  AI Philosophy: A Process, not a Product   \n",
       "4091  Problem Identification  AI Philosophy: A Process, not a Product   \n",
       "4092  Problem Identification  AI Philosophy: A Process, not a Product   \n",
       "4093  Problem Identification  AI Philosophy: A Process, not a Product   \n",
       "\n",
       "                                                   Text Subheaders  \\\n",
       "0     This module focuses on the foundation of a doc...              \n",
       "1     This module focuses on the foundation of a doc...              \n",
       "2     This module focuses on the foundation of a doc...              \n",
       "3     This module focuses on the foundation of a doc...              \n",
       "4     This module focuses on the foundation of a doc...              \n",
       "...                                                 ...        ...   \n",
       "4089  AI Philosophy: A Process, not a Product\\nAI Ph...              \n",
       "4090  AI Philosophy: A Process, not a Product\\nAI Ph...              \n",
       "4091  AI Philosophy: A Process, not a Product\\nAI Ph...              \n",
       "4092  AI Philosophy: A Process, not a Product\\nAI Ph...              \n",
       "4093  AI Philosophy: A Process, not a Product\\nAI Ph...              \n",
       "\n",
       "                                           Cleaned Text  \\\n",
       "0     this module focuses on the foundation of a doc...   \n",
       "1     this module focuses on the foundation of a doc...   \n",
       "2     this module focuses on the foundation of a doc...   \n",
       "3     this module focuses on the foundation of a doc...   \n",
       "4     this module focuses on the foundation of a doc...   \n",
       "...                                                 ...   \n",
       "4089  ai philosophy: a process not a product\\nai phi...   \n",
       "4090  ai philosophy: a process not a product\\nai phi...   \n",
       "4091  ai philosophy: a process not a product\\nai phi...   \n",
       "4092  ai philosophy: a process not a product\\nai phi...   \n",
       "4093  ai philosophy: a process not a product\\nai phi...   \n",
       "\n",
       "                                              Paragraph  \\\n",
       "0     This module focuses on the foundation of a doc...   \n",
       "1     This module focuses on the foundation of a doc...   \n",
       "2     This module focuses on the foundation of a doc...   \n",
       "3     The project's high-level scope and purpose are...   \n",
       "4     The project's high-level scope and purpose are...   \n",
       "...                                                 ...   \n",
       "4089  AI Ready. The organization has determined how ...   \n",
       "4090  AI Ready. The organization has determined how ...   \n",
       "4091  AI Enabled. The organization has deployed the ...   \n",
       "4092  AI Enabled. The organization has deployed the ...   \n",
       "4093  AI Enabled. The organization has deployed the ...   \n",
       "\n",
       "                                     Generated Question  \n",
       "0     What module focuses on the foundation of a doc...  \n",
       "1      What document provides a summary of the project?  \n",
       "2            How does this document clear up confusion?  \n",
       "3     In what document is the project's scope and pu...  \n",
       "4                   What is the purpose of the project?  \n",
       "...                                                 ...  \n",
       "4089                           What does AI Ready mean?  \n",
       "4090                         How can AI help end-users?  \n",
       "4091  What is an organization able to measure the im...  \n",
       "4092  What can an organization claim that it has imp...  \n",
       "4093  Who can measure if the data science decision w...  \n",
       "\n",
       "[4094 rows x 9 columns]"
      ]
     },
     "execution_count": 137,
     "metadata": {},
     "output_type": "execute_result"
    }
   ],
   "source": [
    "df_oli_with_questions.reset_index()"
   ]
  },
  {
   "cell_type": "code",
   "execution_count": 138,
   "metadata": {},
   "outputs": [
    {
     "data": {
      "text/html": [
       "<div>\n",
       "<style scoped>\n",
       "    .dataframe tbody tr th:only-of-type {\n",
       "        vertical-align: middle;\n",
       "    }\n",
       "\n",
       "    .dataframe tbody tr th {\n",
       "        vertical-align: top;\n",
       "    }\n",
       "\n",
       "    .dataframe thead th {\n",
       "        text-align: right;\n",
       "    }\n",
       "</style>\n",
       "<table border=\"1\" class=\"dataframe\">\n",
       "  <thead>\n",
       "    <tr style=\"text-align: right;\">\n",
       "      <th></th>\n",
       "      <th>Unit</th>\n",
       "      <th>Module</th>\n",
       "      <th>Title</th>\n",
       "      <th>Text</th>\n",
       "      <th>Subheaders</th>\n",
       "      <th>Cleaned Text</th>\n",
       "      <th>Paragraph</th>\n",
       "      <th>Generated Question</th>\n",
       "    </tr>\n",
       "  </thead>\n",
       "  <tbody>\n",
       "    <tr>\n",
       "      <th>6</th>\n",
       "      <td>Data Science Project Planning</td>\n",
       "      <td>Developing a Vision</td>\n",
       "      <td>Module 4 Summary</td>\n",
       "      <td>This module focuses on the foundation of a doc...</td>\n",
       "      <td></td>\n",
       "      <td>this module focuses on the foundation of a doc...</td>\n",
       "      <td>This module focuses on the foundation of a doc...</td>\n",
       "      <td>What module focuses on the foundation of a doc...</td>\n",
       "    </tr>\n",
       "    <tr>\n",
       "      <th>6</th>\n",
       "      <td>Data Science Project Planning</td>\n",
       "      <td>Developing a Vision</td>\n",
       "      <td>Module 4 Summary</td>\n",
       "      <td>This module focuses on the foundation of a doc...</td>\n",
       "      <td></td>\n",
       "      <td>this module focuses on the foundation of a doc...</td>\n",
       "      <td>This module focuses on the foundation of a doc...</td>\n",
       "      <td>What document provides a summary of the project?</td>\n",
       "    </tr>\n",
       "    <tr>\n",
       "      <th>6</th>\n",
       "      <td>Data Science Project Planning</td>\n",
       "      <td>Developing a Vision</td>\n",
       "      <td>Module 4 Summary</td>\n",
       "      <td>This module focuses on the foundation of a doc...</td>\n",
       "      <td></td>\n",
       "      <td>this module focuses on the foundation of a doc...</td>\n",
       "      <td>This module focuses on the foundation of a doc...</td>\n",
       "      <td>How does this document clear up confusion?</td>\n",
       "    </tr>\n",
       "    <tr>\n",
       "      <th>6</th>\n",
       "      <td>Data Science Project Planning</td>\n",
       "      <td>Developing a Vision</td>\n",
       "      <td>Module 4 Summary</td>\n",
       "      <td>This module focuses on the foundation of a doc...</td>\n",
       "      <td></td>\n",
       "      <td>this module focuses on the foundation of a doc...</td>\n",
       "      <td>The project's high-level scope and purpose are...</td>\n",
       "      <td>In what document is the project's scope and pu...</td>\n",
       "    </tr>\n",
       "    <tr>\n",
       "      <th>6</th>\n",
       "      <td>Data Science Project Planning</td>\n",
       "      <td>Developing a Vision</td>\n",
       "      <td>Module 4 Summary</td>\n",
       "      <td>This module focuses on the foundation of a doc...</td>\n",
       "      <td></td>\n",
       "      <td>this module focuses on the foundation of a doc...</td>\n",
       "      <td>The project's high-level scope and purpose are...</td>\n",
       "      <td>What is the purpose of the project?</td>\n",
       "    </tr>\n",
       "  </tbody>\n",
       "</table>\n",
       "</div>"
      ],
      "text/plain": [
       "                            Unit               Module             Title  \\\n",
       "6  Data Science Project Planning  Developing a Vision  Module 4 Summary   \n",
       "6  Data Science Project Planning  Developing a Vision  Module 4 Summary   \n",
       "6  Data Science Project Planning  Developing a Vision  Module 4 Summary   \n",
       "6  Data Science Project Planning  Developing a Vision  Module 4 Summary   \n",
       "6  Data Science Project Planning  Developing a Vision  Module 4 Summary   \n",
       "\n",
       "                                                Text Subheaders  \\\n",
       "6  This module focuses on the foundation of a doc...              \n",
       "6  This module focuses on the foundation of a doc...              \n",
       "6  This module focuses on the foundation of a doc...              \n",
       "6  This module focuses on the foundation of a doc...              \n",
       "6  This module focuses on the foundation of a doc...              \n",
       "\n",
       "                                        Cleaned Text  \\\n",
       "6  this module focuses on the foundation of a doc...   \n",
       "6  this module focuses on the foundation of a doc...   \n",
       "6  this module focuses on the foundation of a doc...   \n",
       "6  this module focuses on the foundation of a doc...   \n",
       "6  this module focuses on the foundation of a doc...   \n",
       "\n",
       "                                           Paragraph  \\\n",
       "6  This module focuses on the foundation of a doc...   \n",
       "6  This module focuses on the foundation of a doc...   \n",
       "6  This module focuses on the foundation of a doc...   \n",
       "6  The project's high-level scope and purpose are...   \n",
       "6  The project's high-level scope and purpose are...   \n",
       "\n",
       "                                  Generated Question  \n",
       "6  What module focuses on the foundation of a doc...  \n",
       "6   What document provides a summary of the project?  \n",
       "6         How does this document clear up confusion?  \n",
       "6  In what document is the project's scope and pu...  \n",
       "6                What is the purpose of the project?  "
      ]
     },
     "metadata": {},
     "output_type": "display_data"
    }
   ],
   "source": [
    "display(df_oli_with_questions.head())"
   ]
  },
  {
   "cell_type": "code",
   "execution_count": 139,
   "metadata": {},
   "outputs": [
    {
     "data": {
      "text/plain": [
       "['The goodness of fit of a model will show how the model fits the data that it is trained with, and it will highlight any lack of balance between observations in the dataset and those that will be introduced to the model (new values). To select the right method, one can use the different metrics below:',\n",
       " 'What will highlight a lack of balance between observations in the dataset and those that will be introduced to the model?']"
      ]
     },
     "execution_count": 139,
     "metadata": {},
     "output_type": "execute_result"
    }
   ],
   "source": [
    "df_oli_with_questions.reset_index().iloc[2026, [-2, -1]].tolist()"
   ]
  }
 ],
 "metadata": {
  "kernel_info": {
   "name": "python3"
  },
  "kernelspec": {
   "display_name": "Python 3",
   "language": "python",
   "name": "python3"
  },
  "language_info": {
   "codemirror_mode": {
    "name": "ipython",
    "version": 3
   },
   "file_extension": ".py",
   "mimetype": "text/x-python",
   "name": "python",
   "nbconvert_exporter": "python",
   "pygments_lexer": "ipython3",
   "version": "3.10.10"
  },
  "nteract": {
   "version": "nteract-front-end@1.0.0"
  },
  "vscode": {
   "interpreter": {
    "hash": "43afbf7b8c92a6397086dae0be21e5b6ecbdfbb1f0b6983c22cfbb740a73e7f5"
   }
  }
 },
 "nbformat": 4,
 "nbformat_minor": 2
}
