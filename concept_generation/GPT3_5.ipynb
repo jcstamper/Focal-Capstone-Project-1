{
 "cells": [
  {
   "cell_type": "code",
   "execution_count": 2,
   "metadata": {},
   "outputs": [],
   "source": [
    "import openai\n",
    "from xml.etree import ElementTree as ET\n",
    "\n",
    "openai.api_key = ''  \n",
    "\n",
    "\n",
    "def extract_text_from_xml(filename):\n",
    "    with open(filename, 'rb') as f:\n",
    "        xml_bytes = f.read()\n",
    "    xml_str = xml_bytes.decode('UTF-8')\n",
    "    return xml_str\n",
    "\n",
    "def find_keywords(xml_file_path):\n",
    "    xml = extract_text_from_xml(xml_file_path)\n",
    "    response = openai.ChatCompletion.create(\n",
    "      model=\"gpt-3.5-turbo\",\n",
    "      messages=[\n",
    "      {\n",
    "        \"role\": \"user\",\n",
    "        \"content\": f\"extract key concepts from the following xml text and put them in a numbered list with no header: {xml}\"\n",
    "      }\n",
    "      ],\n",
    "    temperature=1,\n",
    "    max_tokens=256,\n",
    "    top_p=1,\n",
    "    frequency_penalty=0,\n",
    "    presence_penalty=0\n",
    "    )\n",
    "    return response\n",
    "\n",
    "def write_questions(concepts, xml_file_path):\n",
    "    xml = extract_text_from_xml(xml_file_path)\n",
    "    response = openai.ChatCompletion.create(\n",
    "      model=\"gpt-3.5-turbo\",\n",
    "      messages=[\n",
    "      {\n",
    "        \"role\": \"user\",\n",
    "        \"content\": f\"create a question for each concept in the numbered list using the xml content: {concepts}{xml}\"\n",
    "      }\n",
    "      ],\n",
    "    temperature=1,\n",
    "    max_tokens=256,\n",
    "    top_p=1,\n",
    "    frequency_penalty=0,\n",
    "    presence_penalty=0\n",
    "    )\n",
    "    return response"
   ]
  },
  {
   "cell_type": "code",
   "execution_count": 3,
   "metadata": {},
   "outputs": [],
   "source": [
    "xml_file_path = 'a3e60ec52fd1485daf95a85dac31bbff.xml'\n",
    "response = find_keywords(xml_file_path)\n",
    "concepts = response[\"choices\"][0][\"message\"][\"content\"]\n",
    "questions = write_questions(concepts, xml_file_path)"
   ]
  },
  {
   "cell_type": "code",
   "execution_count": 6,
   "metadata": {},
   "outputs": [
    {
     "name": "stdout",
     "output_type": "stream",
     "text": [
      "{\n",
      "  \"choices\": [\n",
      "    {\n",
      "      \"finish_reason\": \"stop\",\n",
      "      \"index\": 0,\n",
      "      \"message\": {\n",
      "        \"content\": \"1. Validating Requirements\\n2. Importance of evaluation at each step of the process\\n3. Conducting validation and verification exercises for requirements\\n4. Confirming that requirements meet business and user needs\\n5. Tracing requirements back to defined objectives\\n6. Validating requirements to ensure completeness, correctness, traceability, verifiability, and testability\\n7. Avoiding errors by validating previously defined requirements\\n8. Validating requirements throughout the solution development process\\n9. Saving project time and cost through requirement validation\\n10. Steps to validate requirements: \\n   - Review requirements\\n   - Prototype requirements\\n   - Test requirements\\n11. Peer-review process for identifying ambiguities in requirements\\n12. Use of prototypes and mockups to validate requirements\\n13. User acceptance tests as a validation method\\n14. Setting acceptance criteria using SMART goals\\n15. Formal sign-off to confirm approval and acceptance of defined requirements\\n16. Beginning development of solution/solutions after sign-off\",\n",
      "        \"role\": \"assistant\"\n",
      "      }\n",
      "    }\n",
      "  ],\n",
      "  \"created\": 1695589980,\n",
      "  \"id\": \"chatcmpl-82QhQbikZlAte0PXiSWsAs1bBys6P\",\n",
      "  \"model\": \"gpt-3.5-turbo-0613\",\n",
      "  \"object\": \"chat.completion\",\n",
      "  \"usage\": {\n",
      "    \"completion_tokens\": 197,\n",
      "    \"prompt_tokens\": 1258,\n",
      "    \"total_tokens\": 1455\n",
      "  }\n",
      "}\n"
     ]
    }
   ],
   "source": [
    "print (response)"
   ]
  },
  {
   "cell_type": "code",
   "execution_count": 7,
   "metadata": {},
   "outputs": [
    {
     "name": "stdout",
     "output_type": "stream",
     "text": [
      "['Validating Requirements', 'Importance of evaluation at each step of the process', 'Conducting validation and verification exercises for requirements', 'Confirming that requirements meet business and user needs', 'Tracing requirements back to defined objectives', 'Validating requirements to ensure completeness, correctness, traceability, verifiability, and testability', 'Avoiding errors by validating previously defined requirements', 'Validating requirements throughout the solution development process', 'Saving project time and cost through requirement validation', 'Steps to validate requirements: ', '  - Review requirements', '  - Prototype requirements', '  - Test requirements', 'Peer-review process for identifying ambiguities in requirements', 'Use of prototypes and mockups to validate requirements', 'User acceptance tests as a validation method', 'Setting acceptance criteria using SMART goals', 'Formal sign-off to confirm approval and acceptance of defined requirements', 'Beginning development of solution/solutions after sign-off']\n"
     ]
    }
   ],
   "source": [
    "content_list = concepts.split('\\n')\n",
    "cleaned_content_list = []\n",
    "for item in content_list:\n",
    "    # Find the index of the first space after the leading number and dot and slice the string from that index\n",
    "    cleaned_item = item[item.find('. ') + 2:]\n",
    "    cleaned_content_list.append(cleaned_item)\n",
    "\n",
    "# Now cleaned_content_list contains the required list of strings\n",
    "print(cleaned_content_list)"
   ]
  },
  {
   "cell_type": "code",
   "execution_count": 4,
   "metadata": {},
   "outputs": [
    {
     "name": "stdout",
     "output_type": "stream",
     "text": [
      "1. Validating Requirements\n",
      "2. Importance of evaluation at each step of the process\n",
      "3. Conducting validation and verification exercises for requirements\n",
      "4. Confirming that requirements meet business and user needs\n",
      "5. Tracing requirements back to defined objectives\n",
      "6. Validating requirements to ensure completeness, correctness, traceability, verifiability, and testability\n",
      "7. Avoiding errors by validating previously defined requirements\n",
      "8. Validating requirements throughout the solution development process\n",
      "9. Saving project time and cost through requirement validation\n",
      "10. Steps to validate requirements: \n",
      "   - Review requirements\n",
      "   - Prototype requirements\n",
      "   - Test requirements\n",
      "11. Peer-review process for identifying ambiguities in requirements\n",
      "12. Use of prototypes and mockups to validate requirements\n",
      "13. User acceptance tests as a validation method\n",
      "14. Setting acceptance criteria using SMART goals\n",
      "15. Formal sign-off to confirm approval and acceptance of defined requirements\n",
      "16. Beginning development of solution/solutions after sign-off\n"
     ]
    }
   ],
   "source": [
    "print(concepts)"
   ]
  },
  {
   "cell_type": "code",
   "execution_count": 5,
   "metadata": {},
   "outputs": [
    {
     "name": "stdout",
     "output_type": "stream",
     "text": [
      "1. What is the importance of validating requirements in the requirements gathering process?\n",
      "2. How does the linear requirements gathering process help in identifying and fixing errors?\n",
      "3. Why is it necessary to conduct evaluation at each step of the process?\n",
      "4. How can validation and verification exercises ensure that requirements meet the needs of the business and users?\n",
      "5. How can requirements be traced back to business and analytic objectives?\n",
      "6. What are the properties that requirements should have to ensure completeness, correctness, traceability, verifiability, and testability?\n",
      "7. Why is it recommended to perform validation before solution delivery?\n",
      "8. How can wasting time and money be avoided by validating previously defined requirements?\n",
      "9. How can requirements be validated throughout the solution development process?\n",
      "10. What are the benefits of testing without implementation in the validation process?\n",
      "11. What are the steps involved in the validation of requirements?\n",
      "12. Why is peer review of the requirements management plan important?\n",
      "13. How can prototyping techniques such as simulations, proof-of-concept prototypes, and paper mockups be used to validate requirements?\n",
      "14. What is the role of acceptance tests in assessing the solution's meeting of acceptance criteria?\n",
      "15. How can acceptance criteria be set with SMART goals?\n",
      "16. Why is formal sign-off\n"
     ]
    }
   ],
   "source": [
    "print(questions[\"choices\"][0][\"message\"][\"content\"])"
   ]
  },
  {
   "cell_type": "code",
   "execution_count": 6,
   "metadata": {},
   "outputs": [
    {
     "name": "stdout",
     "output_type": "stream",
     "text": [
      "1. VSEPR Theory\n",
      "2. Lewis structures\n",
      "3. Bond angle\n",
      "4. Bond distance\n",
      "5. Valence shell electron-pair repulsion theory (VSEPR theory)\n",
      "6. Electron pairs\n",
      "7. Bonding pairs\n",
      "8. Lone pairs\n",
      "9. Electron density\n",
      "10. Molecular structure\n",
      "11. Tetrahedral bond shape\n",
      "12. Bond lengths and angles\n",
      "13. Gaseous BeF2 molecule\n",
      "14. Linear structure\n",
      "15. Electron-pair geometry\n",
      "16. Molecular geometry\n",
      "17. Electron-pair repulsions\n",
      "18. Nuclear-nuclear repulsions\n",
      "19. Nuclear-electron attractions\n",
      "20. Methane molecule (CH4)\n",
      "21. Ammonia molecule (NH3)\n",
      "22. Pull down menu\n",
      "23. Electron geometry\n",
      "24. Molecule geometry\n",
      "25. Lone pairs\n"
     ]
    }
   ],
   "source": [
    "xml_file_path = 'p1_electron_molec_geo.xml'\n",
    "response = find_keywords(xml_file_path)\n",
    "print(response[\"choices\"][0][\"message\"][\"content\"])"
   ]
  }
 ],
 "metadata": {
  "kernelspec": {
   "display_name": "Python 3",
   "language": "python",
   "name": "python3"
  },
  "language_info": {
   "codemirror_mode": {
    "name": "ipython",
    "version": 3
   },
   "file_extension": ".py",
   "mimetype": "text/x-python",
   "name": "python",
   "nbconvert_exporter": "python",
   "pygments_lexer": "ipython3",
   "version": "3.10.10"
  },
  "orig_nbformat": 4
 },
 "nbformat": 4,
 "nbformat_minor": 2
}
