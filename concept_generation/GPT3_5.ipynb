{
 "cells": [
  {
   "cell_type": "code",
   "execution_count": 2,
   "metadata": {},
   "outputs": [],
   "source": [
    "import openai\n",
    "from xml.etree import ElementTree as ET\n",
    "\n",
    "openai.api_key = 'INSERT OPENAI API_KEY'  \n",
    "\n",
    "\n",
    "def extract_text_from_xml(filename):\n",
    "    with open(filename, 'rb') as f:\n",
    "        xml_bytes = f.read()\n",
    "    xml_str = xml_bytes.decode('UTF-8')\n",
    "    return xml_str\n",
    "\n",
    "def find_keywords(xml_file_path):\n",
    "    xml = extract_text_from_xml(xml_file_path)\n",
    "    response = openai.ChatCompletion.create(\n",
    "      model=\"gpt-3.5-turbo\",\n",
    "      messages=[\n",
    "      {\n",
    "        \"role\": \"user\",\n",
    "        \"content\": f\"extract key concepts from the following xml text and put them in a numbered list with no header: {xml}\"\n",
    "      }\n",
    "      ],\n",
    "    temperature=1,\n",
    "    max_tokens=256,\n",
    "    top_p=1,\n",
    "    frequency_penalty=0,\n",
    "    presence_penalty=0\n",
    "    )\n",
    "    return response\n",
    "\n",
    "def write_questions(concepts, xml_file_path):\n",
    "    xml = extract_text_from_xml(xml_file_path)\n",
    "    response = openai.ChatCompletion.create(\n",
    "      model=\"gpt-3.5-turbo\",\n",
    "      messages=[\n",
    "      {\n",
    "        \"role\": \"user\",\n",
    "        \"content\": f\"create a question for each concept in the numbered list using the xml content: {concepts}{xml}\"\n",
    "      }\n",
    "      ],\n",
    "    temperature=1,\n",
    "    max_tokens=256,\n",
    "    top_p=1,\n",
    "    frequency_penalty=0,\n",
    "    presence_penalty=0\n",
    "    )\n",
    "    return response"
   ]
  },
  {
   "cell_type": "code",
   "execution_count": 3,
   "metadata": {},
   "outputs": [],
   "source": [
    "xml_file_path = 'a3e60ec52fd1485daf95a85dac31bbff.xml'\n",
    "response = find_keywords(xml_file_path)\n",
    "concepts = response[\"choices\"][0][\"message\"][\"content\"]\n",
    "questions = write_questions(concepts, xml_file_path)"
   ]
  },
  {
   "cell_type": "code",
   "execution_count": 6,
   "metadata": {},
   "outputs": [
    {
     "name": "stdout",
     "output_type": "stream",
     "text": [
      "1. Validating Requirements\n",
      "2. Linear Requirements Gathering Process\n",
      "3. Evaluation at Each Step of the Process\n",
      "4. Identification and Fixing of Errors\n",
      "5. Conducting Validation and Verification Exercises\n",
      "6. Confirming that Requirements Meet the Needs of the Business and Users\n",
      "7. Tracing Requirements Back to Business and Analytic Objectives\n",
      "8. Validating Requirements to Ensure Completeness, Correctness, Traceability, Verifiability, and Testability\n",
      "9. Performing Validation Before Solution Delivery\n",
      "10. Avoiding Wasting Time and Money by Validating Previously Defined Requirements\n",
      "11. Validating Requirements Throughout Solution Development Process\n",
      "12. Testing Without Implementation\n",
      "13. Saving Project Time and Cost\n",
      "14. Steps to Validate Requirements:\n",
      "  a. Reviewing Requirements\n",
      "  b. Prototyping Requirements\n",
      "  c. Testing Requirements\n",
      "15. Peer Review of Requirements Management Plan\n",
      "16. Ambiguity and Defects Document\n",
      "17. Prototyping Techniques: Simulations, Proof-of-concept (POC) Prototypes, and Paper Mockups\n",
      "18. Acceptance Tests to Assess Solution's Meeting of Acceptance Criteria\n",
      "19. Setting Acceptance Criteria with SMART Goals\n",
      "20. Formal Sign-off Confirmation for Approved and Accepted Requirements\n",
      "21. Beginning Solution Development\n"
     ]
    }
   ],
   "source": [
    "print(concepts)"
   ]
  },
  {
   "cell_type": "code",
   "execution_count": 5,
   "metadata": {},
   "outputs": [
    {
     "name": "stdout",
     "output_type": "stream",
     "text": [
      "1. What is the importance of validating requirements in the requirements gathering process?\n",
      "2. How does the linear requirements gathering process help in identifying and fixing errors?\n",
      "3. Why is it necessary to conduct evaluation at each step of the process?\n",
      "4. How can validation and verification exercises ensure that requirements meet the needs of the business and users?\n",
      "5. How can requirements be traced back to business and analytic objectives?\n",
      "6. What are the properties that requirements should have to ensure completeness, correctness, traceability, verifiability, and testability?\n",
      "7. Why is it recommended to perform validation before solution delivery?\n",
      "8. How can wasting time and money be avoided by validating previously defined requirements?\n",
      "9. How can requirements be validated throughout the solution development process?\n",
      "10. What are the benefits of testing without implementation in the validation process?\n",
      "11. What are the steps involved in the validation of requirements?\n",
      "12. Why is peer review of the requirements management plan important?\n",
      "13. How can prototyping techniques such as simulations, proof-of-concept prototypes, and paper mockups be used to validate requirements?\n",
      "14. What is the role of acceptance tests in assessing the solution's meeting of acceptance criteria?\n",
      "15. How can acceptance criteria be set with SMART goals?\n",
      "16. Why is formal sign-off\n"
     ]
    }
   ],
   "source": [
    "print(questions[\"choices\"][0][\"message\"][\"content\"])"
   ]
  },
  {
   "cell_type": "code",
   "execution_count": 6,
   "metadata": {},
   "outputs": [
    {
     "name": "stdout",
     "output_type": "stream",
     "text": [
      "1. VSEPR Theory\n",
      "2. Lewis structures\n",
      "3. Bond angle\n",
      "4. Bond distance\n",
      "5. Valence shell electron-pair repulsion theory (VSEPR theory)\n",
      "6. Electron pairs\n",
      "7. Bonding pairs\n",
      "8. Lone pairs\n",
      "9. Electron density\n",
      "10. Molecular structure\n",
      "11. Tetrahedral bond shape\n",
      "12. Bond lengths and angles\n",
      "13. Gaseous BeF2 molecule\n",
      "14. Linear structure\n",
      "15. Electron-pair geometry\n",
      "16. Molecular geometry\n",
      "17. Electron-pair repulsions\n",
      "18. Nuclear-nuclear repulsions\n",
      "19. Nuclear-electron attractions\n",
      "20. Methane molecule (CH4)\n",
      "21. Ammonia molecule (NH3)\n",
      "22. Pull down menu\n",
      "23. Electron geometry\n",
      "24. Molecule geometry\n",
      "25. Lone pairs\n"
     ]
    }
   ],
   "source": [
    "xml_file_path = 'p1_electron_molec_geo.xml'\n",
    "response = find_keywords(xml_file_path)\n",
    "print(response[\"choices\"][0][\"message\"][\"content\"])"
   ]
  }
 ],
 "metadata": {
  "kernelspec": {
   "display_name": "Python 3",
   "language": "python",
   "name": "python3"
  },
  "language_info": {
   "codemirror_mode": {
    "name": "ipython",
    "version": 3
   },
   "file_extension": ".py",
   "mimetype": "text/x-python",
   "name": "python",
   "nbconvert_exporter": "python",
   "pygments_lexer": "ipython3",
   "version": "3.10.10"
  },
  "orig_nbformat": 4
 },
 "nbformat": 4,
 "nbformat_minor": 2
}
